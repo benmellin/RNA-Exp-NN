{
  "nbformat": 4,
  "nbformat_minor": 0,
  "metadata": {
    "colab": {
      "provenance": [],
      "gpuType": "T4"
    },
    "kernelspec": {
      "name": "python3",
      "display_name": "Python 3"
    },
    "language_info": {
      "name": "python"
    },
    "accelerator": "GPU"
  },
  "cells": [
    {
      "cell_type": "markdown",
      "source": [
        "# A Fully Connected Deep Learning Network to Determine Cancer Tumor Variety Given Patient Gene Expression\n",
        "\n",
        "- Link to Data set: https://archive.ics.uci.edu/dataset/401/gene+expression+cancer+rna+seq\n",
        "- The dataset contains data from 801 patients and gene expression levels of 20,531 genes.\n",
        "- Patients have one of five tumors in this dataset: Breast invasive carcinoma (BRCA), Kidney renal clear cell carcinoma (KIRC), Colon adenocarcinoma (COAD), Lung adenocarcinoma (LUAD), and Prostate adenocarcinoma (PRAD).\n",
        "- The goal is to classify the patient by which tumor they have given their gene expression levels.\n",
        "- Much of this code has been adapted from Mike X Cohen's \"A Deep Understanding of Deep Learning\" course.\n"
      ],
      "metadata": {
        "id": "umd75TXNafYk"
      }
    },
    {
      "cell_type": "code",
      "source": [
        "# import libraries\n",
        "import numpy as np\n",
        "import pandas as pd\n",
        "from sklearn.preprocessing import MinMaxScaler\n",
        "from sklearn.model_selection import train_test_split\n",
        "\n",
        "import torch\n",
        "import torch.nn as nn\n",
        "import torch.nn.functional as F\n",
        "\n",
        "# for printing out status reports\n",
        "import sys\n",
        "\n",
        "# for importing data\n",
        "import torchvision\n",
        "import torchvision.transforms as T\n",
        "from torch.utils.data import DataLoader,Subset,TensorDataset\n",
        "from google.colab import drive,files\n",
        "\n",
        "import matplotlib.pyplot as plt\n",
        "from IPython import display\n",
        "display.set_matplotlib_formats('svg')"
      ],
      "metadata": {
        "colab": {
          "base_uri": "https://localhost:8080/"
        },
        "id": "b3UQG81zbdZP",
        "outputId": "ff59d951-56fc-44c0-fe7d-ac21e2bd0a0a"
      },
      "execution_count": null,
      "outputs": [
        {
          "output_type": "stream",
          "name": "stderr",
          "text": [
            "<ipython-input-1-372c9e844a7b>:22: DeprecationWarning: `set_matplotlib_formats` is deprecated since IPython 7.23, directly use `matplotlib_inline.backend_inline.set_matplotlib_formats()`\n",
            "  display.set_matplotlib_formats('svg')\n"
          ]
        }
      ]
    },
    {
      "cell_type": "code",
      "source": [
        "# use GPU if available\n",
        "device = torch.device('cuda:0' if torch.cuda.is_available() else 'cpu')\n",
        "print(device)"
      ],
      "metadata": {
        "colab": {
          "base_uri": "https://localhost:8080/"
        },
        "id": "6BsgUuDlfYTu",
        "outputId": "2e8b4aef-7c47-44d8-ca60-259ab60c2b59"
      },
      "execution_count": null,
      "outputs": [
        {
          "output_type": "stream",
          "name": "stdout",
          "text": [
            "cuda:0\n"
          ]
        }
      ]
    },
    {
      "cell_type": "markdown",
      "source": [
        "# Upload the Data"
      ],
      "metadata": {
        "id": "quSC5_O5fo60"
      }
    },
    {
      "cell_type": "code",
      "source": [
        "drive.mount('/content/drive')"
      ],
      "metadata": {
        "colab": {
          "base_uri": "https://localhost:8080/"
        },
        "id": "_hdbF8qvdCTL",
        "outputId": "d722e8c5-d02f-4b65-9c11-c8f4181285d1"
      },
      "execution_count": null,
      "outputs": [
        {
          "output_type": "stream",
          "name": "stdout",
          "text": [
            "Mounted at /content/drive\n"
          ]
        }
      ]
    },
    {
      "cell_type": "code",
      "source": [
        " # Upload the Data\n",
        "data_file_path = '/content/drive/MyDrive/coding_project/data.csv'\n",
        "data_df = pd.read_csv(data_file_path)\n",
        "\n",
        "labels_file_path = '/content/drive/MyDrive/coding_project/labels.csv'\n",
        "column_names = [\"Samples\",\"Cancer Type\"]\n",
        "labels_df = pd.read_csv(labels_file_path,names=column_names)\n",
        "\n",
        "\n"
      ],
      "metadata": {
        "id": "0EnxVqTIae9k"
      },
      "execution_count": null,
      "outputs": []
    },
    {
      "cell_type": "markdown",
      "source": [
        "# Exploring the data"
      ],
      "metadata": {
        "id": "CzUN2CKAfyYj"
      }
    },
    {
      "cell_type": "code",
      "execution_count": null,
      "metadata": {
        "colab": {
          "base_uri": "https://localhost:8080/"
        },
        "id": "72DdnECYadMV",
        "outputId": "3ea6425f-5725-4127-8924-c99c95d1ec86"
      },
      "outputs": [
        {
          "output_type": "stream",
          "name": "stdout",
          "text": [
            "The Data:\n",
            "     Unnamed: 0  gene_0    gene_1    gene_2    gene_3     gene_4  gene_5  \\\n",
            "0      sample_0     0.0  2.017209  3.265527  5.478487  10.431999     0.0   \n",
            "1      sample_1     0.0  0.592732  1.588421  7.586157   9.623011     0.0   \n",
            "2      sample_2     0.0  3.511759  4.327199  6.881787   9.870730     0.0   \n",
            "3      sample_3     0.0  3.663618  4.507649  6.659068  10.196184     0.0   \n",
            "4      sample_4     0.0  2.655741  2.821547  6.539454   9.738265     0.0   \n",
            "..          ...     ...       ...       ...       ...        ...     ...   \n",
            "796  sample_796     0.0  1.865642  2.718197  7.350099  10.006003     0.0   \n",
            "797  sample_797     0.0  3.942955  4.453807  6.346597  10.056868     0.0   \n",
            "798  sample_798     0.0  3.249582  3.707492  8.185901   9.504082     0.0   \n",
            "799  sample_799     0.0  2.590339  2.787976  7.318624   9.987136     0.0   \n",
            "800  sample_800     0.0  2.325242  3.805932  6.530246   9.560367     0.0   \n",
            "\n",
            "       gene_6    gene_7  gene_8  ...  gene_20521  gene_20522  gene_20523  \\\n",
            "0    7.175175  0.591871     0.0  ...    4.926711    8.210257    9.723516   \n",
            "1    6.816049  0.000000     0.0  ...    4.593372    7.323865    9.740931   \n",
            "2    6.972130  0.452595     0.0  ...    5.125213    8.127123   10.908640   \n",
            "3    7.843375  0.434882     0.0  ...    6.076566    8.792959   10.141520   \n",
            "4    6.566967  0.360982     0.0  ...    5.996032    8.891425   10.373790   \n",
            "..        ...       ...     ...  ...         ...         ...         ...   \n",
            "796  6.764792  0.496922     0.0  ...    6.088133    9.118313   10.004852   \n",
            "797  7.320331  0.000000     0.0  ...    6.371876    9.623335    9.823921   \n",
            "798  7.536589  1.811101     0.0  ...    5.719386    8.610704   10.485517   \n",
            "799  9.213464  0.000000     0.0  ...    5.785237    8.605387   11.004677   \n",
            "800  7.957027  0.000000     0.0  ...    6.403075    8.594354   10.243079   \n",
            "\n",
            "     gene_20524  gene_20525  gene_20526  gene_20527  gene_20528  gene_20529  \\\n",
            "0      7.220030    9.119813   12.003135    9.650743    8.921326    5.286759   \n",
            "1      6.256586    8.381612   12.674552   10.517059    9.397854    2.094168   \n",
            "2      5.401607    9.911597    9.045255    9.788359   10.090470    1.683023   \n",
            "3      8.942805    9.601208   11.392682    9.694814    9.684365    3.292001   \n",
            "4      7.181162    9.846910   11.922439    9.217749    9.461191    5.110372   \n",
            "..          ...         ...         ...         ...         ...         ...   \n",
            "796    4.484415    9.614701   12.031267    9.813063   10.092770    8.819269   \n",
            "797    6.555327    9.064002   11.633422   10.317266    8.745983    9.659081   \n",
            "798    3.589763    9.350636   12.180944   10.681194    9.466711    4.677458   \n",
            "799    4.745888    9.626383   11.198279   10.335513   10.400581    5.718751   \n",
            "800    9.139459   10.102934   11.641081   10.607358    9.844794    4.550716   \n",
            "\n",
            "     gene_20530  \n",
            "0      0.000000  \n",
            "1      0.000000  \n",
            "2      0.000000  \n",
            "3      0.000000  \n",
            "4      0.000000  \n",
            "..          ...  \n",
            "796    0.000000  \n",
            "797    0.000000  \n",
            "798    0.586693  \n",
            "799    0.000000  \n",
            "800    0.000000  \n",
            "\n",
            "[801 rows x 20532 columns]\n",
            "\n",
            " \n",
            "\n",
            "The Labels:\n",
            "        Samples Cancer Type\n",
            "0           NaN       Class\n",
            "1      sample_0        PRAD\n",
            "2      sample_1        LUAD\n",
            "3      sample_2        PRAD\n",
            "4      sample_3        PRAD\n",
            "..          ...         ...\n",
            "797  sample_796        BRCA\n",
            "798  sample_797        LUAD\n",
            "799  sample_798        COAD\n",
            "800  sample_799        PRAD\n",
            "801  sample_800        PRAD\n",
            "\n",
            "[802 rows x 2 columns]\n"
          ]
        }
      ],
      "source": [
        "print(\"The Data:\")\n",
        "print(data_df)\n",
        "print(\"\\n\",\"\\n\")\n",
        "print(\"The Labels:\")\n",
        "print(labels_df)"
      ]
    },
    {
      "cell_type": "code",
      "source": [
        "# Clean the data, dropping unecessary columns and rows\n",
        "clean_data_df=data_df.drop(data_df.columns[0],axis=1)\n",
        "clean_labels_df=labels_df.drop(labels_df.columns[0],axis=1)\n",
        "clean_labels_df=labels_df.drop(clean_labels_df.index[0])\n",
        "clean_labels_df.dropna(inplace=True)\n",
        "clean_labels_df=clean_labels_df.reset_index(drop=True)\n",
        "clean_data_df.dropna(inplace=True)\n",
        "print(clean_data_df)\n",
        "print(\"\\n\",\"\\n\")\n",
        "print(clean_labels_df)"
      ],
      "metadata": {
        "colab": {
          "base_uri": "https://localhost:8080/"
        },
        "id": "iRZfIiBXoo6x",
        "outputId": "c8cf0438-4ded-431c-cbe7-7f7c278f238f"
      },
      "execution_count": null,
      "outputs": [
        {
          "output_type": "stream",
          "name": "stdout",
          "text": [
            "     gene_0    gene_1    gene_2    gene_3     gene_4  gene_5    gene_6  \\\n",
            "0       0.0  2.017209  3.265527  5.478487  10.431999     0.0  7.175175   \n",
            "1       0.0  0.592732  1.588421  7.586157   9.623011     0.0  6.816049   \n",
            "2       0.0  3.511759  4.327199  6.881787   9.870730     0.0  6.972130   \n",
            "3       0.0  3.663618  4.507649  6.659068  10.196184     0.0  7.843375   \n",
            "4       0.0  2.655741  2.821547  6.539454   9.738265     0.0  6.566967   \n",
            "..      ...       ...       ...       ...        ...     ...       ...   \n",
            "796     0.0  1.865642  2.718197  7.350099  10.006003     0.0  6.764792   \n",
            "797     0.0  3.942955  4.453807  6.346597  10.056868     0.0  7.320331   \n",
            "798     0.0  3.249582  3.707492  8.185901   9.504082     0.0  7.536589   \n",
            "799     0.0  2.590339  2.787976  7.318624   9.987136     0.0  9.213464   \n",
            "800     0.0  2.325242  3.805932  6.530246   9.560367     0.0  7.957027   \n",
            "\n",
            "       gene_7  gene_8  gene_9  ...  gene_20521  gene_20522  gene_20523  \\\n",
            "0    0.591871     0.0     0.0  ...    4.926711    8.210257    9.723516   \n",
            "1    0.000000     0.0     0.0  ...    4.593372    7.323865    9.740931   \n",
            "2    0.452595     0.0     0.0  ...    5.125213    8.127123   10.908640   \n",
            "3    0.434882     0.0     0.0  ...    6.076566    8.792959   10.141520   \n",
            "4    0.360982     0.0     0.0  ...    5.996032    8.891425   10.373790   \n",
            "..        ...     ...     ...  ...         ...         ...         ...   \n",
            "796  0.496922     0.0     0.0  ...    6.088133    9.118313   10.004852   \n",
            "797  0.000000     0.0     0.0  ...    6.371876    9.623335    9.823921   \n",
            "798  1.811101     0.0     0.0  ...    5.719386    8.610704   10.485517   \n",
            "799  0.000000     0.0     0.0  ...    5.785237    8.605387   11.004677   \n",
            "800  0.000000     0.0     0.0  ...    6.403075    8.594354   10.243079   \n",
            "\n",
            "     gene_20524  gene_20525  gene_20526  gene_20527  gene_20528  gene_20529  \\\n",
            "0      7.220030    9.119813   12.003135    9.650743    8.921326    5.286759   \n",
            "1      6.256586    8.381612   12.674552   10.517059    9.397854    2.094168   \n",
            "2      5.401607    9.911597    9.045255    9.788359   10.090470    1.683023   \n",
            "3      8.942805    9.601208   11.392682    9.694814    9.684365    3.292001   \n",
            "4      7.181162    9.846910   11.922439    9.217749    9.461191    5.110372   \n",
            "..          ...         ...         ...         ...         ...         ...   \n",
            "796    4.484415    9.614701   12.031267    9.813063   10.092770    8.819269   \n",
            "797    6.555327    9.064002   11.633422   10.317266    8.745983    9.659081   \n",
            "798    3.589763    9.350636   12.180944   10.681194    9.466711    4.677458   \n",
            "799    4.745888    9.626383   11.198279   10.335513   10.400581    5.718751   \n",
            "800    9.139459   10.102934   11.641081   10.607358    9.844794    4.550716   \n",
            "\n",
            "     gene_20530  \n",
            "0      0.000000  \n",
            "1      0.000000  \n",
            "2      0.000000  \n",
            "3      0.000000  \n",
            "4      0.000000  \n",
            "..          ...  \n",
            "796    0.000000  \n",
            "797    0.000000  \n",
            "798    0.586693  \n",
            "799    0.000000  \n",
            "800    0.000000  \n",
            "\n",
            "[801 rows x 20531 columns]\n",
            "\n",
            " \n",
            "\n",
            "        Samples Cancer Type\n",
            "0      sample_0        PRAD\n",
            "1      sample_1        LUAD\n",
            "2      sample_2        PRAD\n",
            "3      sample_3        PRAD\n",
            "4      sample_4        BRCA\n",
            "..          ...         ...\n",
            "796  sample_796        BRCA\n",
            "797  sample_797        LUAD\n",
            "798  sample_798        COAD\n",
            "799  sample_799        PRAD\n",
            "800  sample_800        PRAD\n",
            "\n",
            "[801 rows x 2 columns]\n"
          ]
        }
      ]
    },
    {
      "cell_type": "code",
      "source": [
        "# View range and stats of the data\n",
        "print(\"Dataset Max:\", clean_data_df.max(axis=1).max(), \"\\nDataset Min:\",clean_data_df.min(axis=1).min(),\"\\nDataset Mean:\",clean_data_df.values.mean(),\"\\nDataset Standard Dev:\",clean_data_df.values.std())"
      ],
      "metadata": {
        "id": "TH9eIn7bliYA",
        "colab": {
          "base_uri": "https://localhost:8080/"
        },
        "outputId": "758aafe1-3b77-49ab-a37e-ab293a07f7d0"
      },
      "execution_count": null,
      "outputs": [
        {
          "output_type": "stream",
          "name": "stdout",
          "text": [
            "Dataset Max: 20.7788287118 \n",
            "Dataset Min: 0.0 \n",
            "Dataset Mean: 6.443322266573226 \n",
            "Dataset Standard Dev: 4.05819368383075\n"
          ]
        }
      ]
    },
    {
      "cell_type": "code",
      "source": [
        "# Normalize Data to between 0 and 1\n",
        "scaler = MinMaxScaler()\n",
        "data_normalized = pd.DataFrame(scaler.fit_transform(clean_data_df), columns=clean_data_df.columns)\n",
        "\n",
        "# Check to see if normalization worked\n",
        "print(\"Dataset Max:\", data_normalized.max(axis=1).max(), \"\\nDataset Min:\",data_normalized.min(axis=1).min(),\"\\nDataset Mean:\",data_normalized.values.mean(),\"\\nDataset Standard Dev:\",data_normalized.values.std())"
      ],
      "metadata": {
        "id": "UeuqDhSikgEB",
        "colab": {
          "base_uri": "https://localhost:8080/"
        },
        "outputId": "e421de57-04a4-4933-b2b4-d4add20140fd"
      },
      "execution_count": null,
      "outputs": [
        {
          "output_type": "stream",
          "name": "stdout",
          "text": [
            "Dataset Max: 1.0000000000000004 \n",
            "Dataset Min: 0.0 \n",
            "Dataset Mean: 0.4076195537797761 \n",
            "Dataset Standard Dev: 0.24990362490204374\n"
          ]
        }
      ]
    },
    {
      "cell_type": "markdown",
      "source": [
        "# Prepare data for Deep Learning\n"
      ],
      "metadata": {
        "id": "YHJ50NAQw7xq"
      }
    },
    {
      "cell_type": "code",
      "source": [
        "# One hot encode labels\n",
        "labels_encoded = pd.get_dummies(clean_labels_df, columns=[\"Cancer Type\"])\n",
        "print(labels_encoded)"
      ],
      "metadata": {
        "colab": {
          "base_uri": "https://localhost:8080/"
        },
        "id": "iY9wlmAgwSoJ",
        "outputId": "7255490b-90eb-4799-e8b1-ba48cf0cfdf9"
      },
      "execution_count": null,
      "outputs": [
        {
          "output_type": "stream",
          "name": "stdout",
          "text": [
            "        Samples  Cancer Type_BRCA  Cancer Type_COAD  Cancer Type_KIRC  \\\n",
            "0      sample_0                 0                 0                 0   \n",
            "1      sample_1                 0                 0                 0   \n",
            "2      sample_2                 0                 0                 0   \n",
            "3      sample_3                 0                 0                 0   \n",
            "4      sample_4                 1                 0                 0   \n",
            "..          ...               ...               ...               ...   \n",
            "796  sample_796                 1                 0                 0   \n",
            "797  sample_797                 0                 0                 0   \n",
            "798  sample_798                 0                 1                 0   \n",
            "799  sample_799                 0                 0                 0   \n",
            "800  sample_800                 0                 0                 0   \n",
            "\n",
            "     Cancer Type_LUAD  Cancer Type_PRAD  \n",
            "0                   0                 1  \n",
            "1                   1                 0  \n",
            "2                   0                 1  \n",
            "3                   0                 1  \n",
            "4                   0                 0  \n",
            "..                ...               ...  \n",
            "796                 0                 0  \n",
            "797                 1                 0  \n",
            "798                 0                 0  \n",
            "799                 0                 1  \n",
            "800                 0                 1  \n",
            "\n",
            "[801 rows x 6 columns]\n"
          ]
        }
      ]
    },
    {
      "cell_type": "code",
      "source": [
        "# Convert from dataframe to Tensor\n",
        "\n",
        "dataT  = torch.tensor(data_normalized.values).float()\n",
        "labelsT = torch.tensor(labels_encoded.iloc[:, 1:].values).float()\n",
        "print(dataT.shape)\n",
        "print(labelsT.shape)"
      ],
      "metadata": {
        "colab": {
          "base_uri": "https://localhost:8080/"
        },
        "id": "Y7q0kLvqzNUp",
        "outputId": "a619daa3-27b7-468d-88c4-cc044a27c36c"
      },
      "execution_count": null,
      "outputs": [
        {
          "output_type": "stream",
          "name": "stdout",
          "text": [
            "torch.Size([801, 20531])\n",
            "torch.Size([801, 5])\n"
          ]
        }
      ]
    },
    {
      "cell_type": "code",
      "source": [
        "# use scikitlearn to split the data into train and devtest sets\n",
        "train_data,devtest_data, train_labels,devtest_labels = train_test_split(dataT, labelsT, test_size=.2)\n",
        "\n",
        "# Split into devset and test set\n",
        "dev_data,test_data, dev_labels,test_labels = train_test_split(devtest_data, devtest_labels, test_size=.5)\n",
        "\n",
        "# Convert to pytorch datasets\n",
        "trainset = TensorDataset(train_data,train_labels)\n",
        "devset  = TensorDataset(dev_data,dev_labels)\n",
        "testset  = TensorDataset(test_data,test_labels)\n",
        "\n",
        "# transform to dataloaders\n",
        "batchsize    = 32\n",
        "train_loader = DataLoader(trainset,batch_size=batchsize,shuffle=True,drop_last=True)\n",
        "dev_loader   = DataLoader(devset,  batch_size=len(devset))\n",
        "test_loader  = DataLoader(testset, batch_size=len(testset))\n",
        "\n"
      ],
      "metadata": {
        "id": "FrdU_BlP2U3B"
      },
      "execution_count": null,
      "outputs": []
    },
    {
      "cell_type": "code",
      "source": [
        "# Ensure data load is the correct shape\n",
        "X,y=next(iter(train_loader))\n",
        "print(X.shape)\n"
      ],
      "metadata": {
        "colab": {
          "base_uri": "https://localhost:8080/"
        },
        "id": "pXMdF4Rc9wyN",
        "outputId": "e334e4ac-e90b-4de8-885a-49b0d84758b0"
      },
      "execution_count": null,
      "outputs": [
        {
          "output_type": "stream",
          "name": "stdout",
          "text": [
            "torch.Size([32, 20531])\n"
          ]
        }
      ]
    },
    {
      "cell_type": "markdown",
      "source": [
        "# Now for the Deep Learning\n"
      ],
      "metadata": {
        "id": "M-X9Z4Iz6z8B"
      }
    },
    {
      "cell_type": "code",
      "source": [
        "# create a class for the model\n",
        "def makeTheNet():\n",
        "\n",
        "  class theNet(nn.Module):\n",
        "    def __init__(self):\n",
        "      super().__init__()\n",
        "\n",
        "      #parameters\n",
        "      #self.dr = .2 #This parameter controls the dropout rate\n",
        "\n",
        "      ### input layer\n",
        "      self.input = nn.Linear(20531,5000)\n",
        "\n",
        "      ### hidden layers\n",
        "      self.fc1 = nn.Linear(5000,1000)\n",
        "      self.bnorm1 = nn.BatchNorm1d(5000)\n",
        "      self.fc2 = nn.Linear(1000,100)\n",
        "      self.bnorm2 = nn.BatchNorm1d(1000)\n",
        "      self.fc3 = nn.Linear(100,10)\n",
        "      self.bnorm3 = nn.BatchNorm1d(100)\n",
        "\n",
        "      ### output layer\n",
        "      self.output = nn.Linear(10,5)\n",
        "\n",
        "    # forward pass\n",
        "    def forward(self,x):\n",
        "      x = F.relu( self.input(x) )\n",
        "      #x = F.dropout(x,p=self.dr,training=self.training) #implement dropout\n",
        "      x = self.bnorm1(x) #batch norm\n",
        "      x = F.relu( self.fc1(x) )\n",
        "     # x = F.dropout(x,p=self.dr,training=self.training)\n",
        "      x = self.bnorm2(x)\n",
        "      x = F.relu( self.fc2(x) )\n",
        "      #x = F.dropout(x,p=self.dr,training=self.training)\n",
        "      x = self.bnorm3(x)\n",
        "      x = F.relu( self.fc3(x) )\n",
        "      return self.output(x)\n",
        "\n",
        "  # create the model instance\n",
        "  net = theNet()\n",
        "\n",
        "  # loss function\n",
        "  lossfun = nn.CrossEntropyLoss()\n",
        "\n",
        "  # optimizer\n",
        "  optimizer = torch.optim.Adam(net.parameters(),lr=.001,weight_decay=1e-5)\n",
        "\n",
        "  return net,lossfun,optimizer"
      ],
      "metadata": {
        "id": "y6HcsKqh69Qp"
      },
      "execution_count": null,
      "outputs": []
    },
    {
      "cell_type": "code",
      "source": [
        "# test the model on some data\n",
        "net,lossfun,opto=makeTheNet()\n",
        "\n",
        "X,y=next(iter(train_loader))\n",
        "yHat=net(X)\n",
        "print(X.shape)\n",
        "print(yHat.shape)"
      ],
      "metadata": {
        "colab": {
          "base_uri": "https://localhost:8080/"
        },
        "id": "KeJvkTvtUwyZ",
        "outputId": "d52df580-e763-473f-dec7-2b0e00574182"
      },
      "execution_count": null,
      "outputs": [
        {
          "output_type": "stream",
          "name": "stdout",
          "text": [
            "torch.Size([32, 20531])\n",
            "torch.Size([32, 5])\n"
          ]
        }
      ]
    },
    {
      "cell_type": "code",
      "source": [
        "# Create a function that trains the model\n",
        "def function2trainTheModel(L1lambda):\n",
        "\n",
        "  # create a new model\n",
        "  net,lossfun,optimizer = makeTheNet()\n",
        "\n",
        "  # send the model to the GPU\n",
        "  net.to(device)\n",
        "\n",
        "  # number of epochs\n",
        "  numepochs = 25\n",
        "\n",
        "  # initialize losses\n",
        "  losses    = torch.zeros(numepochs)\n",
        "  trainAcc  = []\n",
        "  devAcc   = []\n",
        "\n",
        "  # count the total number of weights in the model\n",
        "  nweights = 0\n",
        "  for pname,weight in net.named_parameters():\n",
        "    if 'bias' not in pname:\n",
        "      nweights = nweights + weight.numel()\n",
        "\n",
        "\n",
        "  # loop over epochs\n",
        "  for epochi in range(numepochs):\n",
        "\n",
        "    # loop over training data batches\n",
        "    net.train()\n",
        "    batchAcc  = []\n",
        "    batchLoss = []\n",
        "\n",
        "    for X,y in train_loader:\n",
        "      # push data to GPU\n",
        "      X = X.to(device)\n",
        "      y = y.to(device)\n",
        "\n",
        "      # forward pass and loss\n",
        "      yHat = net(X)\n",
        "      loss = lossfun(yHat,y)\n",
        "\n",
        "      ### add L1 term\n",
        "      L1_term = torch.tensor(0.,requires_grad=True)\n",
        "\n",
        "      # sum up all abs(weights)\n",
        "      for pname,weight in net.named_parameters():\n",
        "        if 'bias' not in pname:\n",
        "           L1_term = L1_term + torch.sum(torch.abs(weight))\n",
        "\n",
        "      # add to loss term\n",
        "      #print(\"before loss\",loss)\n",
        "      loss = loss + L1lambda*L1_term/nweights\n",
        "      #print(\"after loss\",loss)\n",
        "\n",
        "      # backprop\n",
        "      optimizer.zero_grad()\n",
        "      loss.backward()\n",
        "      optimizer.step()\n",
        "\n",
        "      # loss from this batch\n",
        "\n",
        "      batchLoss.append(loss.item())\n",
        "\n",
        "      # compute accuracy\n",
        "      matches = torch.argmax(yHat,axis=1) == torch.argmax(y,axis=1)     # booleans (false/true)\n",
        "      matchesNumeric = matches.float()             # convert to numbers (0/1)\n",
        "      accuracyPct = 100*torch.mean(matchesNumeric) # average and x100\n",
        "      accuracyPct=accuracyPct.cpu()\n",
        "      batchAcc.append( accuracyPct )               # add to list of accuracies\n",
        "      #end of batch loop\n",
        "\n",
        "    # now that we've trained through the batches, get their average training accuracy\n",
        "\n",
        "    trainAcc.append( np.mean(batchAcc) )\n",
        "\n",
        "\n",
        "    # and get average losses across the batches\n",
        "\n",
        "    losses[epochi] = np.mean(batchLoss)\n",
        "\n",
        "    # dev accuracy\n",
        "    net.eval()\n",
        "    X,y = next(iter(dev_loader)) # extract X,y from dev dataloader\n",
        "    X = X.to(device)\n",
        "    y = y.to(device)\n",
        "    with torch.no_grad(): # deactivates autograd\n",
        "      yHat = net(X)\n",
        "\n",
        "    # append to dev acc\n",
        "    devAcc.append( 100*torch.mean((torch.argmax(yHat,axis=1)==torch.argmax(y,axis=1)).float()).cpu() )\n",
        "    msg = f'Finished epoch {epochi+1}/{numepochs}'\n",
        "    sys.stdout.write('\\r' + msg)\n",
        "  # end epochs\n",
        "\n",
        "  # function output\n",
        "  return trainAcc,devAcc,losses,net"
      ],
      "metadata": {
        "id": "-OvPBuvpfujY"
      },
      "execution_count": null,
      "outputs": []
    },
    {
      "cell_type": "markdown",
      "source": [
        "# An experiment to check the effect of L1Lambda Value on the distribution of weights in the trained network\n",
        "- I'd like to create a relatively sparse network that learns the most important features very well.\n",
        "- This may be helpful as I attempt to determine which features are the most important.\n",
        "\n"
      ],
      "metadata": {
        "id": "IzeeicI5IHRm"
      }
    },
    {
      "cell_type": "code",
      "source": [
        "# This function takes a smaller random sample of the weights. This smaller random sample will be used for plotting.\n",
        "def getSubSample(weights,num_samples):\n",
        "  # Generate random indices\n",
        "  random_indices = torch.randperm(weights.size(0))[:num_samples]\n",
        "\n",
        "  # Use the indices to sample data points from the tensor\n",
        "  sampled_data = weights[random_indices]\n",
        "  return sampled_data"
      ],
      "metadata": {
        "id": "O_BurmHgkXmi"
      },
      "execution_count": null,
      "outputs": []
    },
    {
      "cell_type": "code",
      "source": [
        "# This function returns some stats about all of the weights in the model\n",
        "\n",
        "def getWeightStats(net):\n",
        "  # Access the state_dict of the model\n",
        "  model_state_dict = net.state_dict()\n",
        "\n",
        "  weights=torch.tensor([])\n",
        "\n",
        "  # Count the number of zeros in the weights\n",
        "  zero_count = 0\n",
        "  for param_name, param_tensor in model_state_dict.items():\n",
        "    if 'weight' in param_name and \"bnorm\" not in param_name:  # Check if the parameter is a weight\n",
        "\n",
        "      #Create a tensor that contains all weights\n",
        "      temp_weight = param_tensor.flatten()\n",
        "      weights=torch.cat((weights,temp_weight))\n",
        "\n",
        "      # Get the weights that are very close to zero\n",
        "      mask = (-0.00001 < param_tensor) & (param_tensor < 0.00001)\n",
        "      zero_count += torch.sum(mask).item()\n",
        "\n",
        "  max_weights = torch.max(weights)\n",
        "  min_weights = torch.min(weights)\n",
        "  mean_weights = torch.mean(weights)\n",
        "  std_weights = torch.std(weights)\n",
        "\n",
        "  return max_weights,min_weights,mean_weights,std_weights,zero_count,weights\n"
      ],
      "metadata": {
        "id": "Zi6WMoh_xlZX"
      },
      "execution_count": null,
      "outputs": []
    },
    {
      "cell_type": "code",
      "source": [
        "lambda_list = [.00001,.001,.01,1,10,100]\n",
        "\n",
        "results_df = pd.DataFrame(columns=[\"L1Lambda\",\"Number of Zeros\", \"Weights Min\", \"Weights Max\", \"Weights StDev\", \"Weights Mean\", \"Train Accuracy\", \"Dev Accuracy\"])\n",
        "weights_df = pd.DataFrame(columns=[\"L1Lambda\",\"Weights Subset\"])\n",
        "for L1lambda in lambda_list:\n",
        "\n",
        "  # Train the network with specified lambda value\n",
        "  trainAcc,devAcc,losses,net = function2trainTheModel(L1lambda)\n",
        "  net.cpu()\n",
        "\n",
        "  # Get weight stats\n",
        "  max_weights,min_weights,mean_weights,std_weights,zero_count,weights = getWeightStats(net)\n",
        "\n",
        "  # Subsample weights\n",
        "  sampled_weights = getSubSample(weights,5000)\n",
        "\n",
        "  # Organize stats and weights into proper columns\n",
        "  new_row_stats = {\"L1Lambda\": L1lambda, \"Number of Zeros\": zero_count, \"Weights Min\": min_weights,\\\n",
        "             \"Weights Max\": max_weights, \"Weights StDev\": std_weights, \"Weights Mean\": mean_weights,\\\n",
        "             \"Train Accuracy\": trainAcc[-1], \"Dev Accuracy\": devAcc[-1]}\n",
        "  new_row_weights = {\"L1Lambda\": L1lambda, \"Weights Subset\": sampled_weights}\n",
        "\n",
        "  #Append results to respective dataframes\n",
        "  results_df=results_df.append(new_row_stats, ignore_index=True)\n",
        "  weights_df=weights_df.append(new_row_weights, ignore_index=True)\n",
        "\n",
        "\n",
        "\n",
        "\n",
        "\n"
      ],
      "metadata": {
        "colab": {
          "base_uri": "https://localhost:8080/"
        },
        "id": "rdZ5j5keiGPW",
        "outputId": "13c17ca6-8a42-4cbc-ae65-744bb08b5a25"
      },
      "execution_count": null,
      "outputs": [
        {
          "output_type": "stream",
          "name": "stdout",
          "text": [
            "Finished epoch 25/25"
          ]
        },
        {
          "output_type": "stream",
          "name": "stderr",
          "text": [
            "<ipython-input-19-15dc86c39417>:24: FutureWarning: The frame.append method is deprecated and will be removed from pandas in a future version. Use pandas.concat instead.\n",
            "  results_df=results_df.append(new_row_stats, ignore_index=True)\n",
            "<ipython-input-19-15dc86c39417>:25: FutureWarning: The frame.append method is deprecated and will be removed from pandas in a future version. Use pandas.concat instead.\n",
            "  weights_df=weights_df.append(new_row_weights, ignore_index=True)\n"
          ]
        },
        {
          "output_type": "stream",
          "name": "stdout",
          "text": [
            "Finished epoch 25/25"
          ]
        },
        {
          "output_type": "stream",
          "name": "stderr",
          "text": [
            "<ipython-input-19-15dc86c39417>:24: FutureWarning: The frame.append method is deprecated and will be removed from pandas in a future version. Use pandas.concat instead.\n",
            "  results_df=results_df.append(new_row_stats, ignore_index=True)\n",
            "<ipython-input-19-15dc86c39417>:25: FutureWarning: The frame.append method is deprecated and will be removed from pandas in a future version. Use pandas.concat instead.\n",
            "  weights_df=weights_df.append(new_row_weights, ignore_index=True)\n"
          ]
        },
        {
          "output_type": "stream",
          "name": "stdout",
          "text": [
            "Finished epoch 25/25"
          ]
        },
        {
          "output_type": "stream",
          "name": "stderr",
          "text": [
            "<ipython-input-19-15dc86c39417>:24: FutureWarning: The frame.append method is deprecated and will be removed from pandas in a future version. Use pandas.concat instead.\n",
            "  results_df=results_df.append(new_row_stats, ignore_index=True)\n",
            "<ipython-input-19-15dc86c39417>:25: FutureWarning: The frame.append method is deprecated and will be removed from pandas in a future version. Use pandas.concat instead.\n",
            "  weights_df=weights_df.append(new_row_weights, ignore_index=True)\n"
          ]
        },
        {
          "output_type": "stream",
          "name": "stdout",
          "text": [
            "Finished epoch 25/25"
          ]
        },
        {
          "output_type": "stream",
          "name": "stderr",
          "text": [
            "<ipython-input-19-15dc86c39417>:24: FutureWarning: The frame.append method is deprecated and will be removed from pandas in a future version. Use pandas.concat instead.\n",
            "  results_df=results_df.append(new_row_stats, ignore_index=True)\n",
            "<ipython-input-19-15dc86c39417>:25: FutureWarning: The frame.append method is deprecated and will be removed from pandas in a future version. Use pandas.concat instead.\n",
            "  weights_df=weights_df.append(new_row_weights, ignore_index=True)\n"
          ]
        },
        {
          "output_type": "stream",
          "name": "stdout",
          "text": [
            "Finished epoch 25/25"
          ]
        },
        {
          "output_type": "stream",
          "name": "stderr",
          "text": [
            "<ipython-input-19-15dc86c39417>:24: FutureWarning: The frame.append method is deprecated and will be removed from pandas in a future version. Use pandas.concat instead.\n",
            "  results_df=results_df.append(new_row_stats, ignore_index=True)\n",
            "<ipython-input-19-15dc86c39417>:25: FutureWarning: The frame.append method is deprecated and will be removed from pandas in a future version. Use pandas.concat instead.\n",
            "  weights_df=weights_df.append(new_row_weights, ignore_index=True)\n"
          ]
        },
        {
          "output_type": "stream",
          "name": "stdout",
          "text": [
            "Finished epoch 25/25"
          ]
        },
        {
          "output_type": "stream",
          "name": "stderr",
          "text": [
            "<ipython-input-19-15dc86c39417>:24: FutureWarning: The frame.append method is deprecated and will be removed from pandas in a future version. Use pandas.concat instead.\n",
            "  results_df=results_df.append(new_row_stats, ignore_index=True)\n",
            "<ipython-input-19-15dc86c39417>:25: FutureWarning: The frame.append method is deprecated and will be removed from pandas in a future version. Use pandas.concat instead.\n",
            "  weights_df=weights_df.append(new_row_weights, ignore_index=True)\n"
          ]
        }
      ]
    },
    {
      "cell_type": "code",
      "source": [
        "# Examine weight stats\n",
        "print(results_df)"
      ],
      "metadata": {
        "colab": {
          "base_uri": "https://localhost:8080/"
        },
        "id": "KG-5NqYSrmJj",
        "outputId": "db056b56-ae08-4ab7-eeb2-8d4fb0945431"
      },
      "execution_count": null,
      "outputs": [
        {
          "output_type": "stream",
          "name": "stdout",
          "text": [
            "    L1Lambda Number of Zeros      Weights Min     Weights Max   Weights StDev  \\\n",
            "0    0.00001         4653105  tensor(-0.3910)  tensor(0.4393)  tensor(0.0069)   \n",
            "1    0.00100         4506321  tensor(-0.3346)  tensor(0.4383)  tensor(0.0065)   \n",
            "2    0.01000         4448367  tensor(-0.3673)  tensor(0.4239)  tensor(0.0076)   \n",
            "3    1.00000         2289143  tensor(-0.3718)  tensor(0.4486)  tensor(0.0063)   \n",
            "4   10.00000         7049039  tensor(-0.3563)  tensor(0.4031)  tensor(0.0067)   \n",
            "5  100.00000        17280403  tensor(-0.3731)  tensor(0.4051)  tensor(0.0058)   \n",
            "\n",
            "          Weights Mean  Train Accuracy  Dev Accuracy  \n",
            "0      tensor(-0.0001)         99.6875  tensor(100.)  \n",
            "1  tensor(-6.9312e-05)        100.0000  tensor(100.)  \n",
            "2      tensor(-0.0002)         99.3750  tensor(100.)  \n",
            "3   tensor(2.2758e-06)        100.0000  tensor(100.)  \n",
            "4  tensor(-8.6508e-05)        100.0000  tensor(100.)  \n",
            "5  tensor(-5.2957e-05)         99.6875  tensor(100.)  \n"
          ]
        }
      ]
    },
    {
      "cell_type": "code",
      "source": [
        "fig, axs = plt.subplots(2, 3, figsize=(12, 8))\n",
        "\n",
        "axs[0, 0].hist(weights_df.loc[0,'Weights Subset'], bins=50, alpha=0.5, label=f\"Lambda={weights_df.loc[0,'L1Lambda']}\", color='red')\n",
        "axs[0, 0].legend()\n",
        "axs[0, 0].set_xlabel('Weights Values')\n",
        "axs[0, 0].set_ylabel('Frequency')\n",
        "\n",
        "axs[0, 1].hist(weights_df.loc[1,'Weights Subset'], bins=50, alpha=0.5, label=f\"Lambda={weights_df.loc[1,'L1Lambda']}\", color='orange')\n",
        "axs[0, 1].legend()\n",
        "axs[0, 1].set_xlabel('Weights Values')\n",
        "axs[0, 1].set_ylabel('Frequency')\n",
        "\n",
        "axs[0, 2].hist(weights_df.loc[2,'Weights Subset'], bins=50, alpha=0.5, label=f\"Lambda={weights_df.loc[2,'L1Lambda']}\", color='yellow')\n",
        "axs[0, 2].legend()\n",
        "axs[0, 2].set_xlabel('Weights Values')\n",
        "axs[0, 2].set_ylabel('Frequency')\n",
        "\n",
        "axs[1, 0].hist(weights_df.loc[3,'Weights Subset'], bins=50, alpha=0.5, label=f\"Lambda={weights_df.loc[3,'L1Lambda']}\", color='green')\n",
        "axs[1, 0].legend()\n",
        "axs[1, 0].set_xlabel('Weights Values')\n",
        "axs[1, 0].set_ylabel('Frequency')\n",
        "\n",
        "axs[1, 1].hist(weights_df.loc[4,'Weights Subset'], bins=50, alpha=0.5, label=f\"Lambda={weights_df.loc[4,'L1Lambda']}\", color='blue')\n",
        "axs[1, 1].legend()\n",
        "axs[1, 1].set_xlabel('Weights Values')\n",
        "axs[1, 1].set_ylabel('Frequency')\n",
        "\n",
        "axs[1, 2].hist(weights_df.loc[5,'Weights Subset'], bins=50, alpha=0.5, label=f\"Lambda={weights_df.loc[5,'L1Lambda']}\", color='purple')\n",
        "axs[1, 2].legend()\n",
        "axs[1, 2].set_xlabel('Weights Values')\n",
        "axs[1, 2].set_ylabel('Frequency')\n",
        "\n",
        "\n",
        "plt.suptitle('Weights Distribution of Networks with Varied L1Lambda values')\n",
        "plt.tight_layout()\n",
        "plt.show()\n"
      ],
      "metadata": {
        "colab": {
          "base_uri": "https://localhost:8080/",
          "height": 777
        },
        "id": "je1UWC66tdwb",
        "outputId": "28bd5075-ed1d-4289-f746-66894a4e3fea"
      },
      "execution_count": null,
      "outputs": [
        {
          "output_type": "display_data",
          "data": {
            "text/plain": [
              "<Figure size 1200x800 with 6 Axes>"
            ],
            "image/svg+xml": "<?xml version=\"1.0\" encoding=\"utf-8\" standalone=\"no\"?>\n<!DOCTYPE svg PUBLIC \"-//W3C//DTD SVG 1.1//EN\"\n  \"http://www.w3.org/Graphics/SVG/1.1/DTD/svg11.dtd\">\n<svg xmlns:xlink=\"http://www.w3.org/1999/xlink\" width=\"855.38413pt\" height=\"567.27625pt\" viewBox=\"0 0 855.38413 567.27625\" xmlns=\"http://www.w3.org/2000/svg\" version=\"1.1\">\n <metadata>\n  <rdf:RDF xmlns:dc=\"http://purl.org/dc/elements/1.1/\" xmlns:cc=\"http://creativecommons.org/ns#\" xmlns:rdf=\"http://www.w3.org/1999/02/22-rdf-syntax-ns#\">\n   <cc:Work>\n    <dc:type rdf:resource=\"http://purl.org/dc/dcmitype/StillImage\"/>\n    <dc:date>2023-12-12T12:52:58.825042</dc:date>\n    <dc:format>image/svg+xml</dc:format>\n    <dc:creator>\n     <cc:Agent>\n      <dc:title>Matplotlib v3.7.1, https://matplotlib.org/</dc:title>\n     </cc:Agent>\n    </dc:creator>\n   </cc:Work>\n  </rdf:RDF>\n </metadata>\n <defs>\n  <style type=\"text/css\">*{stroke-linejoin: round; stroke-linecap: butt}</style>\n </defs>\n <g id=\"figure_1\">\n  <g id=\"patch_1\">\n   <path d=\"M 0 567.27625 \nL 855.38413 567.27625 \nL 855.38413 0 \nL 0 0 \nz\n\" style=\"fill: #ffffff\"/>\n  </g>\n  <g id=\"axes_1\">\n   <g id=\"patch_2\">\n    <path d=\"M 53.328125 259 \nL 279.73854 259 \nL 279.73854 30.24 \nL 53.328125 30.24 \nz\n\" style=\"fill: #ffffff\"/>\n   </g>\n   <g id=\"patch_3\">\n    <path d=\"M 63.619507 259 \nL 67.736065 259 \nL 67.736065 258.648602 \nL 63.619507 258.648602 \nz\n\" clip-path=\"url(#pf2d91af4c4)\" style=\"fill: #ff0000; opacity: 0.5\"/>\n   </g>\n   <g id=\"patch_4\">\n    <path d=\"M 67.736065 259 \nL 71.852612 259 \nL 71.852612 259 \nL 67.736065 259 \nz\n\" clip-path=\"url(#pf2d91af4c4)\" style=\"fill: #ff0000; opacity: 0.5\"/>\n   </g>\n   <g id=\"patch_5\">\n    <path d=\"M 71.852612 259 \nL 75.969169 259 \nL 75.969169 259 \nL 71.852612 259 \nz\n\" clip-path=\"url(#pf2d91af4c4)\" style=\"fill: #ff0000; opacity: 0.5\"/>\n   </g>\n   <g id=\"patch_6\">\n    <path d=\"M 75.969169 259 \nL 80.085716 259 \nL 80.085716 258.648602 \nL 75.969169 258.648602 \nz\n\" clip-path=\"url(#pf2d91af4c4)\" style=\"fill: #ff0000; opacity: 0.5\"/>\n   </g>\n   <g id=\"patch_7\">\n    <path d=\"M 80.085716 259 \nL 84.202273 259 \nL 84.202273 258.648602 \nL 80.085716 258.648602 \nz\n\" clip-path=\"url(#pf2d91af4c4)\" style=\"fill: #ff0000; opacity: 0.5\"/>\n   </g>\n   <g id=\"patch_8\">\n    <path d=\"M 84.202273 259 \nL 88.31883 259 \nL 88.31883 258.648602 \nL 84.202273 258.648602 \nz\n\" clip-path=\"url(#pf2d91af4c4)\" style=\"fill: #ff0000; opacity: 0.5\"/>\n   </g>\n   <g id=\"patch_9\">\n    <path d=\"M 88.31883 259 \nL 92.435377 259 \nL 92.435377 258.648602 \nL 88.31883 258.648602 \nz\n\" clip-path=\"url(#pf2d91af4c4)\" style=\"fill: #ff0000; opacity: 0.5\"/>\n   </g>\n   <g id=\"patch_10\">\n    <path d=\"M 92.435377 259 \nL 96.551934 259 \nL 96.551934 258.648602 \nL 92.435377 258.648602 \nz\n\" clip-path=\"url(#pf2d91af4c4)\" style=\"fill: #ff0000; opacity: 0.5\"/>\n   </g>\n   <g id=\"patch_11\">\n    <path d=\"M 96.551934 259 \nL 100.668487 259 \nL 100.668487 259 \nL 96.551934 259 \nz\n\" clip-path=\"url(#pf2d91af4c4)\" style=\"fill: #ff0000; opacity: 0.5\"/>\n   </g>\n   <g id=\"patch_12\">\n    <path d=\"M 100.668487 259 \nL 104.785039 259 \nL 104.785039 258.297204 \nL 100.668487 258.297204 \nz\n\" clip-path=\"url(#pf2d91af4c4)\" style=\"fill: #ff0000; opacity: 0.5\"/>\n   </g>\n   <g id=\"patch_13\">\n    <path d=\"M 104.785039 259 \nL 108.901591 259 \nL 108.901591 258.297204 \nL 104.785039 258.297204 \nz\n\" clip-path=\"url(#pf2d91af4c4)\" style=\"fill: #ff0000; opacity: 0.5\"/>\n   </g>\n   <g id=\"patch_14\">\n    <path d=\"M 108.901591 259 \nL 113.018143 259 \nL 113.018143 258.648602 \nL 108.901591 258.648602 \nz\n\" clip-path=\"url(#pf2d91af4c4)\" style=\"fill: #ff0000; opacity: 0.5\"/>\n   </g>\n   <g id=\"patch_15\">\n    <path d=\"M 113.018143 259 \nL 117.134695 259 \nL 117.134695 258.297204 \nL 113.018143 258.297204 \nz\n\" clip-path=\"url(#pf2d91af4c4)\" style=\"fill: #ff0000; opacity: 0.5\"/>\n   </g>\n   <g id=\"patch_16\">\n    <path d=\"M 117.134695 259 \nL 121.251252 259 \nL 121.251252 258.648602 \nL 117.134695 258.648602 \nz\n\" clip-path=\"url(#pf2d91af4c4)\" style=\"fill: #ff0000; opacity: 0.5\"/>\n   </g>\n   <g id=\"patch_17\">\n    <path d=\"M 121.251252 259 \nL 125.367804 259 \nL 125.367804 258.648602 \nL 121.251252 258.648602 \nz\n\" clip-path=\"url(#pf2d91af4c4)\" style=\"fill: #ff0000; opacity: 0.5\"/>\n   </g>\n   <g id=\"patch_18\">\n    <path d=\"M 125.367804 259 \nL 129.484356 259 \nL 129.484356 256.891613 \nL 125.367804 256.891613 \nz\n\" clip-path=\"url(#pf2d91af4c4)\" style=\"fill: #ff0000; opacity: 0.5\"/>\n   </g>\n   <g id=\"patch_19\">\n    <path d=\"M 129.484356 259 \nL 133.600908 259 \nL 133.600908 258.297204 \nL 129.484356 258.297204 \nz\n\" clip-path=\"url(#pf2d91af4c4)\" style=\"fill: #ff0000; opacity: 0.5\"/>\n   </g>\n   <g id=\"patch_20\">\n    <path d=\"M 133.600908 259 \nL 137.71746 259 \nL 137.71746 256.540215 \nL 133.600908 256.540215 \nz\n\" clip-path=\"url(#pf2d91af4c4)\" style=\"fill: #ff0000; opacity: 0.5\"/>\n   </g>\n   <g id=\"patch_21\">\n    <path d=\"M 137.71746 259 \nL 141.834012 259 \nL 141.834012 256.540215 \nL 137.71746 256.540215 \nz\n\" clip-path=\"url(#pf2d91af4c4)\" style=\"fill: #ff0000; opacity: 0.5\"/>\n   </g>\n   <g id=\"patch_22\">\n    <path d=\"M 141.834012 259 \nL 145.950567 259 \nL 145.950567 253.026237 \nL 141.834012 253.026237 \nz\n\" clip-path=\"url(#pf2d91af4c4)\" style=\"fill: #ff0000; opacity: 0.5\"/>\n   </g>\n   <g id=\"patch_23\">\n    <path d=\"M 145.950567 259 \nL 150.067122 259 \nL 150.067122 251.972043 \nL 145.950567 251.972043 \nz\n\" clip-path=\"url(#pf2d91af4c4)\" style=\"fill: #ff0000; opacity: 0.5\"/>\n   </g>\n   <g id=\"patch_24\">\n    <path d=\"M 150.067122 259 \nL 154.183674 259 \nL 154.183674 238.618925 \nL 150.067122 238.618925 \nz\n\" clip-path=\"url(#pf2d91af4c4)\" style=\"fill: #ff0000; opacity: 0.5\"/>\n   </g>\n   <g id=\"patch_25\">\n    <path d=\"M 154.183674 259 \nL 158.300226 259 \nL 158.300226 209.101505 \nL 154.183674 209.101505 \nz\n\" clip-path=\"url(#pf2d91af4c4)\" style=\"fill: #ff0000; opacity: 0.5\"/>\n   </g>\n   <g id=\"patch_26\">\n    <path d=\"M 158.300226 259 \nL 162.41678 259 \nL 162.41678 197.856774 \nL 158.300226 197.856774 \nz\n\" clip-path=\"url(#pf2d91af4c4)\" style=\"fill: #ff0000; opacity: 0.5\"/>\n   </g>\n   <g id=\"patch_27\">\n    <path d=\"M 162.41678 259 \nL 166.533332 259 \nL 166.533332 199.262366 \nL 162.41678 199.262366 \nz\n\" clip-path=\"url(#pf2d91af4c4)\" style=\"fill: #ff0000; opacity: 0.5\"/>\n   </g>\n   <g id=\"patch_28\">\n    <path d=\"M 166.533332 259 \nL 170.649886 259 \nL 170.649886 167.285161 \nL 166.533332 167.285161 \nz\n\" clip-path=\"url(#pf2d91af4c4)\" style=\"fill: #ff0000; opacity: 0.5\"/>\n   </g>\n   <g id=\"patch_29\">\n    <path d=\"M 170.649886 259 \nL 174.766438 259 \nL 174.766438 137.767742 \nL 170.649886 137.767742 \nz\n\" clip-path=\"url(#pf2d91af4c4)\" style=\"fill: #ff0000; opacity: 0.5\"/>\n   </g>\n   <g id=\"patch_30\">\n    <path d=\"M 174.766438 259 \nL 178.882991 259 \nL 178.882991 108.250323 \nL 174.766438 108.250323 \nz\n\" clip-path=\"url(#pf2d91af4c4)\" style=\"fill: #ff0000; opacity: 0.5\"/>\n   </g>\n   <g id=\"patch_31\">\n    <path d=\"M 178.882991 259 \nL 182.999545 259 \nL 182.999545 145.849892 \nL 178.882991 145.849892 \nz\n\" clip-path=\"url(#pf2d91af4c4)\" style=\"fill: #ff0000; opacity: 0.5\"/>\n   </g>\n   <g id=\"patch_32\">\n    <path d=\"M 182.999545 259 \nL 187.116097 259 \nL 187.116097 141.28172 \nL 182.999545 141.28172 \nz\n\" clip-path=\"url(#pf2d91af4c4)\" style=\"fill: #ff0000; opacity: 0.5\"/>\n   </g>\n   <g id=\"patch_33\">\n    <path d=\"M 187.116097 259 \nL 191.23265 259 \nL 191.23265 41.133333 \nL 187.116097 41.133333 \nz\n\" clip-path=\"url(#pf2d91af4c4)\" style=\"fill: #ff0000; opacity: 0.5\"/>\n   </g>\n   <g id=\"patch_34\">\n    <path d=\"M 191.23265 259 \nL 195.349203 259 \nL 195.349203 153.580645 \nL 191.23265 153.580645 \nz\n\" clip-path=\"url(#pf2d91af4c4)\" style=\"fill: #ff0000; opacity: 0.5\"/>\n   </g>\n   <g id=\"patch_35\">\n    <path d=\"M 195.349203 259 \nL 199.465757 259 \nL 199.465757 147.95828 \nL 195.349203 147.95828 \nz\n\" clip-path=\"url(#pf2d91af4c4)\" style=\"fill: #ff0000; opacity: 0.5\"/>\n   </g>\n   <g id=\"patch_36\">\n    <path d=\"M 199.465757 259 \nL 203.582309 259 \nL 203.582309 145.147097 \nL 199.465757 145.147097 \nz\n\" clip-path=\"url(#pf2d91af4c4)\" style=\"fill: #ff0000; opacity: 0.5\"/>\n   </g>\n   <g id=\"patch_37\">\n    <path d=\"M 203.582309 259 \nL 207.698862 259 \nL 207.698862 160.257204 \nL 203.582309 160.257204 \nz\n\" clip-path=\"url(#pf2d91af4c4)\" style=\"fill: #ff0000; opacity: 0.5\"/>\n   </g>\n   <g id=\"patch_38\">\n    <path d=\"M 207.698862 259 \nL 211.815415 259 \nL 211.815415 183.80086 \nL 207.698862 183.80086 \nz\n\" clip-path=\"url(#pf2d91af4c4)\" style=\"fill: #ff0000; opacity: 0.5\"/>\n   </g>\n   <g id=\"patch_39\">\n    <path d=\"M 211.815415 259 \nL 215.931968 259 \nL 215.931968 185.557849 \nL 211.815415 185.557849 \nz\n\" clip-path=\"url(#pf2d91af4c4)\" style=\"fill: #ff0000; opacity: 0.5\"/>\n   </g>\n   <g id=\"patch_40\">\n    <path d=\"M 215.931968 259 \nL 220.048522 259 \nL 220.048522 201.370753 \nL 215.931968 201.370753 \nz\n\" clip-path=\"url(#pf2d91af4c4)\" style=\"fill: #ff0000; opacity: 0.5\"/>\n   </g>\n   <g id=\"patch_41\">\n    <path d=\"M 220.048522 259 \nL 224.165074 259 \nL 224.165074 217.535054 \nL 220.048522 217.535054 \nz\n\" clip-path=\"url(#pf2d91af4c4)\" style=\"fill: #ff0000; opacity: 0.5\"/>\n   </g>\n   <g id=\"patch_42\">\n    <path d=\"M 224.165074 259 \nL 228.281626 259 \nL 228.281626 231.590968 \nL 224.165074 231.590968 \nz\n\" clip-path=\"url(#pf2d91af4c4)\" style=\"fill: #ff0000; opacity: 0.5\"/>\n   </g>\n   <g id=\"patch_43\">\n    <path d=\"M 228.281626 259 \nL 232.398181 259 \nL 232.398181 250.566452 \nL 228.281626 250.566452 \nz\n\" clip-path=\"url(#pf2d91af4c4)\" style=\"fill: #ff0000; opacity: 0.5\"/>\n   </g>\n   <g id=\"patch_44\">\n    <path d=\"M 232.398181 259 \nL 236.514736 259 \nL 236.514736 254.783226 \nL 232.398181 254.783226 \nz\n\" clip-path=\"url(#pf2d91af4c4)\" style=\"fill: #ff0000; opacity: 0.5\"/>\n   </g>\n   <g id=\"patch_45\">\n    <path d=\"M 236.514736 259 \nL 240.631288 259 \nL 240.631288 254.431828 \nL 236.514736 254.431828 \nz\n\" clip-path=\"url(#pf2d91af4c4)\" style=\"fill: #ff0000; opacity: 0.5\"/>\n   </g>\n   <g id=\"patch_46\">\n    <path d=\"M 240.631288 259 \nL 244.74784 259 \nL 244.74784 257.594409 \nL 240.631288 257.594409 \nz\n\" clip-path=\"url(#pf2d91af4c4)\" style=\"fill: #ff0000; opacity: 0.5\"/>\n   </g>\n   <g id=\"patch_47\">\n    <path d=\"M 244.74784 259 \nL 248.864392 259 \nL 248.864392 257.594409 \nL 244.74784 257.594409 \nz\n\" clip-path=\"url(#pf2d91af4c4)\" style=\"fill: #ff0000; opacity: 0.5\"/>\n   </g>\n   <g id=\"patch_48\">\n    <path d=\"M 248.864392 259 \nL 252.980944 259 \nL 252.980944 257.945806 \nL 248.864392 257.945806 \nz\n\" clip-path=\"url(#pf2d91af4c4)\" style=\"fill: #ff0000; opacity: 0.5\"/>\n   </g>\n   <g id=\"patch_49\">\n    <path d=\"M 252.980944 259 \nL 257.097496 259 \nL 257.097496 258.648602 \nL 252.980944 258.648602 \nz\n\" clip-path=\"url(#pf2d91af4c4)\" style=\"fill: #ff0000; opacity: 0.5\"/>\n   </g>\n   <g id=\"patch_50\">\n    <path d=\"M 257.097496 259 \nL 261.214053 259 \nL 261.214053 258.297204 \nL 257.097496 258.297204 \nz\n\" clip-path=\"url(#pf2d91af4c4)\" style=\"fill: #ff0000; opacity: 0.5\"/>\n   </g>\n   <g id=\"patch_51\">\n    <path d=\"M 261.214053 259 \nL 265.330605 259 \nL 265.330605 258.297204 \nL 261.214053 258.297204 \nz\n\" clip-path=\"url(#pf2d91af4c4)\" style=\"fill: #ff0000; opacity: 0.5\"/>\n   </g>\n   <g id=\"patch_52\">\n    <path d=\"M 265.330605 259 \nL 269.447157 259 \nL 269.447157 258.648602 \nL 265.330605 258.648602 \nz\n\" clip-path=\"url(#pf2d91af4c4)\" style=\"fill: #ff0000; opacity: 0.5\"/>\n   </g>\n   <g id=\"matplotlib.axis_1\">\n    <g id=\"xtick_1\">\n     <g id=\"line2d_1\">\n      <defs>\n       <path id=\"md602424763\" d=\"M 0 0 \nL 0 3.5 \n\" style=\"stroke: #000000; stroke-width: 0.8\"/>\n      </defs>\n      <g>\n       <use xlink:href=\"#md602424763\" x=\"72.650784\" y=\"259\" style=\"stroke: #000000; stroke-width: 0.8\"/>\n      </g>\n     </g>\n     <g id=\"text_1\">\n      <!-- −0.04 -->\n      <g transform=\"translate(57.328128 273.598437) scale(0.1 -0.1)\">\n       <defs>\n        <path id=\"DejaVuSans-2212\" d=\"M 678 2272 \nL 4684 2272 \nL 4684 1741 \nL 678 1741 \nL 678 2272 \nz\n\" transform=\"scale(0.015625)\"/>\n        <path id=\"DejaVuSans-30\" d=\"M 2034 4250 \nQ 1547 4250 1301 3770 \nQ 1056 3291 1056 2328 \nQ 1056 1369 1301 889 \nQ 1547 409 2034 409 \nQ 2525 409 2770 889 \nQ 3016 1369 3016 2328 \nQ 3016 3291 2770 3770 \nQ 2525 4250 2034 4250 \nz\nM 2034 4750 \nQ 2819 4750 3233 4129 \nQ 3647 3509 3647 2328 \nQ 3647 1150 3233 529 \nQ 2819 -91 2034 -91 \nQ 1250 -91 836 529 \nQ 422 1150 422 2328 \nQ 422 3509 836 4129 \nQ 1250 4750 2034 4750 \nz\n\" transform=\"scale(0.015625)\"/>\n        <path id=\"DejaVuSans-2e\" d=\"M 684 794 \nL 1344 794 \nL 1344 0 \nL 684 0 \nL 684 794 \nz\n\" transform=\"scale(0.015625)\"/>\n        <path id=\"DejaVuSans-34\" d=\"M 2419 4116 \nL 825 1625 \nL 2419 1625 \nL 2419 4116 \nz\nM 2253 4666 \nL 3047 4666 \nL 3047 1625 \nL 3713 1625 \nL 3713 1100 \nL 3047 1100 \nL 3047 0 \nL 2419 0 \nL 2419 1100 \nL 313 1100 \nL 313 1709 \nL 2253 4666 \nz\n\" transform=\"scale(0.015625)\"/>\n       </defs>\n       <use xlink:href=\"#DejaVuSans-2212\"/>\n       <use xlink:href=\"#DejaVuSans-30\" x=\"83.789062\"/>\n       <use xlink:href=\"#DejaVuSans-2e\" x=\"147.412109\"/>\n       <use xlink:href=\"#DejaVuSans-30\" x=\"179.199219\"/>\n       <use xlink:href=\"#DejaVuSans-34\" x=\"242.822266\"/>\n      </g>\n     </g>\n    </g>\n    <g id=\"xtick_2\">\n     <g id=\"line2d_2\">\n      <g>\n       <use xlink:href=\"#md602424763\" x=\"130.728031\" y=\"259\" style=\"stroke: #000000; stroke-width: 0.8\"/>\n      </g>\n     </g>\n     <g id=\"text_2\">\n      <!-- −0.02 -->\n      <g transform=\"translate(115.405375 273.598437) scale(0.1 -0.1)\">\n       <defs>\n        <path id=\"DejaVuSans-32\" d=\"M 1228 531 \nL 3431 531 \nL 3431 0 \nL 469 0 \nL 469 531 \nQ 828 903 1448 1529 \nQ 2069 2156 2228 2338 \nQ 2531 2678 2651 2914 \nQ 2772 3150 2772 3378 \nQ 2772 3750 2511 3984 \nQ 2250 4219 1831 4219 \nQ 1534 4219 1204 4116 \nQ 875 4013 500 3803 \nL 500 4441 \nQ 881 4594 1212 4672 \nQ 1544 4750 1819 4750 \nQ 2544 4750 2975 4387 \nQ 3406 4025 3406 3419 \nQ 3406 3131 3298 2873 \nQ 3191 2616 2906 2266 \nQ 2828 2175 2409 1742 \nQ 1991 1309 1228 531 \nz\n\" transform=\"scale(0.015625)\"/>\n       </defs>\n       <use xlink:href=\"#DejaVuSans-2212\"/>\n       <use xlink:href=\"#DejaVuSans-30\" x=\"83.789062\"/>\n       <use xlink:href=\"#DejaVuSans-2e\" x=\"147.412109\"/>\n       <use xlink:href=\"#DejaVuSans-30\" x=\"179.199219\"/>\n       <use xlink:href=\"#DejaVuSans-32\" x=\"242.822266\"/>\n      </g>\n     </g>\n    </g>\n    <g id=\"xtick_3\">\n     <g id=\"line2d_3\">\n      <g>\n       <use xlink:href=\"#md602424763\" x=\"188.805278\" y=\"259\" style=\"stroke: #000000; stroke-width: 0.8\"/>\n      </g>\n     </g>\n     <g id=\"text_3\">\n      <!-- 0.00 -->\n      <g transform=\"translate(177.672466 273.598437) scale(0.1 -0.1)\">\n       <use xlink:href=\"#DejaVuSans-30\"/>\n       <use xlink:href=\"#DejaVuSans-2e\" x=\"63.623047\"/>\n       <use xlink:href=\"#DejaVuSans-30\" x=\"95.410156\"/>\n       <use xlink:href=\"#DejaVuSans-30\" x=\"159.033203\"/>\n      </g>\n     </g>\n    </g>\n    <g id=\"xtick_4\">\n     <g id=\"line2d_4\">\n      <g>\n       <use xlink:href=\"#md602424763\" x=\"246.882525\" y=\"259\" style=\"stroke: #000000; stroke-width: 0.8\"/>\n      </g>\n     </g>\n     <g id=\"text_4\">\n      <!-- 0.02 -->\n      <g transform=\"translate(235.749713 273.598437) scale(0.1 -0.1)\">\n       <use xlink:href=\"#DejaVuSans-30\"/>\n       <use xlink:href=\"#DejaVuSans-2e\" x=\"63.623047\"/>\n       <use xlink:href=\"#DejaVuSans-30\" x=\"95.410156\"/>\n       <use xlink:href=\"#DejaVuSans-32\" x=\"159.033203\"/>\n      </g>\n     </g>\n    </g>\n    <g id=\"text_5\">\n     <!-- Weights Values -->\n     <g transform=\"translate(128.584895 287.276562) scale(0.1 -0.1)\">\n      <defs>\n       <path id=\"DejaVuSans-57\" d=\"M 213 4666 \nL 850 4666 \nL 1831 722 \nL 2809 4666 \nL 3519 4666 \nL 4500 722 \nL 5478 4666 \nL 6119 4666 \nL 4947 0 \nL 4153 0 \nL 3169 4050 \nL 2175 0 \nL 1381 0 \nL 213 4666 \nz\n\" transform=\"scale(0.015625)\"/>\n       <path id=\"DejaVuSans-65\" d=\"M 3597 1894 \nL 3597 1613 \nL 953 1613 \nQ 991 1019 1311 708 \nQ 1631 397 2203 397 \nQ 2534 397 2845 478 \nQ 3156 559 3463 722 \nL 3463 178 \nQ 3153 47 2828 -22 \nQ 2503 -91 2169 -91 \nQ 1331 -91 842 396 \nQ 353 884 353 1716 \nQ 353 2575 817 3079 \nQ 1281 3584 2069 3584 \nQ 2775 3584 3186 3129 \nQ 3597 2675 3597 1894 \nz\nM 3022 2063 \nQ 3016 2534 2758 2815 \nQ 2500 3097 2075 3097 \nQ 1594 3097 1305 2825 \nQ 1016 2553 972 2059 \nL 3022 2063 \nz\n\" transform=\"scale(0.015625)\"/>\n       <path id=\"DejaVuSans-69\" d=\"M 603 3500 \nL 1178 3500 \nL 1178 0 \nL 603 0 \nL 603 3500 \nz\nM 603 4863 \nL 1178 4863 \nL 1178 4134 \nL 603 4134 \nL 603 4863 \nz\n\" transform=\"scale(0.015625)\"/>\n       <path id=\"DejaVuSans-67\" d=\"M 2906 1791 \nQ 2906 2416 2648 2759 \nQ 2391 3103 1925 3103 \nQ 1463 3103 1205 2759 \nQ 947 2416 947 1791 \nQ 947 1169 1205 825 \nQ 1463 481 1925 481 \nQ 2391 481 2648 825 \nQ 2906 1169 2906 1791 \nz\nM 3481 434 \nQ 3481 -459 3084 -895 \nQ 2688 -1331 1869 -1331 \nQ 1566 -1331 1297 -1286 \nQ 1028 -1241 775 -1147 \nL 775 -588 \nQ 1028 -725 1275 -790 \nQ 1522 -856 1778 -856 \nQ 2344 -856 2625 -561 \nQ 2906 -266 2906 331 \nL 2906 616 \nQ 2728 306 2450 153 \nQ 2172 0 1784 0 \nQ 1141 0 747 490 \nQ 353 981 353 1791 \nQ 353 2603 747 3093 \nQ 1141 3584 1784 3584 \nQ 2172 3584 2450 3431 \nQ 2728 3278 2906 2969 \nL 2906 3500 \nL 3481 3500 \nL 3481 434 \nz\n\" transform=\"scale(0.015625)\"/>\n       <path id=\"DejaVuSans-68\" d=\"M 3513 2113 \nL 3513 0 \nL 2938 0 \nL 2938 2094 \nQ 2938 2591 2744 2837 \nQ 2550 3084 2163 3084 \nQ 1697 3084 1428 2787 \nQ 1159 2491 1159 1978 \nL 1159 0 \nL 581 0 \nL 581 4863 \nL 1159 4863 \nL 1159 2956 \nQ 1366 3272 1645 3428 \nQ 1925 3584 2291 3584 \nQ 2894 3584 3203 3211 \nQ 3513 2838 3513 2113 \nz\n\" transform=\"scale(0.015625)\"/>\n       <path id=\"DejaVuSans-74\" d=\"M 1172 4494 \nL 1172 3500 \nL 2356 3500 \nL 2356 3053 \nL 1172 3053 \nL 1172 1153 \nQ 1172 725 1289 603 \nQ 1406 481 1766 481 \nL 2356 481 \nL 2356 0 \nL 1766 0 \nQ 1100 0 847 248 \nQ 594 497 594 1153 \nL 594 3053 \nL 172 3053 \nL 172 3500 \nL 594 3500 \nL 594 4494 \nL 1172 4494 \nz\n\" transform=\"scale(0.015625)\"/>\n       <path id=\"DejaVuSans-73\" d=\"M 2834 3397 \nL 2834 2853 \nQ 2591 2978 2328 3040 \nQ 2066 3103 1784 3103 \nQ 1356 3103 1142 2972 \nQ 928 2841 928 2578 \nQ 928 2378 1081 2264 \nQ 1234 2150 1697 2047 \nL 1894 2003 \nQ 2506 1872 2764 1633 \nQ 3022 1394 3022 966 \nQ 3022 478 2636 193 \nQ 2250 -91 1575 -91 \nQ 1294 -91 989 -36 \nQ 684 19 347 128 \nL 347 722 \nQ 666 556 975 473 \nQ 1284 391 1588 391 \nQ 1994 391 2212 530 \nQ 2431 669 2431 922 \nQ 2431 1156 2273 1281 \nQ 2116 1406 1581 1522 \nL 1381 1569 \nQ 847 1681 609 1914 \nQ 372 2147 372 2553 \nQ 372 3047 722 3315 \nQ 1072 3584 1716 3584 \nQ 2034 3584 2315 3537 \nQ 2597 3491 2834 3397 \nz\n\" transform=\"scale(0.015625)\"/>\n       <path id=\"DejaVuSans-20\" transform=\"scale(0.015625)\"/>\n       <path id=\"DejaVuSans-56\" d=\"M 1831 0 \nL 50 4666 \nL 709 4666 \nL 2188 738 \nL 3669 4666 \nL 4325 4666 \nL 2547 0 \nL 1831 0 \nz\n\" transform=\"scale(0.015625)\"/>\n       <path id=\"DejaVuSans-61\" d=\"M 2194 1759 \nQ 1497 1759 1228 1600 \nQ 959 1441 959 1056 \nQ 959 750 1161 570 \nQ 1363 391 1709 391 \nQ 2188 391 2477 730 \nQ 2766 1069 2766 1631 \nL 2766 1759 \nL 2194 1759 \nz\nM 3341 1997 \nL 3341 0 \nL 2766 0 \nL 2766 531 \nQ 2569 213 2275 61 \nQ 1981 -91 1556 -91 \nQ 1019 -91 701 211 \nQ 384 513 384 1019 \nQ 384 1609 779 1909 \nQ 1175 2209 1959 2209 \nL 2766 2209 \nL 2766 2266 \nQ 2766 2663 2505 2880 \nQ 2244 3097 1772 3097 \nQ 1472 3097 1187 3025 \nQ 903 2953 641 2809 \nL 641 3341 \nQ 956 3463 1253 3523 \nQ 1550 3584 1831 3584 \nQ 2591 3584 2966 3190 \nQ 3341 2797 3341 1997 \nz\n\" transform=\"scale(0.015625)\"/>\n       <path id=\"DejaVuSans-6c\" d=\"M 603 4863 \nL 1178 4863 \nL 1178 0 \nL 603 0 \nL 603 4863 \nz\n\" transform=\"scale(0.015625)\"/>\n       <path id=\"DejaVuSans-75\" d=\"M 544 1381 \nL 544 3500 \nL 1119 3500 \nL 1119 1403 \nQ 1119 906 1312 657 \nQ 1506 409 1894 409 \nQ 2359 409 2629 706 \nQ 2900 1003 2900 1516 \nL 2900 3500 \nL 3475 3500 \nL 3475 0 \nL 2900 0 \nL 2900 538 \nQ 2691 219 2414 64 \nQ 2138 -91 1772 -91 \nQ 1169 -91 856 284 \nQ 544 659 544 1381 \nz\nM 1991 3584 \nL 1991 3584 \nz\n\" transform=\"scale(0.015625)\"/>\n      </defs>\n      <use xlink:href=\"#DejaVuSans-57\"/>\n      <use xlink:href=\"#DejaVuSans-65\" x=\"93.001953\"/>\n      <use xlink:href=\"#DejaVuSans-69\" x=\"154.525391\"/>\n      <use xlink:href=\"#DejaVuSans-67\" x=\"182.308594\"/>\n      <use xlink:href=\"#DejaVuSans-68\" x=\"245.785156\"/>\n      <use xlink:href=\"#DejaVuSans-74\" x=\"309.164062\"/>\n      <use xlink:href=\"#DejaVuSans-73\" x=\"348.373047\"/>\n      <use xlink:href=\"#DejaVuSans-20\" x=\"400.472656\"/>\n      <use xlink:href=\"#DejaVuSans-56\" x=\"432.259766\"/>\n      <use xlink:href=\"#DejaVuSans-61\" x=\"492.917969\"/>\n      <use xlink:href=\"#DejaVuSans-6c\" x=\"554.197266\"/>\n      <use xlink:href=\"#DejaVuSans-75\" x=\"581.980469\"/>\n      <use xlink:href=\"#DejaVuSans-65\" x=\"645.359375\"/>\n      <use xlink:href=\"#DejaVuSans-73\" x=\"706.882812\"/>\n     </g>\n    </g>\n   </g>\n   <g id=\"matplotlib.axis_2\">\n    <g id=\"ytick_1\">\n     <g id=\"line2d_5\">\n      <defs>\n       <path id=\"m2513a9dab9\" d=\"M 0 0 \nL -3.5 0 \n\" style=\"stroke: #000000; stroke-width: 0.8\"/>\n      </defs>\n      <g>\n       <use xlink:href=\"#m2513a9dab9\" x=\"53.328125\" y=\"259\" style=\"stroke: #000000; stroke-width: 0.8\"/>\n      </g>\n     </g>\n     <g id=\"text_6\">\n      <!-- 0 -->\n      <g transform=\"translate(39.965625 262.799219) scale(0.1 -0.1)\">\n       <use xlink:href=\"#DejaVuSans-30\"/>\n      </g>\n     </g>\n    </g>\n    <g id=\"ytick_2\">\n     <g id=\"line2d_6\">\n      <g>\n       <use xlink:href=\"#m2513a9dab9\" x=\"53.328125\" y=\"223.860215\" style=\"stroke: #000000; stroke-width: 0.8\"/>\n      </g>\n     </g>\n     <g id=\"text_7\">\n      <!-- 100 -->\n      <g transform=\"translate(27.240625 227.659434) scale(0.1 -0.1)\">\n       <defs>\n        <path id=\"DejaVuSans-31\" d=\"M 794 531 \nL 1825 531 \nL 1825 4091 \nL 703 3866 \nL 703 4441 \nL 1819 4666 \nL 2450 4666 \nL 2450 531 \nL 3481 531 \nL 3481 0 \nL 794 0 \nL 794 531 \nz\n\" transform=\"scale(0.015625)\"/>\n       </defs>\n       <use xlink:href=\"#DejaVuSans-31\"/>\n       <use xlink:href=\"#DejaVuSans-30\" x=\"63.623047\"/>\n       <use xlink:href=\"#DejaVuSans-30\" x=\"127.246094\"/>\n      </g>\n     </g>\n    </g>\n    <g id=\"ytick_3\">\n     <g id=\"line2d_7\">\n      <g>\n       <use xlink:href=\"#m2513a9dab9\" x=\"53.328125\" y=\"188.72043\" style=\"stroke: #000000; stroke-width: 0.8\"/>\n      </g>\n     </g>\n     <g id=\"text_8\">\n      <!-- 200 -->\n      <g transform=\"translate(27.240625 192.519649) scale(0.1 -0.1)\">\n       <use xlink:href=\"#DejaVuSans-32\"/>\n       <use xlink:href=\"#DejaVuSans-30\" x=\"63.623047\"/>\n       <use xlink:href=\"#DejaVuSans-30\" x=\"127.246094\"/>\n      </g>\n     </g>\n    </g>\n    <g id=\"ytick_4\">\n     <g id=\"line2d_8\">\n      <g>\n       <use xlink:href=\"#m2513a9dab9\" x=\"53.328125\" y=\"153.580645\" style=\"stroke: #000000; stroke-width: 0.8\"/>\n      </g>\n     </g>\n     <g id=\"text_9\">\n      <!-- 300 -->\n      <g transform=\"translate(27.240625 157.379864) scale(0.1 -0.1)\">\n       <defs>\n        <path id=\"DejaVuSans-33\" d=\"M 2597 2516 \nQ 3050 2419 3304 2112 \nQ 3559 1806 3559 1356 \nQ 3559 666 3084 287 \nQ 2609 -91 1734 -91 \nQ 1441 -91 1130 -33 \nQ 819 25 488 141 \nL 488 750 \nQ 750 597 1062 519 \nQ 1375 441 1716 441 \nQ 2309 441 2620 675 \nQ 2931 909 2931 1356 \nQ 2931 1769 2642 2001 \nQ 2353 2234 1838 2234 \nL 1294 2234 \nL 1294 2753 \nL 1863 2753 \nQ 2328 2753 2575 2939 \nQ 2822 3125 2822 3475 \nQ 2822 3834 2567 4026 \nQ 2313 4219 1838 4219 \nQ 1578 4219 1281 4162 \nQ 984 4106 628 3988 \nL 628 4550 \nQ 988 4650 1302 4700 \nQ 1616 4750 1894 4750 \nQ 2613 4750 3031 4423 \nQ 3450 4097 3450 3541 \nQ 3450 3153 3228 2886 \nQ 3006 2619 2597 2516 \nz\n\" transform=\"scale(0.015625)\"/>\n       </defs>\n       <use xlink:href=\"#DejaVuSans-33\"/>\n       <use xlink:href=\"#DejaVuSans-30\" x=\"63.623047\"/>\n       <use xlink:href=\"#DejaVuSans-30\" x=\"127.246094\"/>\n      </g>\n     </g>\n    </g>\n    <g id=\"ytick_5\">\n     <g id=\"line2d_9\">\n      <g>\n       <use xlink:href=\"#m2513a9dab9\" x=\"53.328125\" y=\"118.44086\" style=\"stroke: #000000; stroke-width: 0.8\"/>\n      </g>\n     </g>\n     <g id=\"text_10\">\n      <!-- 400 -->\n      <g transform=\"translate(27.240625 122.240079) scale(0.1 -0.1)\">\n       <use xlink:href=\"#DejaVuSans-34\"/>\n       <use xlink:href=\"#DejaVuSans-30\" x=\"63.623047\"/>\n       <use xlink:href=\"#DejaVuSans-30\" x=\"127.246094\"/>\n      </g>\n     </g>\n    </g>\n    <g id=\"ytick_6\">\n     <g id=\"line2d_10\">\n      <g>\n       <use xlink:href=\"#m2513a9dab9\" x=\"53.328125\" y=\"83.301075\" style=\"stroke: #000000; stroke-width: 0.8\"/>\n      </g>\n     </g>\n     <g id=\"text_11\">\n      <!-- 500 -->\n      <g transform=\"translate(27.240625 87.100294) scale(0.1 -0.1)\">\n       <defs>\n        <path id=\"DejaVuSans-35\" d=\"M 691 4666 \nL 3169 4666 \nL 3169 4134 \nL 1269 4134 \nL 1269 2991 \nQ 1406 3038 1543 3061 \nQ 1681 3084 1819 3084 \nQ 2600 3084 3056 2656 \nQ 3513 2228 3513 1497 \nQ 3513 744 3044 326 \nQ 2575 -91 1722 -91 \nQ 1428 -91 1123 -41 \nQ 819 9 494 109 \nL 494 744 \nQ 775 591 1075 516 \nQ 1375 441 1709 441 \nQ 2250 441 2565 725 \nQ 2881 1009 2881 1497 \nQ 2881 1984 2565 2268 \nQ 2250 2553 1709 2553 \nQ 1456 2553 1204 2497 \nQ 953 2441 691 2322 \nL 691 4666 \nz\n\" transform=\"scale(0.015625)\"/>\n       </defs>\n       <use xlink:href=\"#DejaVuSans-35\"/>\n       <use xlink:href=\"#DejaVuSans-30\" x=\"63.623047\"/>\n       <use xlink:href=\"#DejaVuSans-30\" x=\"127.246094\"/>\n      </g>\n     </g>\n    </g>\n    <g id=\"ytick_7\">\n     <g id=\"line2d_11\">\n      <g>\n       <use xlink:href=\"#m2513a9dab9\" x=\"53.328125\" y=\"48.16129\" style=\"stroke: #000000; stroke-width: 0.8\"/>\n      </g>\n     </g>\n     <g id=\"text_12\">\n      <!-- 600 -->\n      <g transform=\"translate(27.240625 51.960509) scale(0.1 -0.1)\">\n       <defs>\n        <path id=\"DejaVuSans-36\" d=\"M 2113 2584 \nQ 1688 2584 1439 2293 \nQ 1191 2003 1191 1497 \nQ 1191 994 1439 701 \nQ 1688 409 2113 409 \nQ 2538 409 2786 701 \nQ 3034 994 3034 1497 \nQ 3034 2003 2786 2293 \nQ 2538 2584 2113 2584 \nz\nM 3366 4563 \nL 3366 3988 \nQ 3128 4100 2886 4159 \nQ 2644 4219 2406 4219 \nQ 1781 4219 1451 3797 \nQ 1122 3375 1075 2522 \nQ 1259 2794 1537 2939 \nQ 1816 3084 2150 3084 \nQ 2853 3084 3261 2657 \nQ 3669 2231 3669 1497 \nQ 3669 778 3244 343 \nQ 2819 -91 2113 -91 \nQ 1303 -91 875 529 \nQ 447 1150 447 2328 \nQ 447 3434 972 4092 \nQ 1497 4750 2381 4750 \nQ 2619 4750 2861 4703 \nQ 3103 4656 3366 4563 \nz\n\" transform=\"scale(0.015625)\"/>\n       </defs>\n       <use xlink:href=\"#DejaVuSans-36\"/>\n       <use xlink:href=\"#DejaVuSans-30\" x=\"63.623047\"/>\n       <use xlink:href=\"#DejaVuSans-30\" x=\"127.246094\"/>\n      </g>\n     </g>\n    </g>\n    <g id=\"text_13\">\n     <!-- Frequency -->\n     <g transform=\"translate(21.160938 170.449687) rotate(-90) scale(0.1 -0.1)\">\n      <defs>\n       <path id=\"DejaVuSans-46\" d=\"M 628 4666 \nL 3309 4666 \nL 3309 4134 \nL 1259 4134 \nL 1259 2759 \nL 3109 2759 \nL 3109 2228 \nL 1259 2228 \nL 1259 0 \nL 628 0 \nL 628 4666 \nz\n\" transform=\"scale(0.015625)\"/>\n       <path id=\"DejaVuSans-72\" d=\"M 2631 2963 \nQ 2534 3019 2420 3045 \nQ 2306 3072 2169 3072 \nQ 1681 3072 1420 2755 \nQ 1159 2438 1159 1844 \nL 1159 0 \nL 581 0 \nL 581 3500 \nL 1159 3500 \nL 1159 2956 \nQ 1341 3275 1631 3429 \nQ 1922 3584 2338 3584 \nQ 2397 3584 2469 3576 \nQ 2541 3569 2628 3553 \nL 2631 2963 \nz\n\" transform=\"scale(0.015625)\"/>\n       <path id=\"DejaVuSans-71\" d=\"M 947 1747 \nQ 947 1113 1208 752 \nQ 1469 391 1925 391 \nQ 2381 391 2643 752 \nQ 2906 1113 2906 1747 \nQ 2906 2381 2643 2742 \nQ 2381 3103 1925 3103 \nQ 1469 3103 1208 2742 \nQ 947 2381 947 1747 \nz\nM 2906 525 \nQ 2725 213 2448 61 \nQ 2172 -91 1784 -91 \nQ 1150 -91 751 415 \nQ 353 922 353 1747 \nQ 353 2572 751 3078 \nQ 1150 3584 1784 3584 \nQ 2172 3584 2448 3432 \nQ 2725 3281 2906 2969 \nL 2906 3500 \nL 3481 3500 \nL 3481 -1331 \nL 2906 -1331 \nL 2906 525 \nz\n\" transform=\"scale(0.015625)\"/>\n       <path id=\"DejaVuSans-6e\" d=\"M 3513 2113 \nL 3513 0 \nL 2938 0 \nL 2938 2094 \nQ 2938 2591 2744 2837 \nQ 2550 3084 2163 3084 \nQ 1697 3084 1428 2787 \nQ 1159 2491 1159 1978 \nL 1159 0 \nL 581 0 \nL 581 3500 \nL 1159 3500 \nL 1159 2956 \nQ 1366 3272 1645 3428 \nQ 1925 3584 2291 3584 \nQ 2894 3584 3203 3211 \nQ 3513 2838 3513 2113 \nz\n\" transform=\"scale(0.015625)\"/>\n       <path id=\"DejaVuSans-63\" d=\"M 3122 3366 \nL 3122 2828 \nQ 2878 2963 2633 3030 \nQ 2388 3097 2138 3097 \nQ 1578 3097 1268 2742 \nQ 959 2388 959 1747 \nQ 959 1106 1268 751 \nQ 1578 397 2138 397 \nQ 2388 397 2633 464 \nQ 2878 531 3122 666 \nL 3122 134 \nQ 2881 22 2623 -34 \nQ 2366 -91 2075 -91 \nQ 1284 -91 818 406 \nQ 353 903 353 1747 \nQ 353 2603 823 3093 \nQ 1294 3584 2113 3584 \nQ 2378 3584 2631 3529 \nQ 2884 3475 3122 3366 \nz\n\" transform=\"scale(0.015625)\"/>\n       <path id=\"DejaVuSans-79\" d=\"M 2059 -325 \nQ 1816 -950 1584 -1140 \nQ 1353 -1331 966 -1331 \nL 506 -1331 \nL 506 -850 \nL 844 -850 \nQ 1081 -850 1212 -737 \nQ 1344 -625 1503 -206 \nL 1606 56 \nL 191 3500 \nL 800 3500 \nL 1894 763 \nL 2988 3500 \nL 3597 3500 \nL 2059 -325 \nz\n\" transform=\"scale(0.015625)\"/>\n      </defs>\n      <use xlink:href=\"#DejaVuSans-46\"/>\n      <use xlink:href=\"#DejaVuSans-72\" x=\"50.269531\"/>\n      <use xlink:href=\"#DejaVuSans-65\" x=\"89.132812\"/>\n      <use xlink:href=\"#DejaVuSans-71\" x=\"150.65625\"/>\n      <use xlink:href=\"#DejaVuSans-75\" x=\"214.132812\"/>\n      <use xlink:href=\"#DejaVuSans-65\" x=\"277.511719\"/>\n      <use xlink:href=\"#DejaVuSans-6e\" x=\"339.035156\"/>\n      <use xlink:href=\"#DejaVuSans-63\" x=\"402.414062\"/>\n      <use xlink:href=\"#DejaVuSans-79\" x=\"457.394531\"/>\n     </g>\n    </g>\n   </g>\n   <g id=\"patch_53\">\n    <path d=\"M 53.328125 259 \nL 53.328125 30.24 \n\" style=\"fill: none; stroke: #000000; stroke-width: 0.8; stroke-linejoin: miter; stroke-linecap: square\"/>\n   </g>\n   <g id=\"patch_54\">\n    <path d=\"M 279.73854 259 \nL 279.73854 30.24 \n\" style=\"fill: none; stroke: #000000; stroke-width: 0.8; stroke-linejoin: miter; stroke-linecap: square\"/>\n   </g>\n   <g id=\"patch_55\">\n    <path d=\"M 53.328125 259 \nL 279.73854 259 \n\" style=\"fill: none; stroke: #000000; stroke-width: 0.8; stroke-linejoin: miter; stroke-linecap: square\"/>\n   </g>\n   <g id=\"patch_56\">\n    <path d=\"M 53.328125 30.24 \nL 279.73854 30.24 \n\" style=\"fill: none; stroke: #000000; stroke-width: 0.8; stroke-linejoin: miter; stroke-linecap: square\"/>\n   </g>\n   <g id=\"legend_1\">\n    <g id=\"patch_57\">\n     <path d=\"M 60.328125 52.918125 \nL 169.821875 52.918125 \nQ 171.821875 52.918125 171.821875 50.918125 \nL 171.821875 37.24 \nQ 171.821875 35.24 169.821875 35.24 \nL 60.328125 35.24 \nQ 58.328125 35.24 58.328125 37.24 \nL 58.328125 50.918125 \nQ 58.328125 52.918125 60.328125 52.918125 \nz\n\" style=\"fill: #ffffff; opacity: 0.8; stroke: #cccccc; stroke-linejoin: miter\"/>\n    </g>\n    <g id=\"patch_58\">\n     <path d=\"M 62.328125 46.838437 \nL 82.328125 46.838437 \nL 82.328125 39.838437 \nL 62.328125 39.838437 \nz\n\" style=\"fill: #ff0000; opacity: 0.5\"/>\n    </g>\n    <g id=\"text_14\">\n     <!-- Lambda=1e-05 -->\n     <g transform=\"translate(90.328125 46.838437) scale(0.1 -0.1)\">\n      <defs>\n       <path id=\"DejaVuSans-4c\" d=\"M 628 4666 \nL 1259 4666 \nL 1259 531 \nL 3531 531 \nL 3531 0 \nL 628 0 \nL 628 4666 \nz\n\" transform=\"scale(0.015625)\"/>\n       <path id=\"DejaVuSans-6d\" d=\"M 3328 2828 \nQ 3544 3216 3844 3400 \nQ 4144 3584 4550 3584 \nQ 5097 3584 5394 3201 \nQ 5691 2819 5691 2113 \nL 5691 0 \nL 5113 0 \nL 5113 2094 \nQ 5113 2597 4934 2840 \nQ 4756 3084 4391 3084 \nQ 3944 3084 3684 2787 \nQ 3425 2491 3425 1978 \nL 3425 0 \nL 2847 0 \nL 2847 2094 \nQ 2847 2600 2669 2842 \nQ 2491 3084 2119 3084 \nQ 1678 3084 1418 2786 \nQ 1159 2488 1159 1978 \nL 1159 0 \nL 581 0 \nL 581 3500 \nL 1159 3500 \nL 1159 2956 \nQ 1356 3278 1631 3431 \nQ 1906 3584 2284 3584 \nQ 2666 3584 2933 3390 \nQ 3200 3197 3328 2828 \nz\n\" transform=\"scale(0.015625)\"/>\n       <path id=\"DejaVuSans-62\" d=\"M 3116 1747 \nQ 3116 2381 2855 2742 \nQ 2594 3103 2138 3103 \nQ 1681 3103 1420 2742 \nQ 1159 2381 1159 1747 \nQ 1159 1113 1420 752 \nQ 1681 391 2138 391 \nQ 2594 391 2855 752 \nQ 3116 1113 3116 1747 \nz\nM 1159 2969 \nQ 1341 3281 1617 3432 \nQ 1894 3584 2278 3584 \nQ 2916 3584 3314 3078 \nQ 3713 2572 3713 1747 \nQ 3713 922 3314 415 \nQ 2916 -91 2278 -91 \nQ 1894 -91 1617 61 \nQ 1341 213 1159 525 \nL 1159 0 \nL 581 0 \nL 581 4863 \nL 1159 4863 \nL 1159 2969 \nz\n\" transform=\"scale(0.015625)\"/>\n       <path id=\"DejaVuSans-64\" d=\"M 2906 2969 \nL 2906 4863 \nL 3481 4863 \nL 3481 0 \nL 2906 0 \nL 2906 525 \nQ 2725 213 2448 61 \nQ 2172 -91 1784 -91 \nQ 1150 -91 751 415 \nQ 353 922 353 1747 \nQ 353 2572 751 3078 \nQ 1150 3584 1784 3584 \nQ 2172 3584 2448 3432 \nQ 2725 3281 2906 2969 \nz\nM 947 1747 \nQ 947 1113 1208 752 \nQ 1469 391 1925 391 \nQ 2381 391 2643 752 \nQ 2906 1113 2906 1747 \nQ 2906 2381 2643 2742 \nQ 2381 3103 1925 3103 \nQ 1469 3103 1208 2742 \nQ 947 2381 947 1747 \nz\n\" transform=\"scale(0.015625)\"/>\n       <path id=\"DejaVuSans-3d\" d=\"M 678 2906 \nL 4684 2906 \nL 4684 2381 \nL 678 2381 \nL 678 2906 \nz\nM 678 1631 \nL 4684 1631 \nL 4684 1100 \nL 678 1100 \nL 678 1631 \nz\n\" transform=\"scale(0.015625)\"/>\n       <path id=\"DejaVuSans-2d\" d=\"M 313 2009 \nL 1997 2009 \nL 1997 1497 \nL 313 1497 \nL 313 2009 \nz\n\" transform=\"scale(0.015625)\"/>\n      </defs>\n      <use xlink:href=\"#DejaVuSans-4c\"/>\n      <use xlink:href=\"#DejaVuSans-61\" x=\"55.712891\"/>\n      <use xlink:href=\"#DejaVuSans-6d\" x=\"116.992188\"/>\n      <use xlink:href=\"#DejaVuSans-62\" x=\"214.404297\"/>\n      <use xlink:href=\"#DejaVuSans-64\" x=\"277.880859\"/>\n      <use xlink:href=\"#DejaVuSans-61\" x=\"341.357422\"/>\n      <use xlink:href=\"#DejaVuSans-3d\" x=\"402.636719\"/>\n      <use xlink:href=\"#DejaVuSans-31\" x=\"486.425781\"/>\n      <use xlink:href=\"#DejaVuSans-65\" x=\"550.048828\"/>\n      <use xlink:href=\"#DejaVuSans-2d\" x=\"611.572266\"/>\n      <use xlink:href=\"#DejaVuSans-30\" x=\"647.65625\"/>\n      <use xlink:href=\"#DejaVuSans-35\" x=\"711.279297\"/>\n     </g>\n    </g>\n   </g>\n  </g>\n  <g id=\"axes_2\">\n   <g id=\"patch_59\">\n    <path d=\"M 336.90854 259 \nL 563.318955 259 \nL 563.318955 30.24 \nL 336.90854 30.24 \nz\n\" style=\"fill: #ffffff\"/>\n   </g>\n   <g id=\"patch_60\">\n    <path d=\"M 347.199922 259 \nL 351.316475 259 \nL 351.316475 258.685164 \nL 347.199922 258.685164 \nz\n\" clip-path=\"url(#p3d3887c857)\" style=\"fill: #ffa500; opacity: 0.5\"/>\n   </g>\n   <g id=\"patch_61\">\n    <path d=\"M 351.316475 259 \nL 355.433029 259 \nL 355.433029 259 \nL 351.316475 259 \nz\n\" clip-path=\"url(#p3d3887c857)\" style=\"fill: #ffa500; opacity: 0.5\"/>\n   </g>\n   <g id=\"patch_62\">\n    <path d=\"M 355.433029 259 \nL 359.549582 259 \nL 359.549582 259 \nL 355.433029 259 \nz\n\" clip-path=\"url(#p3d3887c857)\" style=\"fill: #ffa500; opacity: 0.5\"/>\n   </g>\n   <g id=\"patch_63\">\n    <path d=\"M 359.549582 259 \nL 363.666135 259 \nL 363.666135 259 \nL 359.549582 259 \nz\n\" clip-path=\"url(#p3d3887c857)\" style=\"fill: #ffa500; opacity: 0.5\"/>\n   </g>\n   <g id=\"patch_64\">\n    <path d=\"M 363.666135 259 \nL 367.782688 259 \nL 367.782688 259 \nL 363.666135 259 \nz\n\" clip-path=\"url(#p3d3887c857)\" style=\"fill: #ffa500; opacity: 0.5\"/>\n   </g>\n   <g id=\"patch_65\">\n    <path d=\"M 367.782688 259 \nL 371.899241 259 \nL 371.899241 259 \nL 367.782688 259 \nz\n\" clip-path=\"url(#p3d3887c857)\" style=\"fill: #ffa500; opacity: 0.5\"/>\n   </g>\n   <g id=\"patch_66\">\n    <path d=\"M 371.899241 259 \nL 376.015794 259 \nL 376.015794 258.685164 \nL 371.899241 258.685164 \nz\n\" clip-path=\"url(#p3d3887c857)\" style=\"fill: #ffa500; opacity: 0.5\"/>\n   </g>\n   <g id=\"patch_67\">\n    <path d=\"M 376.015794 259 \nL 380.132347 259 \nL 380.132347 259 \nL 376.015794 259 \nz\n\" clip-path=\"url(#p3d3887c857)\" style=\"fill: #ffa500; opacity: 0.5\"/>\n   </g>\n   <g id=\"patch_68\">\n    <path d=\"M 380.132347 259 \nL 384.2489 259 \nL 384.2489 259 \nL 380.132347 259 \nz\n\" clip-path=\"url(#p3d3887c857)\" style=\"fill: #ffa500; opacity: 0.5\"/>\n   </g>\n   <g id=\"patch_69\">\n    <path d=\"M 384.2489 259 \nL 388.365453 259 \nL 388.365453 259 \nL 384.2489 259 \nz\n\" clip-path=\"url(#p3d3887c857)\" style=\"fill: #ffa500; opacity: 0.5\"/>\n   </g>\n   <g id=\"patch_70\">\n    <path d=\"M 388.365453 259 \nL 392.482006 259 \nL 392.482006 259 \nL 388.365453 259 \nz\n\" clip-path=\"url(#p3d3887c857)\" style=\"fill: #ffa500; opacity: 0.5\"/>\n   </g>\n   <g id=\"patch_71\">\n    <path d=\"M 392.482006 259 \nL 396.59856 259 \nL 396.59856 259 \nL 392.482006 259 \nz\n\" clip-path=\"url(#p3d3887c857)\" style=\"fill: #ffa500; opacity: 0.5\"/>\n   </g>\n   <g id=\"patch_72\">\n    <path d=\"M 396.59856 259 \nL 400.715113 259 \nL 400.715113 259 \nL 396.59856 259 \nz\n\" clip-path=\"url(#p3d3887c857)\" style=\"fill: #ffa500; opacity: 0.5\"/>\n   </g>\n   <g id=\"patch_73\">\n    <path d=\"M 400.715113 259 \nL 404.831666 259 \nL 404.831666 258.685164 \nL 400.715113 258.685164 \nz\n\" clip-path=\"url(#p3d3887c857)\" style=\"fill: #ffa500; opacity: 0.5\"/>\n   </g>\n   <g id=\"patch_74\">\n    <path d=\"M 404.831666 259 \nL 408.948219 259 \nL 408.948219 258.685164 \nL 404.831666 258.685164 \nz\n\" clip-path=\"url(#p3d3887c857)\" style=\"fill: #ffa500; opacity: 0.5\"/>\n   </g>\n   <g id=\"patch_75\">\n    <path d=\"M 408.948219 259 \nL 413.064772 259 \nL 413.064772 259 \nL 408.948219 259 \nz\n\" clip-path=\"url(#p3d3887c857)\" style=\"fill: #ffa500; opacity: 0.5\"/>\n   </g>\n   <g id=\"patch_76\">\n    <path d=\"M 413.064772 259 \nL 417.181325 259 \nL 417.181325 258.685164 \nL 413.064772 258.685164 \nz\n\" clip-path=\"url(#p3d3887c857)\" style=\"fill: #ffa500; opacity: 0.5\"/>\n   </g>\n   <g id=\"patch_77\">\n    <path d=\"M 417.181325 259 \nL 421.297878 259 \nL 421.297878 258.055491 \nL 417.181325 258.055491 \nz\n\" clip-path=\"url(#p3d3887c857)\" style=\"fill: #ffa500; opacity: 0.5\"/>\n   </g>\n   <g id=\"patch_78\">\n    <path d=\"M 421.297878 259 \nL 425.414431 259 \nL 425.414431 258.055491 \nL 421.297878 258.055491 \nz\n\" clip-path=\"url(#p3d3887c857)\" style=\"fill: #ffa500; opacity: 0.5\"/>\n   </g>\n   <g id=\"patch_79\">\n    <path d=\"M 425.414431 259 \nL 429.530984 259 \nL 429.530984 257.110983 \nL 425.414431 257.110983 \nz\n\" clip-path=\"url(#p3d3887c857)\" style=\"fill: #ffa500; opacity: 0.5\"/>\n   </g>\n   <g id=\"patch_80\">\n    <path d=\"M 429.530984 259 \nL 433.647537 259 \nL 433.647537 256.166474 \nL 429.530984 256.166474 \nz\n\" clip-path=\"url(#p3d3887c857)\" style=\"fill: #ffa500; opacity: 0.5\"/>\n   </g>\n   <g id=\"patch_81\">\n    <path d=\"M 433.647537 259 \nL 437.764088 259 \nL 437.764088 255.851638 \nL 433.647537 255.851638 \nz\n\" clip-path=\"url(#p3d3887c857)\" style=\"fill: #ffa500; opacity: 0.5\"/>\n   </g>\n   <g id=\"patch_82\">\n    <path d=\"M 437.764088 259 \nL 441.880641 259 \nL 441.880641 251.129094 \nL 437.764088 251.129094 \nz\n\" clip-path=\"url(#p3d3887c857)\" style=\"fill: #ffa500; opacity: 0.5\"/>\n   </g>\n   <g id=\"patch_83\">\n    <path d=\"M 441.880641 259 \nL 445.997194 259 \nL 445.997194 231.924085 \nL 441.880641 231.924085 \nz\n\" clip-path=\"url(#p3d3887c857)\" style=\"fill: #ffa500; opacity: 0.5\"/>\n   </g>\n   <g id=\"patch_84\">\n    <path d=\"M 445.997194 259 \nL 450.113747 259 \nL 450.113747 201.070135 \nL 445.997194 201.070135 \nz\n\" clip-path=\"url(#p3d3887c857)\" style=\"fill: #ffa500; opacity: 0.5\"/>\n   </g>\n   <g id=\"patch_85\">\n    <path d=\"M 450.113747 259 \nL 454.2303 259 \nL 454.2303 203.273988 \nL 450.113747 203.273988 \nz\n\" clip-path=\"url(#p3d3887c857)\" style=\"fill: #ffa500; opacity: 0.5\"/>\n   </g>\n   <g id=\"patch_86\">\n    <path d=\"M 454.2303 259 \nL 458.346853 259 \nL 458.346853 184.068979 \nL 454.2303 184.068979 \nz\n\" clip-path=\"url(#p3d3887c857)\" style=\"fill: #ffa500; opacity: 0.5\"/>\n   </g>\n   <g id=\"patch_87\">\n    <path d=\"M 458.346853 259 \nL 462.463407 259 \nL 462.463407 183.12447 \nL 458.346853 183.12447 \nz\n\" clip-path=\"url(#p3d3887c857)\" style=\"fill: #ffa500; opacity: 0.5\"/>\n   </g>\n   <g id=\"patch_88\">\n    <path d=\"M 462.463407 259 \nL 466.57996 259 \nL 466.57996 130.546821 \nL 462.463407 130.546821 \nz\n\" clip-path=\"url(#p3d3887c857)\" style=\"fill: #ffa500; opacity: 0.5\"/>\n   </g>\n   <g id=\"patch_89\">\n    <path d=\"M 466.57996 259 \nL 470.696512 259 \nL 470.696512 142.825434 \nL 466.57996 142.825434 \nz\n\" clip-path=\"url(#p3d3887c857)\" style=\"fill: #ffa500; opacity: 0.5\"/>\n   </g>\n   <g id=\"patch_90\">\n    <path d=\"M 470.696512 259 \nL 474.813065 259 \nL 474.813065 159.196917 \nL 470.696512 159.196917 \nz\n\" clip-path=\"url(#p3d3887c857)\" style=\"fill: #ffa500; opacity: 0.5\"/>\n   </g>\n   <g id=\"patch_91\">\n    <path d=\"M 474.813065 259 \nL 478.929618 259 \nL 478.929618 41.133333 \nL 474.813065 41.133333 \nz\n\" clip-path=\"url(#p3d3887c857)\" style=\"fill: #ffa500; opacity: 0.5\"/>\n   </g>\n   <g id=\"patch_92\">\n    <path d=\"M 478.929618 259 \nL 483.046171 259 \nL 483.046171 147.862813 \nL 478.929618 147.862813 \nz\n\" clip-path=\"url(#p3d3887c857)\" style=\"fill: #ffa500; opacity: 0.5\"/>\n   </g>\n   <g id=\"patch_93\">\n    <path d=\"M 483.046171 259 \nL 487.162725 259 \nL 487.162725 156.993064 \nL 483.046171 156.993064 \nz\n\" clip-path=\"url(#p3d3887c857)\" style=\"fill: #ffa500; opacity: 0.5\"/>\n   </g>\n   <g id=\"patch_94\">\n    <path d=\"M 487.162725 259 \nL 491.279277 259 \nL 491.279277 157.622736 \nL 487.162725 157.622736 \nz\n\" clip-path=\"url(#p3d3887c857)\" style=\"fill: #ffa500; opacity: 0.5\"/>\n   </g>\n   <g id=\"patch_95\">\n    <path d=\"M 491.279277 259 \nL 495.39583 259 \nL 495.39583 148.177649 \nL 491.279277 148.177649 \nz\n\" clip-path=\"url(#p3d3887c857)\" style=\"fill: #ffa500; opacity: 0.5\"/>\n   </g>\n   <g id=\"patch_96\">\n    <path d=\"M 495.39583 259 \nL 499.512383 259 \nL 499.512383 185.64316 \nL 495.39583 185.64316 \nz\n\" clip-path=\"url(#p3d3887c857)\" style=\"fill: #ffa500; opacity: 0.5\"/>\n   </g>\n   <g id=\"patch_97\">\n    <path d=\"M 499.512383 259 \nL 503.628935 259 \nL 503.628935 190.050867 \nL 499.512383 190.050867 \nz\n\" clip-path=\"url(#p3d3887c857)\" style=\"fill: #ffa500; opacity: 0.5\"/>\n   </g>\n   <g id=\"patch_98\">\n    <path d=\"M 503.628935 259 \nL 507.745488 259 \nL 507.745488 200.440462 \nL 503.628935 200.440462 \nz\n\" clip-path=\"url(#p3d3887c857)\" style=\"fill: #ffa500; opacity: 0.5\"/>\n   </g>\n   <g id=\"patch_99\">\n    <path d=\"M 507.745488 259 \nL 511.862041 259 \nL 511.862041 216.811946 \nL 507.745488 216.811946 \nz\n\" clip-path=\"url(#p3d3887c857)\" style=\"fill: #ffa500; opacity: 0.5\"/>\n   </g>\n   <g id=\"patch_100\">\n    <path d=\"M 511.862041 259 \nL 515.978594 259 \nL 515.978594 238.535645 \nL 511.862041 238.535645 \nz\n\" clip-path=\"url(#p3d3887c857)\" style=\"fill: #ffa500; opacity: 0.5\"/>\n   </g>\n   <g id=\"patch_101\">\n    <path d=\"M 515.978594 259 \nL 520.095147 259 \nL 520.095147 251.443931 \nL 515.978594 251.443931 \nz\n\" clip-path=\"url(#p3d3887c857)\" style=\"fill: #ffa500; opacity: 0.5\"/>\n   </g>\n   <g id=\"patch_102\">\n    <path d=\"M 520.095147 259 \nL 524.2117 259 \nL 524.2117 257.425819 \nL 520.095147 257.425819 \nz\n\" clip-path=\"url(#p3d3887c857)\" style=\"fill: #ffa500; opacity: 0.5\"/>\n   </g>\n   <g id=\"patch_103\">\n    <path d=\"M 524.2117 259 \nL 528.328254 259 \nL 528.328254 257.740655 \nL 524.2117 257.740655 \nz\n\" clip-path=\"url(#p3d3887c857)\" style=\"fill: #ffa500; opacity: 0.5\"/>\n   </g>\n   <g id=\"patch_104\">\n    <path d=\"M 528.328254 259 \nL 532.444807 259 \nL 532.444807 258.055491 \nL 528.328254 258.055491 \nz\n\" clip-path=\"url(#p3d3887c857)\" style=\"fill: #ffa500; opacity: 0.5\"/>\n   </g>\n   <g id=\"patch_105\">\n    <path d=\"M 532.444807 259 \nL 536.56136 259 \nL 536.56136 259 \nL 532.444807 259 \nz\n\" clip-path=\"url(#p3d3887c857)\" style=\"fill: #ffa500; opacity: 0.5\"/>\n   </g>\n   <g id=\"patch_106\">\n    <path d=\"M 536.56136 259 \nL 540.677913 259 \nL 540.677913 258.370328 \nL 536.56136 258.370328 \nz\n\" clip-path=\"url(#p3d3887c857)\" style=\"fill: #ffa500; opacity: 0.5\"/>\n   </g>\n   <g id=\"patch_107\">\n    <path d=\"M 540.677913 259 \nL 544.794466 259 \nL 544.794466 259 \nL 540.677913 259 \nz\n\" clip-path=\"url(#p3d3887c857)\" style=\"fill: #ffa500; opacity: 0.5\"/>\n   </g>\n   <g id=\"patch_108\">\n    <path d=\"M 544.794466 259 \nL 548.911019 259 \nL 548.911019 259 \nL 544.794466 259 \nz\n\" clip-path=\"url(#p3d3887c857)\" style=\"fill: #ffa500; opacity: 0.5\"/>\n   </g>\n   <g id=\"patch_109\">\n    <path d=\"M 548.911019 259 \nL 553.027572 259 \nL 553.027572 258.685164 \nL 548.911019 258.685164 \nz\n\" clip-path=\"url(#p3d3887c857)\" style=\"fill: #ffa500; opacity: 0.5\"/>\n   </g>\n   <g id=\"matplotlib.axis_3\">\n    <g id=\"xtick_5\">\n     <g id=\"line2d_12\">\n      <g>\n       <use xlink:href=\"#md602424763\" x=\"366.63162\" y=\"259\" style=\"stroke: #000000; stroke-width: 0.8\"/>\n      </g>\n     </g>\n     <g id=\"text_15\">\n      <!-- −0.04 -->\n      <g transform=\"translate(351.308964 273.598437) scale(0.1 -0.1)\">\n       <use xlink:href=\"#DejaVuSans-2212\"/>\n       <use xlink:href=\"#DejaVuSans-30\" x=\"83.789062\"/>\n       <use xlink:href=\"#DejaVuSans-2e\" x=\"147.412109\"/>\n       <use xlink:href=\"#DejaVuSans-30\" x=\"179.199219\"/>\n       <use xlink:href=\"#DejaVuSans-34\" x=\"242.822266\"/>\n      </g>\n     </g>\n    </g>\n    <g id=\"xtick_6\">\n     <g id=\"line2d_13\">\n      <g>\n       <use xlink:href=\"#md602424763\" x=\"422.500693\" y=\"259\" style=\"stroke: #000000; stroke-width: 0.8\"/>\n      </g>\n     </g>\n     <g id=\"text_16\">\n      <!-- −0.02 -->\n      <g transform=\"translate(407.178037 273.598437) scale(0.1 -0.1)\">\n       <use xlink:href=\"#DejaVuSans-2212\"/>\n       <use xlink:href=\"#DejaVuSans-30\" x=\"83.789062\"/>\n       <use xlink:href=\"#DejaVuSans-2e\" x=\"147.412109\"/>\n       <use xlink:href=\"#DejaVuSans-30\" x=\"179.199219\"/>\n       <use xlink:href=\"#DejaVuSans-32\" x=\"242.822266\"/>\n      </g>\n     </g>\n    </g>\n    <g id=\"xtick_7\">\n     <g id=\"line2d_14\">\n      <g>\n       <use xlink:href=\"#md602424763\" x=\"478.369766\" y=\"259\" style=\"stroke: #000000; stroke-width: 0.8\"/>\n      </g>\n     </g>\n     <g id=\"text_17\">\n      <!-- 0.00 -->\n      <g transform=\"translate(467.236954 273.598437) scale(0.1 -0.1)\">\n       <use xlink:href=\"#DejaVuSans-30\"/>\n       <use xlink:href=\"#DejaVuSans-2e\" x=\"63.623047\"/>\n       <use xlink:href=\"#DejaVuSans-30\" x=\"95.410156\"/>\n       <use xlink:href=\"#DejaVuSans-30\" x=\"159.033203\"/>\n      </g>\n     </g>\n    </g>\n    <g id=\"xtick_8\">\n     <g id=\"line2d_15\">\n      <g>\n       <use xlink:href=\"#md602424763\" x=\"534.238839\" y=\"259\" style=\"stroke: #000000; stroke-width: 0.8\"/>\n      </g>\n     </g>\n     <g id=\"text_18\">\n      <!-- 0.02 -->\n      <g transform=\"translate(523.106027 273.598437) scale(0.1 -0.1)\">\n       <use xlink:href=\"#DejaVuSans-30\"/>\n       <use xlink:href=\"#DejaVuSans-2e\" x=\"63.623047\"/>\n       <use xlink:href=\"#DejaVuSans-30\" x=\"95.410156\"/>\n       <use xlink:href=\"#DejaVuSans-32\" x=\"159.033203\"/>\n      </g>\n     </g>\n    </g>\n    <g id=\"text_19\">\n     <!-- Weights Values -->\n     <g transform=\"translate(412.16531 287.276562) scale(0.1 -0.1)\">\n      <use xlink:href=\"#DejaVuSans-57\"/>\n      <use xlink:href=\"#DejaVuSans-65\" x=\"93.001953\"/>\n      <use xlink:href=\"#DejaVuSans-69\" x=\"154.525391\"/>\n      <use xlink:href=\"#DejaVuSans-67\" x=\"182.308594\"/>\n      <use xlink:href=\"#DejaVuSans-68\" x=\"245.785156\"/>\n      <use xlink:href=\"#DejaVuSans-74\" x=\"309.164062\"/>\n      <use xlink:href=\"#DejaVuSans-73\" x=\"348.373047\"/>\n      <use xlink:href=\"#DejaVuSans-20\" x=\"400.472656\"/>\n      <use xlink:href=\"#DejaVuSans-56\" x=\"432.259766\"/>\n      <use xlink:href=\"#DejaVuSans-61\" x=\"492.917969\"/>\n      <use xlink:href=\"#DejaVuSans-6c\" x=\"554.197266\"/>\n      <use xlink:href=\"#DejaVuSans-75\" x=\"581.980469\"/>\n      <use xlink:href=\"#DejaVuSans-65\" x=\"645.359375\"/>\n      <use xlink:href=\"#DejaVuSans-73\" x=\"706.882812\"/>\n     </g>\n    </g>\n   </g>\n   <g id=\"matplotlib.axis_4\">\n    <g id=\"ytick_8\">\n     <g id=\"line2d_16\">\n      <g>\n       <use xlink:href=\"#m2513a9dab9\" x=\"336.90854\" y=\"259\" style=\"stroke: #000000; stroke-width: 0.8\"/>\n      </g>\n     </g>\n     <g id=\"text_20\">\n      <!-- 0 -->\n      <g transform=\"translate(323.54604 262.799219) scale(0.1 -0.1)\">\n       <use xlink:href=\"#DejaVuSans-30\"/>\n      </g>\n     </g>\n    </g>\n    <g id=\"ytick_9\">\n     <g id=\"line2d_17\">\n      <g>\n       <use xlink:href=\"#m2513a9dab9\" x=\"336.90854\" y=\"227.516378\" style=\"stroke: #000000; stroke-width: 0.8\"/>\n      </g>\n     </g>\n     <g id=\"text_21\">\n      <!-- 100 -->\n      <g transform=\"translate(310.82104 231.315596) scale(0.1 -0.1)\">\n       <use xlink:href=\"#DejaVuSans-31\"/>\n       <use xlink:href=\"#DejaVuSans-30\" x=\"63.623047\"/>\n       <use xlink:href=\"#DejaVuSans-30\" x=\"127.246094\"/>\n      </g>\n     </g>\n    </g>\n    <g id=\"ytick_10\">\n     <g id=\"line2d_18\">\n      <g>\n       <use xlink:href=\"#m2513a9dab9\" x=\"336.90854\" y=\"196.032755\" style=\"stroke: #000000; stroke-width: 0.8\"/>\n      </g>\n     </g>\n     <g id=\"text_22\">\n      <!-- 200 -->\n      <g transform=\"translate(310.82104 199.831974) scale(0.1 -0.1)\">\n       <use xlink:href=\"#DejaVuSans-32\"/>\n       <use xlink:href=\"#DejaVuSans-30\" x=\"63.623047\"/>\n       <use xlink:href=\"#DejaVuSans-30\" x=\"127.246094\"/>\n      </g>\n     </g>\n    </g>\n    <g id=\"ytick_11\">\n     <g id=\"line2d_19\">\n      <g>\n       <use xlink:href=\"#m2513a9dab9\" x=\"336.90854\" y=\"164.549133\" style=\"stroke: #000000; stroke-width: 0.8\"/>\n      </g>\n     </g>\n     <g id=\"text_23\">\n      <!-- 300 -->\n      <g transform=\"translate(310.82104 168.348352) scale(0.1 -0.1)\">\n       <use xlink:href=\"#DejaVuSans-33\"/>\n       <use xlink:href=\"#DejaVuSans-30\" x=\"63.623047\"/>\n       <use xlink:href=\"#DejaVuSans-30\" x=\"127.246094\"/>\n      </g>\n     </g>\n    </g>\n    <g id=\"ytick_12\">\n     <g id=\"line2d_20\">\n      <g>\n       <use xlink:href=\"#m2513a9dab9\" x=\"336.90854\" y=\"133.065511\" style=\"stroke: #000000; stroke-width: 0.8\"/>\n      </g>\n     </g>\n     <g id=\"text_24\">\n      <!-- 400 -->\n      <g transform=\"translate(310.82104 136.864729) scale(0.1 -0.1)\">\n       <use xlink:href=\"#DejaVuSans-34\"/>\n       <use xlink:href=\"#DejaVuSans-30\" x=\"63.623047\"/>\n       <use xlink:href=\"#DejaVuSans-30\" x=\"127.246094\"/>\n      </g>\n     </g>\n    </g>\n    <g id=\"ytick_13\">\n     <g id=\"line2d_21\">\n      <g>\n       <use xlink:href=\"#m2513a9dab9\" x=\"336.90854\" y=\"101.581888\" style=\"stroke: #000000; stroke-width: 0.8\"/>\n      </g>\n     </g>\n     <g id=\"text_25\">\n      <!-- 500 -->\n      <g transform=\"translate(310.82104 105.381107) scale(0.1 -0.1)\">\n       <use xlink:href=\"#DejaVuSans-35\"/>\n       <use xlink:href=\"#DejaVuSans-30\" x=\"63.623047\"/>\n       <use xlink:href=\"#DejaVuSans-30\" x=\"127.246094\"/>\n      </g>\n     </g>\n    </g>\n    <g id=\"ytick_14\">\n     <g id=\"line2d_22\">\n      <g>\n       <use xlink:href=\"#m2513a9dab9\" x=\"336.90854\" y=\"70.098266\" style=\"stroke: #000000; stroke-width: 0.8\"/>\n      </g>\n     </g>\n     <g id=\"text_26\">\n      <!-- 600 -->\n      <g transform=\"translate(310.82104 73.897485) scale(0.1 -0.1)\">\n       <use xlink:href=\"#DejaVuSans-36\"/>\n       <use xlink:href=\"#DejaVuSans-30\" x=\"63.623047\"/>\n       <use xlink:href=\"#DejaVuSans-30\" x=\"127.246094\"/>\n      </g>\n     </g>\n    </g>\n    <g id=\"ytick_15\">\n     <g id=\"line2d_23\">\n      <g>\n       <use xlink:href=\"#m2513a9dab9\" x=\"336.90854\" y=\"38.614644\" style=\"stroke: #000000; stroke-width: 0.8\"/>\n      </g>\n     </g>\n     <g id=\"text_27\">\n      <!-- 700 -->\n      <g transform=\"translate(310.82104 42.413862) scale(0.1 -0.1)\">\n       <defs>\n        <path id=\"DejaVuSans-37\" d=\"M 525 4666 \nL 3525 4666 \nL 3525 4397 \nL 1831 0 \nL 1172 0 \nL 2766 4134 \nL 525 4134 \nL 525 4666 \nz\n\" transform=\"scale(0.015625)\"/>\n       </defs>\n       <use xlink:href=\"#DejaVuSans-37\"/>\n       <use xlink:href=\"#DejaVuSans-30\" x=\"63.623047\"/>\n       <use xlink:href=\"#DejaVuSans-30\" x=\"127.246094\"/>\n      </g>\n     </g>\n    </g>\n    <g id=\"text_28\">\n     <!-- Frequency -->\n     <g transform=\"translate(304.741352 170.449687) rotate(-90) scale(0.1 -0.1)\">\n      <use xlink:href=\"#DejaVuSans-46\"/>\n      <use xlink:href=\"#DejaVuSans-72\" x=\"50.269531\"/>\n      <use xlink:href=\"#DejaVuSans-65\" x=\"89.132812\"/>\n      <use xlink:href=\"#DejaVuSans-71\" x=\"150.65625\"/>\n      <use xlink:href=\"#DejaVuSans-75\" x=\"214.132812\"/>\n      <use xlink:href=\"#DejaVuSans-65\" x=\"277.511719\"/>\n      <use xlink:href=\"#DejaVuSans-6e\" x=\"339.035156\"/>\n      <use xlink:href=\"#DejaVuSans-63\" x=\"402.414062\"/>\n      <use xlink:href=\"#DejaVuSans-79\" x=\"457.394531\"/>\n     </g>\n    </g>\n   </g>\n   <g id=\"patch_110\">\n    <path d=\"M 336.90854 259 \nL 336.90854 30.24 \n\" style=\"fill: none; stroke: #000000; stroke-width: 0.8; stroke-linejoin: miter; stroke-linecap: square\"/>\n   </g>\n   <g id=\"patch_111\">\n    <path d=\"M 563.318955 259 \nL 563.318955 30.24 \n\" style=\"fill: none; stroke: #000000; stroke-width: 0.8; stroke-linejoin: miter; stroke-linecap: square\"/>\n   </g>\n   <g id=\"patch_112\">\n    <path d=\"M 336.90854 259 \nL 563.318955 259 \n\" style=\"fill: none; stroke: #000000; stroke-width: 0.8; stroke-linejoin: miter; stroke-linecap: square\"/>\n   </g>\n   <g id=\"patch_113\">\n    <path d=\"M 336.90854 30.24 \nL 563.318955 30.24 \n\" style=\"fill: none; stroke: #000000; stroke-width: 0.8; stroke-linejoin: miter; stroke-linecap: square\"/>\n   </g>\n   <g id=\"legend_2\">\n    <g id=\"patch_114\">\n     <path d=\"M 343.90854 52.918125 \nL 453.181977 52.918125 \nQ 455.181977 52.918125 455.181977 50.918125 \nL 455.181977 37.24 \nQ 455.181977 35.24 453.181977 35.24 \nL 343.90854 35.24 \nQ 341.90854 35.24 341.90854 37.24 \nL 341.90854 50.918125 \nQ 341.90854 52.918125 343.90854 52.918125 \nz\n\" style=\"fill: #ffffff; opacity: 0.8; stroke: #cccccc; stroke-linejoin: miter\"/>\n    </g>\n    <g id=\"patch_115\">\n     <path d=\"M 345.90854 46.838437 \nL 365.90854 46.838437 \nL 365.90854 39.838437 \nL 345.90854 39.838437 \nz\n\" style=\"fill: #ffa500; opacity: 0.5\"/>\n    </g>\n    <g id=\"text_29\">\n     <!-- Lambda=0.001 -->\n     <g transform=\"translate(373.90854 46.838437) scale(0.1 -0.1)\">\n      <use xlink:href=\"#DejaVuSans-4c\"/>\n      <use xlink:href=\"#DejaVuSans-61\" x=\"55.712891\"/>\n      <use xlink:href=\"#DejaVuSans-6d\" x=\"116.992188\"/>\n      <use xlink:href=\"#DejaVuSans-62\" x=\"214.404297\"/>\n      <use xlink:href=\"#DejaVuSans-64\" x=\"277.880859\"/>\n      <use xlink:href=\"#DejaVuSans-61\" x=\"341.357422\"/>\n      <use xlink:href=\"#DejaVuSans-3d\" x=\"402.636719\"/>\n      <use xlink:href=\"#DejaVuSans-30\" x=\"486.425781\"/>\n      <use xlink:href=\"#DejaVuSans-2e\" x=\"550.048828\"/>\n      <use xlink:href=\"#DejaVuSans-30\" x=\"581.835938\"/>\n      <use xlink:href=\"#DejaVuSans-30\" x=\"645.458984\"/>\n      <use xlink:href=\"#DejaVuSans-31\" x=\"709.082031\"/>\n     </g>\n    </g>\n   </g>\n  </g>\n  <g id=\"axes_3\">\n   <g id=\"patch_116\">\n    <path d=\"M 620.488955 259 \nL 846.89937 259 \nL 846.89937 30.24 \nL 620.488955 30.24 \nz\n\" style=\"fill: #ffffff\"/>\n   </g>\n   <g id=\"patch_117\">\n    <path d=\"M 630.780337 259 \nL 634.896891 259 \nL 634.896891 258.317032 \nL 630.780337 258.317032 \nz\n\" clip-path=\"url(#p0d4a67afbf)\" style=\"fill: #ffff00; opacity: 0.5\"/>\n   </g>\n   <g id=\"patch_118\">\n    <path d=\"M 634.896891 259 \nL 639.013445 259 \nL 639.013445 258.658516 \nL 634.896891 258.658516 \nz\n\" clip-path=\"url(#p0d4a67afbf)\" style=\"fill: #ffff00; opacity: 0.5\"/>\n   </g>\n   <g id=\"patch_119\">\n    <path d=\"M 639.013445 259 \nL 643.13 259 \nL 643.13 258.658516 \nL 639.013445 258.658516 \nz\n\" clip-path=\"url(#p0d4a67afbf)\" style=\"fill: #ffff00; opacity: 0.5\"/>\n   </g>\n   <g id=\"patch_120\">\n    <path d=\"M 643.13 259 \nL 647.246554 259 \nL 647.246554 259 \nL 643.13 259 \nz\n\" clip-path=\"url(#p0d4a67afbf)\" style=\"fill: #ffff00; opacity: 0.5\"/>\n   </g>\n   <g id=\"patch_121\">\n    <path d=\"M 647.246554 259 \nL 651.363098 259 \nL 651.363098 257.975549 \nL 647.246554 257.975549 \nz\n\" clip-path=\"url(#p0d4a67afbf)\" style=\"fill: #ffff00; opacity: 0.5\"/>\n   </g>\n   <g id=\"patch_122\">\n    <path d=\"M 651.363098 259 \nL 655.479657 259 \nL 655.479657 257.975549 \nL 651.363098 257.975549 \nz\n\" clip-path=\"url(#p0d4a67afbf)\" style=\"fill: #ffff00; opacity: 0.5\"/>\n   </g>\n   <g id=\"patch_123\">\n    <path d=\"M 655.479657 259 \nL 659.596207 259 \nL 659.596207 257.975549 \nL 655.479657 257.975549 \nz\n\" clip-path=\"url(#p0d4a67afbf)\" style=\"fill: #ffff00; opacity: 0.5\"/>\n   </g>\n   <g id=\"patch_124\">\n    <path d=\"M 659.596207 259 \nL 663.712761 259 \nL 663.712761 257.634065 \nL 659.596207 257.634065 \nz\n\" clip-path=\"url(#p0d4a67afbf)\" style=\"fill: #ffff00; opacity: 0.5\"/>\n   </g>\n   <g id=\"patch_125\">\n    <path d=\"M 663.712761 259 \nL 667.829315 259 \nL 667.829315 257.975549 \nL 663.712761 257.975549 \nz\n\" clip-path=\"url(#p0d4a67afbf)\" style=\"fill: #ffff00; opacity: 0.5\"/>\n   </g>\n   <g id=\"patch_126\">\n    <path d=\"M 667.829315 259 \nL 671.945869 259 \nL 671.945869 258.317032 \nL 667.829315 258.317032 \nz\n\" clip-path=\"url(#p0d4a67afbf)\" style=\"fill: #ffff00; opacity: 0.5\"/>\n   </g>\n   <g id=\"patch_127\">\n    <path d=\"M 671.945869 259 \nL 676.062418 259 \nL 676.062418 256.951097 \nL 671.945869 256.951097 \nz\n\" clip-path=\"url(#p0d4a67afbf)\" style=\"fill: #ffff00; opacity: 0.5\"/>\n   </g>\n   <g id=\"patch_128\">\n    <path d=\"M 676.062418 259 \nL 680.178973 259 \nL 680.178973 255.585162 \nL 676.062418 255.585162 \nz\n\" clip-path=\"url(#p0d4a67afbf)\" style=\"fill: #ffff00; opacity: 0.5\"/>\n   </g>\n   <g id=\"patch_129\">\n    <path d=\"M 680.178973 259 \nL 684.295527 259 \nL 684.295527 255.926646 \nL 680.178973 255.926646 \nz\n\" clip-path=\"url(#p0d4a67afbf)\" style=\"fill: #ffff00; opacity: 0.5\"/>\n   </g>\n   <g id=\"patch_130\">\n    <path d=\"M 684.295527 259 \nL 688.412081 259 \nL 688.412081 253.536259 \nL 684.295527 253.536259 \nz\n\" clip-path=\"url(#p0d4a67afbf)\" style=\"fill: #ffff00; opacity: 0.5\"/>\n   </g>\n   <g id=\"patch_131\">\n    <path d=\"M 688.412081 259 \nL 692.52863 259 \nL 692.52863 253.536259 \nL 688.412081 253.536259 \nz\n\" clip-path=\"url(#p0d4a67afbf)\" style=\"fill: #ffff00; opacity: 0.5\"/>\n   </g>\n   <g id=\"patch_132\">\n    <path d=\"M 692.52863 259 \nL 696.645184 259 \nL 696.645184 249.779937 \nL 692.52863 249.779937 \nz\n\" clip-path=\"url(#p0d4a67afbf)\" style=\"fill: #ffff00; opacity: 0.5\"/>\n   </g>\n   <g id=\"patch_133\">\n    <path d=\"M 696.645184 259 \nL 700.761739 259 \nL 700.761739 248.755486 \nL 696.645184 248.755486 \nz\n\" clip-path=\"url(#p0d4a67afbf)\" style=\"fill: #ffff00; opacity: 0.5\"/>\n   </g>\n   <g id=\"patch_134\">\n    <path d=\"M 700.761739 259 \nL 704.87829 259 \nL 704.87829 210.850784 \nL 700.761739 210.850784 \nz\n\" clip-path=\"url(#p0d4a67afbf)\" style=\"fill: #ffff00; opacity: 0.5\"/>\n   </g>\n   <g id=\"patch_135\">\n    <path d=\"M 704.87829 259 \nL 708.994844 259 \nL 708.994844 201.289237 \nL 704.87829 201.289237 \nz\n\" clip-path=\"url(#p0d4a67afbf)\" style=\"fill: #ffff00; opacity: 0.5\"/>\n   </g>\n   <g id=\"patch_136\">\n    <path d=\"M 708.994844 259 \nL 713.111396 259 \nL 713.111396 185.239498 \nL 708.994844 185.239498 \nz\n\" clip-path=\"url(#p0d4a67afbf)\" style=\"fill: #ffff00; opacity: 0.5\"/>\n   </g>\n   <g id=\"patch_137\">\n    <path d=\"M 713.111396 259 \nL 717.22795 259 \nL 717.22795 168.848276 \nL 713.111396 168.848276 \nz\n\" clip-path=\"url(#p0d4a67afbf)\" style=\"fill: #ffff00; opacity: 0.5\"/>\n   </g>\n   <g id=\"patch_138\">\n    <path d=\"M 717.22795 259 \nL 721.344503 259 \nL 721.344503 132.309509 \nL 717.22795 132.309509 \nz\n\" clip-path=\"url(#p0d4a67afbf)\" style=\"fill: #ffff00; opacity: 0.5\"/>\n   </g>\n   <g id=\"patch_139\">\n    <path d=\"M 721.344503 259 \nL 725.461056 259 \nL 725.461056 98.161129 \nL 721.344503 98.161129 \nz\n\" clip-path=\"url(#p0d4a67afbf)\" style=\"fill: #ffff00; opacity: 0.5\"/>\n   </g>\n   <g id=\"patch_140\">\n    <path d=\"M 725.461056 259 \nL 729.577609 259 \nL 729.577609 139.139185 \nL 725.461056 139.139185 \nz\n\" clip-path=\"url(#p0d4a67afbf)\" style=\"fill: #ffff00; opacity: 0.5\"/>\n   </g>\n   <g id=\"patch_141\">\n    <path d=\"M 729.577609 259 \nL 733.694162 259 \nL 733.694162 41.133333 \nL 729.577609 41.133333 \nz\n\" clip-path=\"url(#p0d4a67afbf)\" style=\"fill: #ffff00; opacity: 0.5\"/>\n   </g>\n   <g id=\"patch_142\">\n    <path d=\"M 733.694162 259 \nL 737.810715 259 \nL 737.810715 119.333124 \nL 733.694162 119.333124 \nz\n\" clip-path=\"url(#p0d4a67afbf)\" style=\"fill: #ffff00; opacity: 0.5\"/>\n   </g>\n   <g id=\"patch_143\">\n    <path d=\"M 737.810715 259 \nL 741.927268 259 \nL 741.927268 146.651829 \nL 737.810715 146.651829 \nz\n\" clip-path=\"url(#p0d4a67afbf)\" style=\"fill: #ffff00; opacity: 0.5\"/>\n   </g>\n   <g id=\"patch_144\">\n    <path d=\"M 741.927268 259 \nL 746.043821 259 \nL 746.043821 147.67628 \nL 741.927268 147.67628 \nz\n\" clip-path=\"url(#p0d4a67afbf)\" style=\"fill: #ffff00; opacity: 0.5\"/>\n   </g>\n   <g id=\"patch_145\">\n    <path d=\"M 746.043821 259 \nL 750.160374 259 \nL 750.160374 165.433438 \nL 746.043821 165.433438 \nz\n\" clip-path=\"url(#p0d4a67afbf)\" style=\"fill: #ffff00; opacity: 0.5\"/>\n   </g>\n   <g id=\"patch_146\">\n    <path d=\"M 750.160374 259 \nL 754.276928 259 \nL 754.276928 181.141693 \nL 750.160374 181.141693 \nz\n\" clip-path=\"url(#p0d4a67afbf)\" style=\"fill: #ffff00; opacity: 0.5\"/>\n   </g>\n   <g id=\"patch_147\">\n    <path d=\"M 754.276928 259 \nL 758.39348 259 \nL 758.39348 187.971369 \nL 754.276928 187.971369 \nz\n\" clip-path=\"url(#p0d4a67afbf)\" style=\"fill: #ffff00; opacity: 0.5\"/>\n   </g>\n   <g id=\"patch_148\">\n    <path d=\"M 758.39348 259 \nL 762.510034 259 \nL 762.510034 192.410658 \nL 758.39348 192.410658 \nz\n\" clip-path=\"url(#p0d4a67afbf)\" style=\"fill: #ffff00; opacity: 0.5\"/>\n   </g>\n   <g id=\"patch_149\">\n    <path d=\"M 762.510034 259 \nL 766.626586 259 \nL 766.626586 219.046395 \nL 762.510034 219.046395 \nz\n\" clip-path=\"url(#p0d4a67afbf)\" style=\"fill: #ffff00; opacity: 0.5\"/>\n   </g>\n   <g id=\"patch_150\">\n    <path d=\"M 766.626586 259 \nL 770.74314 259 \nL 770.74314 243.974713 \nL 766.626586 243.974713 \nz\n\" clip-path=\"url(#p0d4a67afbf)\" style=\"fill: #ffff00; opacity: 0.5\"/>\n   </g>\n   <g id=\"patch_151\">\n    <path d=\"M 770.74314 259 \nL 774.859694 259 \nL 774.859694 251.145873 \nL 770.74314 251.145873 \nz\n\" clip-path=\"url(#p0d4a67afbf)\" style=\"fill: #ffff00; opacity: 0.5\"/>\n   </g>\n   <g id=\"patch_152\">\n    <path d=\"M 774.859694 259 \nL 778.976243 259 \nL 778.976243 246.706583 \nL 774.859694 246.706583 \nz\n\" clip-path=\"url(#p0d4a67afbf)\" style=\"fill: #ffff00; opacity: 0.5\"/>\n   </g>\n   <g id=\"patch_153\">\n    <path d=\"M 778.976243 259 \nL 783.092797 259 \nL 783.092797 253.194775 \nL 778.976243 253.194775 \nz\n\" clip-path=\"url(#p0d4a67afbf)\" style=\"fill: #ffff00; opacity: 0.5\"/>\n   </g>\n   <g id=\"patch_154\">\n    <path d=\"M 783.092797 259 \nL 787.209352 259 \nL 787.209352 255.585162 \nL 783.092797 255.585162 \nz\n\" clip-path=\"url(#p0d4a67afbf)\" style=\"fill: #ffff00; opacity: 0.5\"/>\n   </g>\n   <g id=\"patch_155\">\n    <path d=\"M 787.209352 259 \nL 791.325906 259 \nL 791.325906 257.292581 \nL 787.209352 257.292581 \nz\n\" clip-path=\"url(#p0d4a67afbf)\" style=\"fill: #ffff00; opacity: 0.5\"/>\n   </g>\n   <g id=\"patch_156\">\n    <path d=\"M 791.325906 259 \nL 795.442455 259 \nL 795.442455 256.609613 \nL 791.325906 256.609613 \nz\n\" clip-path=\"url(#p0d4a67afbf)\" style=\"fill: #ffff00; opacity: 0.5\"/>\n   </g>\n   <g id=\"patch_157\">\n    <path d=\"M 795.442455 259 \nL 799.559009 259 \nL 799.559009 257.975549 \nL 795.442455 257.975549 \nz\n\" clip-path=\"url(#p0d4a67afbf)\" style=\"fill: #ffff00; opacity: 0.5\"/>\n   </g>\n   <g id=\"patch_158\">\n    <path d=\"M 799.559009 259 \nL 803.675563 259 \nL 803.675563 257.975549 \nL 799.559009 257.975549 \nz\n\" clip-path=\"url(#p0d4a67afbf)\" style=\"fill: #ffff00; opacity: 0.5\"/>\n   </g>\n   <g id=\"patch_159\">\n    <path d=\"M 803.675563 259 \nL 807.792118 259 \nL 807.792118 257.975549 \nL 803.675563 257.975549 \nz\n\" clip-path=\"url(#p0d4a67afbf)\" style=\"fill: #ffff00; opacity: 0.5\"/>\n   </g>\n   <g id=\"patch_160\">\n    <path d=\"M 807.792118 259 \nL 811.908667 259 \nL 811.908667 258.658516 \nL 807.792118 258.658516 \nz\n\" clip-path=\"url(#p0d4a67afbf)\" style=\"fill: #ffff00; opacity: 0.5\"/>\n   </g>\n   <g id=\"patch_161\">\n    <path d=\"M 811.908667 259 \nL 816.025226 259 \nL 816.025226 259 \nL 811.908667 259 \nz\n\" clip-path=\"url(#p0d4a67afbf)\" style=\"fill: #ffff00; opacity: 0.5\"/>\n   </g>\n   <g id=\"patch_162\">\n    <path d=\"M 816.025226 259 \nL 820.14177 259 \nL 820.14177 258.317032 \nL 816.025226 258.317032 \nz\n\" clip-path=\"url(#p0d4a67afbf)\" style=\"fill: #ffff00; opacity: 0.5\"/>\n   </g>\n   <g id=\"patch_163\">\n    <path d=\"M 820.14177 259 \nL 824.258325 259 \nL 824.258325 258.658516 \nL 820.14177 258.658516 \nz\n\" clip-path=\"url(#p0d4a67afbf)\" style=\"fill: #ffff00; opacity: 0.5\"/>\n   </g>\n   <g id=\"patch_164\">\n    <path d=\"M 824.258325 259 \nL 828.374879 259 \nL 828.374879 258.658516 \nL 824.258325 258.658516 \nz\n\" clip-path=\"url(#p0d4a67afbf)\" style=\"fill: #ffff00; opacity: 0.5\"/>\n   </g>\n   <g id=\"patch_165\">\n    <path d=\"M 828.374879 259 \nL 832.491433 259 \nL 832.491433 259 \nL 828.374879 259 \nz\n\" clip-path=\"url(#p0d4a67afbf)\" style=\"fill: #ffff00; opacity: 0.5\"/>\n   </g>\n   <g id=\"patch_166\">\n    <path d=\"M 832.491433 259 \nL 836.607987 259 \nL 836.607987 258.658516 \nL 832.491433 258.658516 \nz\n\" clip-path=\"url(#p0d4a67afbf)\" style=\"fill: #ffff00; opacity: 0.5\"/>\n   </g>\n   <g id=\"matplotlib.axis_5\">\n    <g id=\"xtick_9\">\n     <g id=\"line2d_24\">\n      <g>\n       <use xlink:href=\"#md602424763\" x=\"630.081664\" y=\"259\" style=\"stroke: #000000; stroke-width: 0.8\"/>\n      </g>\n     </g>\n     <g id=\"text_30\">\n      <!-- −0.04 -->\n      <g transform=\"translate(614.759007 273.598437) scale(0.1 -0.1)\">\n       <use xlink:href=\"#DejaVuSans-2212\"/>\n       <use xlink:href=\"#DejaVuSans-30\" x=\"83.789062\"/>\n       <use xlink:href=\"#DejaVuSans-2e\" x=\"147.412109\"/>\n       <use xlink:href=\"#DejaVuSans-30\" x=\"179.199219\"/>\n       <use xlink:href=\"#DejaVuSans-34\" x=\"242.822266\"/>\n      </g>\n     </g>\n    </g>\n    <g id=\"xtick_10\">\n     <g id=\"line2d_25\">\n      <g>\n       <use xlink:href=\"#md602424763\" x=\"681.824077\" y=\"259\" style=\"stroke: #000000; stroke-width: 0.8\"/>\n      </g>\n     </g>\n     <g id=\"text_31\">\n      <!-- −0.02 -->\n      <g transform=\"translate(666.501421 273.598437) scale(0.1 -0.1)\">\n       <use xlink:href=\"#DejaVuSans-2212\"/>\n       <use xlink:href=\"#DejaVuSans-30\" x=\"83.789062\"/>\n       <use xlink:href=\"#DejaVuSans-2e\" x=\"147.412109\"/>\n       <use xlink:href=\"#DejaVuSans-30\" x=\"179.199219\"/>\n       <use xlink:href=\"#DejaVuSans-32\" x=\"242.822266\"/>\n      </g>\n     </g>\n    </g>\n    <g id=\"xtick_11\">\n     <g id=\"line2d_26\">\n      <g>\n       <use xlink:href=\"#md602424763\" x=\"733.56649\" y=\"259\" style=\"stroke: #000000; stroke-width: 0.8\"/>\n      </g>\n     </g>\n     <g id=\"text_32\">\n      <!-- 0.00 -->\n      <g transform=\"translate(722.433678 273.598437) scale(0.1 -0.1)\">\n       <use xlink:href=\"#DejaVuSans-30\"/>\n       <use xlink:href=\"#DejaVuSans-2e\" x=\"63.623047\"/>\n       <use xlink:href=\"#DejaVuSans-30\" x=\"95.410156\"/>\n       <use xlink:href=\"#DejaVuSans-30\" x=\"159.033203\"/>\n      </g>\n     </g>\n    </g>\n    <g id=\"xtick_12\">\n     <g id=\"line2d_27\">\n      <g>\n       <use xlink:href=\"#md602424763\" x=\"785.308904\" y=\"259\" style=\"stroke: #000000; stroke-width: 0.8\"/>\n      </g>\n     </g>\n     <g id=\"text_33\">\n      <!-- 0.02 -->\n      <g transform=\"translate(774.176091 273.598437) scale(0.1 -0.1)\">\n       <use xlink:href=\"#DejaVuSans-30\"/>\n       <use xlink:href=\"#DejaVuSans-2e\" x=\"63.623047\"/>\n       <use xlink:href=\"#DejaVuSans-30\" x=\"95.410156\"/>\n       <use xlink:href=\"#DejaVuSans-32\" x=\"159.033203\"/>\n      </g>\n     </g>\n    </g>\n    <g id=\"xtick_13\">\n     <g id=\"line2d_28\">\n      <g>\n       <use xlink:href=\"#md602424763\" x=\"837.051317\" y=\"259\" style=\"stroke: #000000; stroke-width: 0.8\"/>\n      </g>\n     </g>\n     <g id=\"text_34\">\n      <!-- 0.04 -->\n      <g transform=\"translate(825.918505 273.598437) scale(0.1 -0.1)\">\n       <use xlink:href=\"#DejaVuSans-30\"/>\n       <use xlink:href=\"#DejaVuSans-2e\" x=\"63.623047\"/>\n       <use xlink:href=\"#DejaVuSans-30\" x=\"95.410156\"/>\n       <use xlink:href=\"#DejaVuSans-34\" x=\"159.033203\"/>\n      </g>\n     </g>\n    </g>\n    <g id=\"text_35\">\n     <!-- Weights Values -->\n     <g transform=\"translate(695.745725 287.276562) scale(0.1 -0.1)\">\n      <use xlink:href=\"#DejaVuSans-57\"/>\n      <use xlink:href=\"#DejaVuSans-65\" x=\"93.001953\"/>\n      <use xlink:href=\"#DejaVuSans-69\" x=\"154.525391\"/>\n      <use xlink:href=\"#DejaVuSans-67\" x=\"182.308594\"/>\n      <use xlink:href=\"#DejaVuSans-68\" x=\"245.785156\"/>\n      <use xlink:href=\"#DejaVuSans-74\" x=\"309.164062\"/>\n      <use xlink:href=\"#DejaVuSans-73\" x=\"348.373047\"/>\n      <use xlink:href=\"#DejaVuSans-20\" x=\"400.472656\"/>\n      <use xlink:href=\"#DejaVuSans-56\" x=\"432.259766\"/>\n      <use xlink:href=\"#DejaVuSans-61\" x=\"492.917969\"/>\n      <use xlink:href=\"#DejaVuSans-6c\" x=\"554.197266\"/>\n      <use xlink:href=\"#DejaVuSans-75\" x=\"581.980469\"/>\n      <use xlink:href=\"#DejaVuSans-65\" x=\"645.359375\"/>\n      <use xlink:href=\"#DejaVuSans-73\" x=\"706.882812\"/>\n     </g>\n    </g>\n   </g>\n   <g id=\"matplotlib.axis_6\">\n    <g id=\"ytick_16\">\n     <g id=\"line2d_29\">\n      <g>\n       <use xlink:href=\"#m2513a9dab9\" x=\"620.488955\" y=\"259\" style=\"stroke: #000000; stroke-width: 0.8\"/>\n      </g>\n     </g>\n     <g id=\"text_36\">\n      <!-- 0 -->\n      <g transform=\"translate(607.126455 262.799219) scale(0.1 -0.1)\">\n       <use xlink:href=\"#DejaVuSans-30\"/>\n      </g>\n     </g>\n    </g>\n    <g id=\"ytick_17\">\n     <g id=\"line2d_30\">\n      <g>\n       <use xlink:href=\"#m2513a9dab9\" x=\"620.488955\" y=\"224.85162\" style=\"stroke: #000000; stroke-width: 0.8\"/>\n      </g>\n     </g>\n     <g id=\"text_37\">\n      <!-- 100 -->\n      <g transform=\"translate(594.401455 228.650838) scale(0.1 -0.1)\">\n       <use xlink:href=\"#DejaVuSans-31\"/>\n       <use xlink:href=\"#DejaVuSans-30\" x=\"63.623047\"/>\n       <use xlink:href=\"#DejaVuSans-30\" x=\"127.246094\"/>\n      </g>\n     </g>\n    </g>\n    <g id=\"ytick_18\">\n     <g id=\"line2d_31\">\n      <g>\n       <use xlink:href=\"#m2513a9dab9\" x=\"620.488955\" y=\"190.703239\" style=\"stroke: #000000; stroke-width: 0.8\"/>\n      </g>\n     </g>\n     <g id=\"text_38\">\n      <!-- 200 -->\n      <g transform=\"translate(594.401455 194.502458) scale(0.1 -0.1)\">\n       <use xlink:href=\"#DejaVuSans-32\"/>\n       <use xlink:href=\"#DejaVuSans-30\" x=\"63.623047\"/>\n       <use xlink:href=\"#DejaVuSans-30\" x=\"127.246094\"/>\n      </g>\n     </g>\n    </g>\n    <g id=\"ytick_19\">\n     <g id=\"line2d_32\">\n      <g>\n       <use xlink:href=\"#m2513a9dab9\" x=\"620.488955\" y=\"156.554859\" style=\"stroke: #000000; stroke-width: 0.8\"/>\n      </g>\n     </g>\n     <g id=\"text_39\">\n      <!-- 300 -->\n      <g transform=\"translate(594.401455 160.354078) scale(0.1 -0.1)\">\n       <use xlink:href=\"#DejaVuSans-33\"/>\n       <use xlink:href=\"#DejaVuSans-30\" x=\"63.623047\"/>\n       <use xlink:href=\"#DejaVuSans-30\" x=\"127.246094\"/>\n      </g>\n     </g>\n    </g>\n    <g id=\"ytick_20\">\n     <g id=\"line2d_33\">\n      <g>\n       <use xlink:href=\"#m2513a9dab9\" x=\"620.488955\" y=\"122.406479\" style=\"stroke: #000000; stroke-width: 0.8\"/>\n      </g>\n     </g>\n     <g id=\"text_40\">\n      <!-- 400 -->\n      <g transform=\"translate(594.401455 126.205697) scale(0.1 -0.1)\">\n       <use xlink:href=\"#DejaVuSans-34\"/>\n       <use xlink:href=\"#DejaVuSans-30\" x=\"63.623047\"/>\n       <use xlink:href=\"#DejaVuSans-30\" x=\"127.246094\"/>\n      </g>\n     </g>\n    </g>\n    <g id=\"ytick_21\">\n     <g id=\"line2d_34\">\n      <g>\n       <use xlink:href=\"#m2513a9dab9\" x=\"620.488955\" y=\"88.258098\" style=\"stroke: #000000; stroke-width: 0.8\"/>\n      </g>\n     </g>\n     <g id=\"text_41\">\n      <!-- 500 -->\n      <g transform=\"translate(594.401455 92.057317) scale(0.1 -0.1)\">\n       <use xlink:href=\"#DejaVuSans-35\"/>\n       <use xlink:href=\"#DejaVuSans-30\" x=\"63.623047\"/>\n       <use xlink:href=\"#DejaVuSans-30\" x=\"127.246094\"/>\n      </g>\n     </g>\n    </g>\n    <g id=\"ytick_22\">\n     <g id=\"line2d_35\">\n      <g>\n       <use xlink:href=\"#m2513a9dab9\" x=\"620.488955\" y=\"54.109718\" style=\"stroke: #000000; stroke-width: 0.8\"/>\n      </g>\n     </g>\n     <g id=\"text_42\">\n      <!-- 600 -->\n      <g transform=\"translate(594.401455 57.908937) scale(0.1 -0.1)\">\n       <use xlink:href=\"#DejaVuSans-36\"/>\n       <use xlink:href=\"#DejaVuSans-30\" x=\"63.623047\"/>\n       <use xlink:href=\"#DejaVuSans-30\" x=\"127.246094\"/>\n      </g>\n     </g>\n    </g>\n    <g id=\"text_43\">\n     <!-- Frequency -->\n     <g transform=\"translate(588.321767 170.449687) rotate(-90) scale(0.1 -0.1)\">\n      <use xlink:href=\"#DejaVuSans-46\"/>\n      <use xlink:href=\"#DejaVuSans-72\" x=\"50.269531\"/>\n      <use xlink:href=\"#DejaVuSans-65\" x=\"89.132812\"/>\n      <use xlink:href=\"#DejaVuSans-71\" x=\"150.65625\"/>\n      <use xlink:href=\"#DejaVuSans-75\" x=\"214.132812\"/>\n      <use xlink:href=\"#DejaVuSans-65\" x=\"277.511719\"/>\n      <use xlink:href=\"#DejaVuSans-6e\" x=\"339.035156\"/>\n      <use xlink:href=\"#DejaVuSans-63\" x=\"402.414062\"/>\n      <use xlink:href=\"#DejaVuSans-79\" x=\"457.394531\"/>\n     </g>\n    </g>\n   </g>\n   <g id=\"patch_167\">\n    <path d=\"M 620.488955 259 \nL 620.488955 30.24 \n\" style=\"fill: none; stroke: #000000; stroke-width: 0.8; stroke-linejoin: miter; stroke-linecap: square\"/>\n   </g>\n   <g id=\"patch_168\">\n    <path d=\"M 846.89937 259 \nL 846.89937 30.24 \n\" style=\"fill: none; stroke: #000000; stroke-width: 0.8; stroke-linejoin: miter; stroke-linecap: square\"/>\n   </g>\n   <g id=\"patch_169\">\n    <path d=\"M 620.488955 259 \nL 846.89937 259 \n\" style=\"fill: none; stroke: #000000; stroke-width: 0.8; stroke-linejoin: miter; stroke-linecap: square\"/>\n   </g>\n   <g id=\"patch_170\">\n    <path d=\"M 620.488955 30.24 \nL 846.89937 30.24 \n\" style=\"fill: none; stroke: #000000; stroke-width: 0.8; stroke-linejoin: miter; stroke-linecap: square\"/>\n   </g>\n   <g id=\"legend_3\">\n    <g id=\"patch_171\">\n     <path d=\"M 736.988432 52.918125 \nL 839.89937 52.918125 \nQ 841.89937 52.918125 841.89937 50.918125 \nL 841.89937 37.24 \nQ 841.89937 35.24 839.89937 35.24 \nL 736.988432 35.24 \nQ 734.988432 35.24 734.988432 37.24 \nL 734.988432 50.918125 \nQ 734.988432 52.918125 736.988432 52.918125 \nz\n\" style=\"fill: #ffffff; opacity: 0.8; stroke: #cccccc; stroke-linejoin: miter\"/>\n    </g>\n    <g id=\"patch_172\">\n     <path d=\"M 738.988432 46.838437 \nL 758.988432 46.838437 \nL 758.988432 39.838437 \nL 738.988432 39.838437 \nz\n\" style=\"fill: #ffff00; opacity: 0.5\"/>\n    </g>\n    <g id=\"text_44\">\n     <!-- Lambda=0.01 -->\n     <g transform=\"translate(766.988432 46.838437) scale(0.1 -0.1)\">\n      <use xlink:href=\"#DejaVuSans-4c\"/>\n      <use xlink:href=\"#DejaVuSans-61\" x=\"55.712891\"/>\n      <use xlink:href=\"#DejaVuSans-6d\" x=\"116.992188\"/>\n      <use xlink:href=\"#DejaVuSans-62\" x=\"214.404297\"/>\n      <use xlink:href=\"#DejaVuSans-64\" x=\"277.880859\"/>\n      <use xlink:href=\"#DejaVuSans-61\" x=\"341.357422\"/>\n      <use xlink:href=\"#DejaVuSans-3d\" x=\"402.636719\"/>\n      <use xlink:href=\"#DejaVuSans-30\" x=\"486.425781\"/>\n      <use xlink:href=\"#DejaVuSans-2e\" x=\"550.048828\"/>\n      <use xlink:href=\"#DejaVuSans-30\" x=\"581.835938\"/>\n      <use xlink:href=\"#DejaVuSans-31\" x=\"645.458984\"/>\n     </g>\n    </g>\n   </g>\n  </g>\n  <g id=\"axes_4\">\n   <g id=\"patch_173\">\n    <path d=\"M 53.328125 529.72 \nL 279.73854 529.72 \nL 279.73854 300.96 \nL 53.328125 300.96 \nz\n\" style=\"fill: #ffffff\"/>\n   </g>\n   <g id=\"patch_174\">\n    <path d=\"M 63.619507 529.72 \nL 67.736062 529.72 \nL 67.736062 529.112565 \nL 63.619507 529.112565 \nz\n\" clip-path=\"url(#p52d9b90177)\" style=\"fill: #008000; opacity: 0.5\"/>\n   </g>\n   <g id=\"patch_175\">\n    <path d=\"M 67.736062 529.72 \nL 71.852613 529.72 \nL 71.852613 529.72 \nL 67.736062 529.72 \nz\n\" clip-path=\"url(#p52d9b90177)\" style=\"fill: #008000; opacity: 0.5\"/>\n   </g>\n   <g id=\"patch_176\">\n    <path d=\"M 71.852613 529.72 \nL 75.969167 529.72 \nL 75.969167 529.72 \nL 71.852613 529.72 \nz\n\" clip-path=\"url(#p52d9b90177)\" style=\"fill: #008000; opacity: 0.5\"/>\n   </g>\n   <g id=\"patch_177\">\n    <path d=\"M 75.969167 529.72 \nL 80.085719 529.72 \nL 80.085719 529.72 \nL 75.969167 529.72 \nz\n\" clip-path=\"url(#p52d9b90177)\" style=\"fill: #008000; opacity: 0.5\"/>\n   </g>\n   <g id=\"patch_178\">\n    <path d=\"M 80.085719 529.72 \nL 84.202273 529.72 \nL 84.202273 527.897695 \nL 80.085719 527.897695 \nz\n\" clip-path=\"url(#p52d9b90177)\" style=\"fill: #008000; opacity: 0.5\"/>\n   </g>\n   <g id=\"patch_179\">\n    <path d=\"M 84.202273 529.72 \nL 88.318826 529.72 \nL 88.318826 528.50513 \nL 84.202273 528.50513 \nz\n\" clip-path=\"url(#p52d9b90177)\" style=\"fill: #008000; opacity: 0.5\"/>\n   </g>\n   <g id=\"patch_180\">\n    <path d=\"M 88.318826 529.72 \nL 92.435379 529.72 \nL 92.435379 511.496952 \nL 88.318826 511.496952 \nz\n\" clip-path=\"url(#p52d9b90177)\" style=\"fill: #008000; opacity: 0.5\"/>\n   </g>\n   <g id=\"patch_181\">\n    <path d=\"M 92.435379 529.72 \nL 96.551932 529.72 \nL 96.551932 469.381462 \nL 92.435379 469.381462 \nz\n\" clip-path=\"url(#p52d9b90177)\" style=\"fill: #008000; opacity: 0.5\"/>\n   </g>\n   <g id=\"patch_182\">\n    <path d=\"M 96.551932 529.72 \nL 100.668484 529.72 \nL 100.668484 453.790632 \nL 96.551932 453.790632 \nz\n\" clip-path=\"url(#p52d9b90177)\" style=\"fill: #008000; opacity: 0.5\"/>\n   </g>\n   <g id=\"patch_183\">\n    <path d=\"M 100.668484 529.72 \nL 104.785038 529.72 \nL 104.785038 383.530657 \nL 100.668484 383.530657 \nz\n\" clip-path=\"url(#p52d9b90177)\" style=\"fill: #008000; opacity: 0.5\"/>\n   </g>\n   <g id=\"patch_184\">\n    <path d=\"M 104.785038 529.72 \nL 108.90159 529.72 \nL 108.90159 405.398315 \nL 104.785038 405.398315 \nz\n\" clip-path=\"url(#p52d9b90177)\" style=\"fill: #008000; opacity: 0.5\"/>\n   </g>\n   <g id=\"patch_185\">\n    <path d=\"M 108.90159 529.72 \nL 113.018144 529.72 \nL 113.018144 311.853333 \nL 108.90159 311.853333 \nz\n\" clip-path=\"url(#p52d9b90177)\" style=\"fill: #008000; opacity: 0.5\"/>\n   </g>\n   <g id=\"patch_186\">\n    <path d=\"M 113.018144 529.72 \nL 117.134696 529.72 \nL 117.134696 410.055316 \nL 113.018144 410.055316 \nz\n\" clip-path=\"url(#p52d9b90177)\" style=\"fill: #008000; opacity: 0.5\"/>\n   </g>\n   <g id=\"patch_187\">\n    <path d=\"M 117.134696 529.72 \nL 121.251249 529.72 \nL 121.251249 420.179232 \nL 117.134696 420.179232 \nz\n\" clip-path=\"url(#p52d9b90177)\" style=\"fill: #008000; opacity: 0.5\"/>\n   </g>\n   <g id=\"patch_188\">\n    <path d=\"M 121.251249 529.72 \nL 125.367803 529.72 \nL 125.367803 458.042677 \nL 121.251249 458.042677 \nz\n\" clip-path=\"url(#p52d9b90177)\" style=\"fill: #008000; opacity: 0.5\"/>\n   </g>\n   <g id=\"patch_189\">\n    <path d=\"M 125.367803 529.72 \nL 129.484356 529.72 \nL 129.484356 473.22855 \nL 125.367803 473.22855 \nz\n\" clip-path=\"url(#p52d9b90177)\" style=\"fill: #008000; opacity: 0.5\"/>\n   </g>\n   <g id=\"patch_190\">\n    <path d=\"M 129.484356 529.72 \nL 133.600908 529.72 \nL 133.600908 523.240694 \nL 129.484356 523.240694 \nz\n\" clip-path=\"url(#p52d9b90177)\" style=\"fill: #008000; opacity: 0.5\"/>\n   </g>\n   <g id=\"patch_191\">\n    <path d=\"M 133.600908 529.72 \nL 137.717461 529.72 \nL 137.717461 528.707608 \nL 133.600908 528.707608 \nz\n\" clip-path=\"url(#p52d9b90177)\" style=\"fill: #008000; opacity: 0.5\"/>\n   </g>\n   <g id=\"patch_192\">\n    <path d=\"M 137.717461 529.72 \nL 141.834015 529.72 \nL 141.834015 529.112565 \nL 137.717461 529.112565 \nz\n\" clip-path=\"url(#p52d9b90177)\" style=\"fill: #008000; opacity: 0.5\"/>\n   </g>\n   <g id=\"patch_193\">\n    <path d=\"M 141.834015 529.72 \nL 145.950567 529.72 \nL 145.950567 529.517522 \nL 141.834015 529.517522 \nz\n\" clip-path=\"url(#p52d9b90177)\" style=\"fill: #008000; opacity: 0.5\"/>\n   </g>\n   <g id=\"patch_194\">\n    <path d=\"M 145.950567 529.72 \nL 150.067121 529.72 \nL 150.067121 529.72 \nL 145.950567 529.72 \nz\n\" clip-path=\"url(#p52d9b90177)\" style=\"fill: #008000; opacity: 0.5\"/>\n   </g>\n   <g id=\"patch_195\">\n    <path d=\"M 150.067121 529.72 \nL 154.183673 529.72 \nL 154.183673 529.72 \nL 150.067121 529.72 \nz\n\" clip-path=\"url(#p52d9b90177)\" style=\"fill: #008000; opacity: 0.5\"/>\n   </g>\n   <g id=\"patch_196\">\n    <path d=\"M 154.183673 529.72 \nL 158.300227 529.72 \nL 158.300227 529.72 \nL 154.183673 529.72 \nz\n\" clip-path=\"url(#p52d9b90177)\" style=\"fill: #008000; opacity: 0.5\"/>\n   </g>\n   <g id=\"patch_197\">\n    <path d=\"M 158.300227 529.72 \nL 162.416781 529.72 \nL 162.416781 529.72 \nL 158.300227 529.72 \nz\n\" clip-path=\"url(#p52d9b90177)\" style=\"fill: #008000; opacity: 0.5\"/>\n   </g>\n   <g id=\"patch_198\">\n    <path d=\"M 162.416781 529.72 \nL 166.53333 529.72 \nL 166.53333 529.72 \nL 162.416781 529.72 \nz\n\" clip-path=\"url(#p52d9b90177)\" style=\"fill: #008000; opacity: 0.5\"/>\n   </g>\n   <g id=\"patch_199\">\n    <path d=\"M 166.53333 529.72 \nL 170.649884 529.72 \nL 170.649884 529.72 \nL 166.53333 529.72 \nz\n\" clip-path=\"url(#p52d9b90177)\" style=\"fill: #008000; opacity: 0.5\"/>\n   </g>\n   <g id=\"patch_200\">\n    <path d=\"M 170.649884 529.72 \nL 174.766438 529.72 \nL 174.766438 529.72 \nL 170.649884 529.72 \nz\n\" clip-path=\"url(#p52d9b90177)\" style=\"fill: #008000; opacity: 0.5\"/>\n   </g>\n   <g id=\"patch_201\">\n    <path d=\"M 174.766438 529.72 \nL 178.882992 529.72 \nL 178.882992 529.72 \nL 174.766438 529.72 \nz\n\" clip-path=\"url(#p52d9b90177)\" style=\"fill: #008000; opacity: 0.5\"/>\n   </g>\n   <g id=\"patch_202\">\n    <path d=\"M 178.882992 529.72 \nL 182.999547 529.72 \nL 182.999547 529.72 \nL 178.882992 529.72 \nz\n\" clip-path=\"url(#p52d9b90177)\" style=\"fill: #008000; opacity: 0.5\"/>\n   </g>\n   <g id=\"patch_203\">\n    <path d=\"M 182.999547 529.72 \nL 187.116095 529.72 \nL 187.116095 529.72 \nL 182.999547 529.72 \nz\n\" clip-path=\"url(#p52d9b90177)\" style=\"fill: #008000; opacity: 0.5\"/>\n   </g>\n   <g id=\"patch_204\">\n    <path d=\"M 187.116095 529.72 \nL 191.232649 529.72 \nL 191.232649 529.72 \nL 187.116095 529.72 \nz\n\" clip-path=\"url(#p52d9b90177)\" style=\"fill: #008000; opacity: 0.5\"/>\n   </g>\n   <g id=\"patch_205\">\n    <path d=\"M 191.232649 529.72 \nL 195.349204 529.72 \nL 195.349204 529.72 \nL 191.232649 529.72 \nz\n\" clip-path=\"url(#p52d9b90177)\" style=\"fill: #008000; opacity: 0.5\"/>\n   </g>\n   <g id=\"patch_206\">\n    <path d=\"M 195.349204 529.72 \nL 199.465758 529.72 \nL 199.465758 529.72 \nL 195.349204 529.72 \nz\n\" clip-path=\"url(#p52d9b90177)\" style=\"fill: #008000; opacity: 0.5\"/>\n   </g>\n   <g id=\"patch_207\">\n    <path d=\"M 199.465758 529.72 \nL 203.582312 529.72 \nL 203.582312 529.72 \nL 199.465758 529.72 \nz\n\" clip-path=\"url(#p52d9b90177)\" style=\"fill: #008000; opacity: 0.5\"/>\n   </g>\n   <g id=\"patch_208\">\n    <path d=\"M 203.582312 529.72 \nL 207.698861 529.72 \nL 207.698861 529.72 \nL 203.582312 529.72 \nz\n\" clip-path=\"url(#p52d9b90177)\" style=\"fill: #008000; opacity: 0.5\"/>\n   </g>\n   <g id=\"patch_209\">\n    <path d=\"M 207.698861 529.72 \nL 211.815421 529.72 \nL 211.815421 529.72 \nL 207.698861 529.72 \nz\n\" clip-path=\"url(#p52d9b90177)\" style=\"fill: #008000; opacity: 0.5\"/>\n   </g>\n   <g id=\"patch_210\">\n    <path d=\"M 211.815421 529.72 \nL 215.931969 529.72 \nL 215.931969 529.72 \nL 211.815421 529.72 \nz\n\" clip-path=\"url(#p52d9b90177)\" style=\"fill: #008000; opacity: 0.5\"/>\n   </g>\n   <g id=\"patch_211\">\n    <path d=\"M 215.931969 529.72 \nL 220.048518 529.72 \nL 220.048518 529.72 \nL 215.931969 529.72 \nz\n\" clip-path=\"url(#p52d9b90177)\" style=\"fill: #008000; opacity: 0.5\"/>\n   </g>\n   <g id=\"patch_212\">\n    <path d=\"M 220.048518 529.72 \nL 224.165078 529.72 \nL 224.165078 529.72 \nL 220.048518 529.72 \nz\n\" clip-path=\"url(#p52d9b90177)\" style=\"fill: #008000; opacity: 0.5\"/>\n   </g>\n   <g id=\"patch_213\">\n    <path d=\"M 224.165078 529.72 \nL 228.281626 529.72 \nL 228.281626 529.72 \nL 224.165078 529.72 \nz\n\" clip-path=\"url(#p52d9b90177)\" style=\"fill: #008000; opacity: 0.5\"/>\n   </g>\n   <g id=\"patch_214\">\n    <path d=\"M 228.281626 529.72 \nL 232.398175 529.72 \nL 232.398175 529.72 \nL 228.281626 529.72 \nz\n\" clip-path=\"url(#p52d9b90177)\" style=\"fill: #008000; opacity: 0.5\"/>\n   </g>\n   <g id=\"patch_215\">\n    <path d=\"M 232.398175 529.72 \nL 236.514735 529.72 \nL 236.514735 529.72 \nL 232.398175 529.72 \nz\n\" clip-path=\"url(#p52d9b90177)\" style=\"fill: #008000; opacity: 0.5\"/>\n   </g>\n   <g id=\"patch_216\">\n    <path d=\"M 236.514735 529.72 \nL 240.631283 529.72 \nL 240.631283 529.72 \nL 236.514735 529.72 \nz\n\" clip-path=\"url(#p52d9b90177)\" style=\"fill: #008000; opacity: 0.5\"/>\n   </g>\n   <g id=\"patch_217\">\n    <path d=\"M 240.631283 529.72 \nL 244.747843 529.72 \nL 244.747843 529.72 \nL 240.631283 529.72 \nz\n\" clip-path=\"url(#p52d9b90177)\" style=\"fill: #008000; opacity: 0.5\"/>\n   </g>\n   <g id=\"patch_218\">\n    <path d=\"M 244.747843 529.72 \nL 248.864392 529.72 \nL 248.864392 529.72 \nL 244.747843 529.72 \nz\n\" clip-path=\"url(#p52d9b90177)\" style=\"fill: #008000; opacity: 0.5\"/>\n   </g>\n   <g id=\"patch_219\">\n    <path d=\"M 248.864392 529.72 \nL 252.98094 529.72 \nL 252.98094 529.72 \nL 248.864392 529.72 \nz\n\" clip-path=\"url(#p52d9b90177)\" style=\"fill: #008000; opacity: 0.5\"/>\n   </g>\n   <g id=\"patch_220\">\n    <path d=\"M 252.98094 529.72 \nL 257.0975 529.72 \nL 257.0975 529.72 \nL 252.98094 529.72 \nz\n\" clip-path=\"url(#p52d9b90177)\" style=\"fill: #008000; opacity: 0.5\"/>\n   </g>\n   <g id=\"patch_221\">\n    <path d=\"M 257.0975 529.72 \nL 261.214049 529.72 \nL 261.214049 529.72 \nL 257.0975 529.72 \nz\n\" clip-path=\"url(#p52d9b90177)\" style=\"fill: #008000; opacity: 0.5\"/>\n   </g>\n   <g id=\"patch_222\">\n    <path d=\"M 261.214049 529.72 \nL 265.330609 529.72 \nL 265.330609 529.72 \nL 261.214049 529.72 \nz\n\" clip-path=\"url(#p52d9b90177)\" style=\"fill: #008000; opacity: 0.5\"/>\n   </g>\n   <g id=\"patch_223\">\n    <path d=\"M 265.330609 529.72 \nL 269.447157 529.72 \nL 269.447157 529.517522 \nL 265.330609 529.517522 \nz\n\" clip-path=\"url(#p52d9b90177)\" style=\"fill: #008000; opacity: 0.5\"/>\n   </g>\n   <g id=\"matplotlib.axis_7\">\n    <g id=\"xtick_14\">\n     <g id=\"line2d_36\">\n      <g>\n       <use xlink:href=\"#md602424763\" x=\"72.145916\" y=\"529.72\" style=\"stroke: #000000; stroke-width: 0.8\"/>\n      </g>\n     </g>\n     <g id=\"text_45\">\n      <!-- −0.025 -->\n      <g transform=\"translate(53.642009 544.318437) scale(0.1 -0.1)\">\n       <use xlink:href=\"#DejaVuSans-2212\"/>\n       <use xlink:href=\"#DejaVuSans-30\" x=\"83.789062\"/>\n       <use xlink:href=\"#DejaVuSans-2e\" x=\"147.412109\"/>\n       <use xlink:href=\"#DejaVuSans-30\" x=\"179.199219\"/>\n       <use xlink:href=\"#DejaVuSans-32\" x=\"242.822266\"/>\n       <use xlink:href=\"#DejaVuSans-35\" x=\"306.445312\"/>\n      </g>\n     </g>\n    </g>\n    <g id=\"xtick_15\">\n     <g id=\"line2d_37\">\n      <g>\n       <use xlink:href=\"#md602424763\" x=\"110.292303\" y=\"529.72\" style=\"stroke: #000000; stroke-width: 0.8\"/>\n      </g>\n     </g>\n     <g id=\"text_46\">\n      <!-- 0.000 -->\n      <g transform=\"translate(95.97824 544.318437) scale(0.1 -0.1)\">\n       <use xlink:href=\"#DejaVuSans-30\"/>\n       <use xlink:href=\"#DejaVuSans-2e\" x=\"63.623047\"/>\n       <use xlink:href=\"#DejaVuSans-30\" x=\"95.410156\"/>\n       <use xlink:href=\"#DejaVuSans-30\" x=\"159.033203\"/>\n       <use xlink:href=\"#DejaVuSans-30\" x=\"222.65625\"/>\n      </g>\n     </g>\n    </g>\n    <g id=\"xtick_16\">\n     <g id=\"line2d_38\">\n      <g>\n       <use xlink:href=\"#md602424763\" x=\"148.43869\" y=\"529.72\" style=\"stroke: #000000; stroke-width: 0.8\"/>\n      </g>\n     </g>\n     <g id=\"text_47\">\n      <!-- 0.025 -->\n      <g transform=\"translate(134.124627 544.318437) scale(0.1 -0.1)\">\n       <use xlink:href=\"#DejaVuSans-30\"/>\n       <use xlink:href=\"#DejaVuSans-2e\" x=\"63.623047\"/>\n       <use xlink:href=\"#DejaVuSans-30\" x=\"95.410156\"/>\n       <use xlink:href=\"#DejaVuSans-32\" x=\"159.033203\"/>\n       <use xlink:href=\"#DejaVuSans-35\" x=\"222.65625\"/>\n      </g>\n     </g>\n    </g>\n    <g id=\"xtick_17\">\n     <g id=\"line2d_39\">\n      <g>\n       <use xlink:href=\"#md602424763\" x=\"186.585077\" y=\"529.72\" style=\"stroke: #000000; stroke-width: 0.8\"/>\n      </g>\n     </g>\n     <g id=\"text_48\">\n      <!-- 0.050 -->\n      <g transform=\"translate(172.271014 544.318437) scale(0.1 -0.1)\">\n       <use xlink:href=\"#DejaVuSans-30\"/>\n       <use xlink:href=\"#DejaVuSans-2e\" x=\"63.623047\"/>\n       <use xlink:href=\"#DejaVuSans-30\" x=\"95.410156\"/>\n       <use xlink:href=\"#DejaVuSans-35\" x=\"159.033203\"/>\n       <use xlink:href=\"#DejaVuSans-30\" x=\"222.65625\"/>\n      </g>\n     </g>\n    </g>\n    <g id=\"xtick_18\">\n     <g id=\"line2d_40\">\n      <g>\n       <use xlink:href=\"#md602424763\" x=\"224.731464\" y=\"529.72\" style=\"stroke: #000000; stroke-width: 0.8\"/>\n      </g>\n     </g>\n     <g id=\"text_49\">\n      <!-- 0.075 -->\n      <g transform=\"translate(210.417401 544.318437) scale(0.1 -0.1)\">\n       <use xlink:href=\"#DejaVuSans-30\"/>\n       <use xlink:href=\"#DejaVuSans-2e\" x=\"63.623047\"/>\n       <use xlink:href=\"#DejaVuSans-30\" x=\"95.410156\"/>\n       <use xlink:href=\"#DejaVuSans-37\" x=\"159.033203\"/>\n       <use xlink:href=\"#DejaVuSans-35\" x=\"222.65625\"/>\n      </g>\n     </g>\n    </g>\n    <g id=\"xtick_19\">\n     <g id=\"line2d_41\">\n      <g>\n       <use xlink:href=\"#md602424763\" x=\"262.877851\" y=\"529.72\" style=\"stroke: #000000; stroke-width: 0.8\"/>\n      </g>\n     </g>\n     <g id=\"text_50\">\n      <!-- 0.100 -->\n      <g transform=\"translate(248.563788 544.318437) scale(0.1 -0.1)\">\n       <use xlink:href=\"#DejaVuSans-30\"/>\n       <use xlink:href=\"#DejaVuSans-2e\" x=\"63.623047\"/>\n       <use xlink:href=\"#DejaVuSans-31\" x=\"95.410156\"/>\n       <use xlink:href=\"#DejaVuSans-30\" x=\"159.033203\"/>\n       <use xlink:href=\"#DejaVuSans-30\" x=\"222.65625\"/>\n      </g>\n     </g>\n    </g>\n    <g id=\"text_51\">\n     <!-- Weights Values -->\n     <g transform=\"translate(128.584895 557.996562) scale(0.1 -0.1)\">\n      <use xlink:href=\"#DejaVuSans-57\"/>\n      <use xlink:href=\"#DejaVuSans-65\" x=\"93.001953\"/>\n      <use xlink:href=\"#DejaVuSans-69\" x=\"154.525391\"/>\n      <use xlink:href=\"#DejaVuSans-67\" x=\"182.308594\"/>\n      <use xlink:href=\"#DejaVuSans-68\" x=\"245.785156\"/>\n      <use xlink:href=\"#DejaVuSans-74\" x=\"309.164062\"/>\n      <use xlink:href=\"#DejaVuSans-73\" x=\"348.373047\"/>\n      <use xlink:href=\"#DejaVuSans-20\" x=\"400.472656\"/>\n      <use xlink:href=\"#DejaVuSans-56\" x=\"432.259766\"/>\n      <use xlink:href=\"#DejaVuSans-61\" x=\"492.917969\"/>\n      <use xlink:href=\"#DejaVuSans-6c\" x=\"554.197266\"/>\n      <use xlink:href=\"#DejaVuSans-75\" x=\"581.980469\"/>\n      <use xlink:href=\"#DejaVuSans-65\" x=\"645.359375\"/>\n      <use xlink:href=\"#DejaVuSans-73\" x=\"706.882812\"/>\n     </g>\n    </g>\n   </g>\n   <g id=\"matplotlib.axis_8\">\n    <g id=\"ytick_23\">\n     <g id=\"line2d_42\">\n      <g>\n       <use xlink:href=\"#m2513a9dab9\" x=\"53.328125\" y=\"529.72\" style=\"stroke: #000000; stroke-width: 0.8\"/>\n      </g>\n     </g>\n     <g id=\"text_52\">\n      <!-- 0 -->\n      <g transform=\"translate(39.965625 533.519219) scale(0.1 -0.1)\">\n       <use xlink:href=\"#DejaVuSans-30\"/>\n      </g>\n     </g>\n    </g>\n    <g id=\"ytick_24\">\n     <g id=\"line2d_43\">\n      <g>\n       <use xlink:href=\"#m2513a9dab9\" x=\"53.328125\" y=\"489.224337\" style=\"stroke: #000000; stroke-width: 0.8\"/>\n      </g>\n     </g>\n     <g id=\"text_53\">\n      <!-- 200 -->\n      <g transform=\"translate(27.240625 493.023556) scale(0.1 -0.1)\">\n       <use xlink:href=\"#DejaVuSans-32\"/>\n       <use xlink:href=\"#DejaVuSans-30\" x=\"63.623047\"/>\n       <use xlink:href=\"#DejaVuSans-30\" x=\"127.246094\"/>\n      </g>\n     </g>\n    </g>\n    <g id=\"ytick_25\">\n     <g id=\"line2d_44\">\n      <g>\n       <use xlink:href=\"#m2513a9dab9\" x=\"53.328125\" y=\"448.728674\" style=\"stroke: #000000; stroke-width: 0.8\"/>\n      </g>\n     </g>\n     <g id=\"text_54\">\n      <!-- 400 -->\n      <g transform=\"translate(27.240625 452.527893) scale(0.1 -0.1)\">\n       <use xlink:href=\"#DejaVuSans-34\"/>\n       <use xlink:href=\"#DejaVuSans-30\" x=\"63.623047\"/>\n       <use xlink:href=\"#DejaVuSans-30\" x=\"127.246094\"/>\n      </g>\n     </g>\n    </g>\n    <g id=\"ytick_26\">\n     <g id=\"line2d_45\">\n      <g>\n       <use xlink:href=\"#m2513a9dab9\" x=\"53.328125\" y=\"408.233011\" style=\"stroke: #000000; stroke-width: 0.8\"/>\n      </g>\n     </g>\n     <g id=\"text_55\">\n      <!-- 600 -->\n      <g transform=\"translate(27.240625 412.03223) scale(0.1 -0.1)\">\n       <use xlink:href=\"#DejaVuSans-36\"/>\n       <use xlink:href=\"#DejaVuSans-30\" x=\"63.623047\"/>\n       <use xlink:href=\"#DejaVuSans-30\" x=\"127.246094\"/>\n      </g>\n     </g>\n    </g>\n    <g id=\"ytick_27\">\n     <g id=\"line2d_46\">\n      <g>\n       <use xlink:href=\"#m2513a9dab9\" x=\"53.328125\" y=\"367.737348\" style=\"stroke: #000000; stroke-width: 0.8\"/>\n      </g>\n     </g>\n     <g id=\"text_56\">\n      <!-- 800 -->\n      <g transform=\"translate(27.240625 371.536567) scale(0.1 -0.1)\">\n       <defs>\n        <path id=\"DejaVuSans-38\" d=\"M 2034 2216 \nQ 1584 2216 1326 1975 \nQ 1069 1734 1069 1313 \nQ 1069 891 1326 650 \nQ 1584 409 2034 409 \nQ 2484 409 2743 651 \nQ 3003 894 3003 1313 \nQ 3003 1734 2745 1975 \nQ 2488 2216 2034 2216 \nz\nM 1403 2484 \nQ 997 2584 770 2862 \nQ 544 3141 544 3541 \nQ 544 4100 942 4425 \nQ 1341 4750 2034 4750 \nQ 2731 4750 3128 4425 \nQ 3525 4100 3525 3541 \nQ 3525 3141 3298 2862 \nQ 3072 2584 2669 2484 \nQ 3125 2378 3379 2068 \nQ 3634 1759 3634 1313 \nQ 3634 634 3220 271 \nQ 2806 -91 2034 -91 \nQ 1263 -91 848 271 \nQ 434 634 434 1313 \nQ 434 1759 690 2068 \nQ 947 2378 1403 2484 \nz\nM 1172 3481 \nQ 1172 3119 1398 2916 \nQ 1625 2713 2034 2713 \nQ 2441 2713 2670 2916 \nQ 2900 3119 2900 3481 \nQ 2900 3844 2670 4047 \nQ 2441 4250 2034 4250 \nQ 1625 4250 1398 4047 \nQ 1172 3844 1172 3481 \nz\n\" transform=\"scale(0.015625)\"/>\n       </defs>\n       <use xlink:href=\"#DejaVuSans-38\"/>\n       <use xlink:href=\"#DejaVuSans-30\" x=\"63.623047\"/>\n       <use xlink:href=\"#DejaVuSans-30\" x=\"127.246094\"/>\n      </g>\n     </g>\n    </g>\n    <g id=\"ytick_28\">\n     <g id=\"line2d_47\">\n      <g>\n       <use xlink:href=\"#m2513a9dab9\" x=\"53.328125\" y=\"327.241685\" style=\"stroke: #000000; stroke-width: 0.8\"/>\n      </g>\n     </g>\n     <g id=\"text_57\">\n      <!-- 1000 -->\n      <g transform=\"translate(20.878125 331.040904) scale(0.1 -0.1)\">\n       <use xlink:href=\"#DejaVuSans-31\"/>\n       <use xlink:href=\"#DejaVuSans-30\" x=\"63.623047\"/>\n       <use xlink:href=\"#DejaVuSans-30\" x=\"127.246094\"/>\n       <use xlink:href=\"#DejaVuSans-30\" x=\"190.869141\"/>\n      </g>\n     </g>\n    </g>\n    <g id=\"text_58\">\n     <!-- Frequency -->\n     <g transform=\"translate(14.798438 441.169688) rotate(-90) scale(0.1 -0.1)\">\n      <use xlink:href=\"#DejaVuSans-46\"/>\n      <use xlink:href=\"#DejaVuSans-72\" x=\"50.269531\"/>\n      <use xlink:href=\"#DejaVuSans-65\" x=\"89.132812\"/>\n      <use xlink:href=\"#DejaVuSans-71\" x=\"150.65625\"/>\n      <use xlink:href=\"#DejaVuSans-75\" x=\"214.132812\"/>\n      <use xlink:href=\"#DejaVuSans-65\" x=\"277.511719\"/>\n      <use xlink:href=\"#DejaVuSans-6e\" x=\"339.035156\"/>\n      <use xlink:href=\"#DejaVuSans-63\" x=\"402.414062\"/>\n      <use xlink:href=\"#DejaVuSans-79\" x=\"457.394531\"/>\n     </g>\n    </g>\n   </g>\n   <g id=\"patch_224\">\n    <path d=\"M 53.328125 529.72 \nL 53.328125 300.96 \n\" style=\"fill: none; stroke: #000000; stroke-width: 0.8; stroke-linejoin: miter; stroke-linecap: square\"/>\n   </g>\n   <g id=\"patch_225\">\n    <path d=\"M 279.73854 529.72 \nL 279.73854 300.96 \n\" style=\"fill: none; stroke: #000000; stroke-width: 0.8; stroke-linejoin: miter; stroke-linecap: square\"/>\n   </g>\n   <g id=\"patch_226\">\n    <path d=\"M 53.328125 529.72 \nL 279.73854 529.72 \n\" style=\"fill: none; stroke: #000000; stroke-width: 0.8; stroke-linejoin: miter; stroke-linecap: square\"/>\n   </g>\n   <g id=\"patch_227\">\n    <path d=\"M 53.328125 300.96 \nL 279.73854 300.96 \n\" style=\"fill: none; stroke: #000000; stroke-width: 0.8; stroke-linejoin: miter; stroke-linecap: square\"/>\n   </g>\n   <g id=\"legend_4\">\n    <g id=\"patch_228\">\n     <path d=\"M 176.190102 323.638125 \nL 272.73854 323.638125 \nQ 274.73854 323.638125 274.73854 321.638125 \nL 274.73854 307.96 \nQ 274.73854 305.96 272.73854 305.96 \nL 176.190102 305.96 \nQ 174.190102 305.96 174.190102 307.96 \nL 174.190102 321.638125 \nQ 174.190102 323.638125 176.190102 323.638125 \nz\n\" style=\"fill: #ffffff; opacity: 0.8; stroke: #cccccc; stroke-linejoin: miter\"/>\n    </g>\n    <g id=\"patch_229\">\n     <path d=\"M 178.190102 317.558437 \nL 198.190102 317.558437 \nL 198.190102 310.558437 \nL 178.190102 310.558437 \nz\n\" style=\"fill: #008000; opacity: 0.5\"/>\n    </g>\n    <g id=\"text_59\">\n     <!-- Lambda=1.0 -->\n     <g transform=\"translate(206.190102 317.558437) scale(0.1 -0.1)\">\n      <use xlink:href=\"#DejaVuSans-4c\"/>\n      <use xlink:href=\"#DejaVuSans-61\" x=\"55.712891\"/>\n      <use xlink:href=\"#DejaVuSans-6d\" x=\"116.992188\"/>\n      <use xlink:href=\"#DejaVuSans-62\" x=\"214.404297\"/>\n      <use xlink:href=\"#DejaVuSans-64\" x=\"277.880859\"/>\n      <use xlink:href=\"#DejaVuSans-61\" x=\"341.357422\"/>\n      <use xlink:href=\"#DejaVuSans-3d\" x=\"402.636719\"/>\n      <use xlink:href=\"#DejaVuSans-31\" x=\"486.425781\"/>\n      <use xlink:href=\"#DejaVuSans-2e\" x=\"550.048828\"/>\n      <use xlink:href=\"#DejaVuSans-30\" x=\"581.835938\"/>\n     </g>\n    </g>\n   </g>\n  </g>\n  <g id=\"axes_5\">\n   <g id=\"patch_230\">\n    <path d=\"M 336.90854 529.72 \nL 563.318955 529.72 \nL 563.318955 300.96 \nL 336.90854 300.96 \nz\n\" style=\"fill: #ffffff\"/>\n   </g>\n   <g id=\"patch_231\">\n    <path d=\"M 347.199922 529.72 \nL 351.316473 529.72 \nL 351.316473 529.540686 \nL 347.199922 529.540686 \nz\n\" clip-path=\"url(#p109d8a0e27)\" style=\"fill: #0000ff; opacity: 0.5\"/>\n   </g>\n   <g id=\"patch_232\">\n    <path d=\"M 351.316473 529.72 \nL 355.433025 529.72 \nL 355.433025 529.72 \nL 351.316473 529.72 \nz\n\" clip-path=\"url(#p109d8a0e27)\" style=\"fill: #0000ff; opacity: 0.5\"/>\n   </g>\n   <g id=\"patch_233\">\n    <path d=\"M 355.433025 529.72 \nL 359.549583 529.72 \nL 359.549583 529.72 \nL 355.433025 529.72 \nz\n\" clip-path=\"url(#p109d8a0e27)\" style=\"fill: #0000ff; opacity: 0.5\"/>\n   </g>\n   <g id=\"patch_234\">\n    <path d=\"M 359.549583 529.72 \nL 363.666135 529.72 \nL 363.666135 529.72 \nL 359.549583 529.72 \nz\n\" clip-path=\"url(#p109d8a0e27)\" style=\"fill: #0000ff; opacity: 0.5\"/>\n   </g>\n   <g id=\"patch_235\">\n    <path d=\"M 363.666135 529.72 \nL 367.782686 529.72 \nL 367.782686 529.72 \nL 363.666135 529.72 \nz\n\" clip-path=\"url(#p109d8a0e27)\" style=\"fill: #0000ff; opacity: 0.5\"/>\n   </g>\n   <g id=\"patch_236\">\n    <path d=\"M 367.782686 529.72 \nL 371.899237 529.72 \nL 371.899237 529.72 \nL 367.782686 529.72 \nz\n\" clip-path=\"url(#p109d8a0e27)\" style=\"fill: #0000ff; opacity: 0.5\"/>\n   </g>\n   <g id=\"patch_237\">\n    <path d=\"M 371.899237 529.72 \nL 376.015796 529.72 \nL 376.015796 529.72 \nL 371.899237 529.72 \nz\n\" clip-path=\"url(#p109d8a0e27)\" style=\"fill: #0000ff; opacity: 0.5\"/>\n   </g>\n   <g id=\"patch_238\">\n    <path d=\"M 376.015796 529.72 \nL 380.132347 529.72 \nL 380.132347 529.540686 \nL 376.015796 529.540686 \nz\n\" clip-path=\"url(#p109d8a0e27)\" style=\"fill: #0000ff; opacity: 0.5\"/>\n   </g>\n   <g id=\"patch_239\">\n    <path d=\"M 380.132347 529.72 \nL 384.248898 529.72 \nL 384.248898 529.72 \nL 380.132347 529.72 \nz\n\" clip-path=\"url(#p109d8a0e27)\" style=\"fill: #0000ff; opacity: 0.5\"/>\n   </g>\n   <g id=\"patch_240\">\n    <path d=\"M 384.248898 529.72 \nL 388.365449 529.72 \nL 388.365449 529.72 \nL 384.248898 529.72 \nz\n\" clip-path=\"url(#p109d8a0e27)\" style=\"fill: #0000ff; opacity: 0.5\"/>\n   </g>\n   <g id=\"patch_241\">\n    <path d=\"M 388.365449 529.72 \nL 392.482008 529.72 \nL 392.482008 529.361372 \nL 388.365449 529.361372 \nz\n\" clip-path=\"url(#p109d8a0e27)\" style=\"fill: #0000ff; opacity: 0.5\"/>\n   </g>\n   <g id=\"patch_242\">\n    <path d=\"M 392.482008 529.72 \nL 396.598559 529.72 \nL 396.598559 529.72 \nL 392.482008 529.72 \nz\n\" clip-path=\"url(#p109d8a0e27)\" style=\"fill: #0000ff; opacity: 0.5\"/>\n   </g>\n   <g id=\"patch_243\">\n    <path d=\"M 396.598559 529.72 \nL 400.71511 529.72 \nL 400.71511 529.361372 \nL 396.598559 529.361372 \nz\n\" clip-path=\"url(#p109d8a0e27)\" style=\"fill: #0000ff; opacity: 0.5\"/>\n   </g>\n   <g id=\"patch_244\">\n    <path d=\"M 400.71511 529.72 \nL 404.831665 529.72 \nL 404.831665 529.540686 \nL 400.71511 529.540686 \nz\n\" clip-path=\"url(#p109d8a0e27)\" style=\"fill: #0000ff; opacity: 0.5\"/>\n   </g>\n   <g id=\"patch_245\">\n    <path d=\"M 404.831665 529.72 \nL 408.948217 529.72 \nL 408.948217 528.644115 \nL 404.831665 528.644115 \nz\n\" clip-path=\"url(#p109d8a0e27)\" style=\"fill: #0000ff; opacity: 0.5\"/>\n   </g>\n   <g id=\"patch_246\">\n    <path d=\"M 408.948217 529.72 \nL 413.064772 529.72 \nL 413.064772 528.464801 \nL 408.948217 528.464801 \nz\n\" clip-path=\"url(#p109d8a0e27)\" style=\"fill: #0000ff; opacity: 0.5\"/>\n   </g>\n   <g id=\"patch_247\">\n    <path d=\"M 413.064772 529.72 \nL 417.181323 529.72 \nL 417.181323 528.464801 \nL 413.064772 528.464801 \nz\n\" clip-path=\"url(#p109d8a0e27)\" style=\"fill: #0000ff; opacity: 0.5\"/>\n   </g>\n   <g id=\"patch_248\">\n    <path d=\"M 417.181323 529.72 \nL 421.297878 529.72 \nL 421.297878 527.56823 \nL 417.181323 527.56823 \nz\n\" clip-path=\"url(#p109d8a0e27)\" style=\"fill: #0000ff; opacity: 0.5\"/>\n   </g>\n   <g id=\"patch_249\">\n    <path d=\"M 421.297878 529.72 \nL 425.414429 529.72 \nL 425.414429 526.313032 \nL 421.297878 526.313032 \nz\n\" clip-path=\"url(#p109d8a0e27)\" style=\"fill: #0000ff; opacity: 0.5\"/>\n   </g>\n   <g id=\"patch_250\">\n    <path d=\"M 425.414429 529.72 \nL 429.530982 529.72 \nL 429.530982 524.51989 \nL 425.414429 524.51989 \nz\n\" clip-path=\"url(#p109d8a0e27)\" style=\"fill: #0000ff; opacity: 0.5\"/>\n   </g>\n   <g id=\"patch_251\">\n    <path d=\"M 429.530982 529.72 \nL 433.647535 529.72 \nL 433.647535 510.892016 \nL 429.530982 510.892016 \nz\n\" clip-path=\"url(#p109d8a0e27)\" style=\"fill: #0000ff; opacity: 0.5\"/>\n   </g>\n   <g id=\"patch_252\">\n    <path d=\"M 433.647535 529.72 \nL 437.764088 529.72 \nL 437.764088 494.215802 \nL 433.647535 494.215802 \nz\n\" clip-path=\"url(#p109d8a0e27)\" style=\"fill: #0000ff; opacity: 0.5\"/>\n   </g>\n   <g id=\"patch_253\">\n    <path d=\"M 437.764088 529.72 \nL 441.880641 529.72 \nL 441.880641 486.684609 \nL 437.764088 486.684609 \nz\n\" clip-path=\"url(#p109d8a0e27)\" style=\"fill: #0000ff; opacity: 0.5\"/>\n   </g>\n   <g id=\"patch_254\">\n    <path d=\"M 441.880641 529.72 \nL 445.997194 529.72 \nL 445.997194 474.13262 \nL 441.880641 474.13262 \nz\n\" clip-path=\"url(#p109d8a0e27)\" style=\"fill: #0000ff; opacity: 0.5\"/>\n   </g>\n   <g id=\"patch_255\">\n    <path d=\"M 445.997194 529.72 \nL 450.113747 529.72 \nL 450.113747 446.876872 \nL 445.997194 446.876872 \nz\n\" clip-path=\"url(#p109d8a0e27)\" style=\"fill: #0000ff; opacity: 0.5\"/>\n   </g>\n   <g id=\"patch_256\">\n    <path d=\"M 450.113747 529.72 \nL 454.2303 529.72 \nL 454.2303 443.111276 \nL 450.113747 443.111276 \nz\n\" clip-path=\"url(#p109d8a0e27)\" style=\"fill: #0000ff; opacity: 0.5\"/>\n   </g>\n   <g id=\"patch_257\">\n    <path d=\"M 454.2303 529.72 \nL 458.346853 529.72 \nL 458.346853 311.853333 \nL 454.2303 311.853333 \nz\n\" clip-path=\"url(#p109d8a0e27)\" style=\"fill: #0000ff; opacity: 0.5\"/>\n   </g>\n   <g id=\"patch_258\">\n    <path d=\"M 458.346853 529.72 \nL 462.463406 529.72 \nL 462.463406 456.201207 \nL 458.346853 456.201207 \nz\n\" clip-path=\"url(#p109d8a0e27)\" style=\"fill: #0000ff; opacity: 0.5\"/>\n   </g>\n   <g id=\"patch_259\">\n    <path d=\"M 462.463406 529.72 \nL 466.57996 529.72 \nL 466.57996 465.166914 \nL 462.463406 465.166914 \nz\n\" clip-path=\"url(#p109d8a0e27)\" style=\"fill: #0000ff; opacity: 0.5\"/>\n   </g>\n   <g id=\"patch_260\">\n    <path d=\"M 466.57996 529.72 \nL 470.696513 529.72 \nL 470.696513 467.318683 \nL 466.57996 467.318683 \nz\n\" clip-path=\"url(#p109d8a0e27)\" style=\"fill: #0000ff; opacity: 0.5\"/>\n   </g>\n   <g id=\"patch_261\">\n    <path d=\"M 470.696513 529.72 \nL 474.813066 529.72 \nL 474.813066 479.870672 \nL 470.696513 479.870672 \nz\n\" clip-path=\"url(#p109d8a0e27)\" style=\"fill: #0000ff; opacity: 0.5\"/>\n   </g>\n   <g id=\"patch_262\">\n    <path d=\"M 474.813066 529.72 \nL 478.929619 529.72 \nL 478.929619 490.450206 \nL 474.813066 490.450206 \nz\n\" clip-path=\"url(#p109d8a0e27)\" style=\"fill: #0000ff; opacity: 0.5\"/>\n   </g>\n   <g id=\"patch_263\">\n    <path d=\"M 478.929619 529.72 \nL 483.046172 529.72 \nL 483.046172 499.236598 \nL 478.929619 499.236598 \nz\n\" clip-path=\"url(#p109d8a0e27)\" style=\"fill: #0000ff; opacity: 0.5\"/>\n   </g>\n   <g id=\"patch_264\">\n    <path d=\"M 483.046172 529.72 \nL 487.162725 529.72 \nL 487.162725 519.857723 \nL 483.046172 519.857723 \nz\n\" clip-path=\"url(#p109d8a0e27)\" style=\"fill: #0000ff; opacity: 0.5\"/>\n   </g>\n   <g id=\"patch_265\">\n    <path d=\"M 487.162725 529.72 \nL 491.279278 529.72 \nL 491.279278 526.492346 \nL 487.162725 526.492346 \nz\n\" clip-path=\"url(#p109d8a0e27)\" style=\"fill: #0000ff; opacity: 0.5\"/>\n   </g>\n   <g id=\"patch_266\">\n    <path d=\"M 491.279278 529.72 \nL 495.395829 529.72 \nL 495.395829 527.388916 \nL 491.279278 527.388916 \nz\n\" clip-path=\"url(#p109d8a0e27)\" style=\"fill: #0000ff; opacity: 0.5\"/>\n   </g>\n   <g id=\"patch_267\">\n    <path d=\"M 495.395829 529.72 \nL 499.512384 529.72 \nL 499.512384 527.209602 \nL 495.395829 527.209602 \nz\n\" clip-path=\"url(#p109d8a0e27)\" style=\"fill: #0000ff; opacity: 0.5\"/>\n   </g>\n   <g id=\"patch_268\">\n    <path d=\"M 499.512384 529.72 \nL 503.628935 529.72 \nL 503.628935 529.540686 \nL 499.512384 529.540686 \nz\n\" clip-path=\"url(#p109d8a0e27)\" style=\"fill: #0000ff; opacity: 0.5\"/>\n   </g>\n   <g id=\"patch_269\">\n    <path d=\"M 503.628935 529.72 \nL 507.74549 529.72 \nL 507.74549 528.644115 \nL 503.628935 528.644115 \nz\n\" clip-path=\"url(#p109d8a0e27)\" style=\"fill: #0000ff; opacity: 0.5\"/>\n   </g>\n   <g id=\"patch_270\">\n    <path d=\"M 507.74549 529.72 \nL 511.862041 529.72 \nL 511.862041 529.540686 \nL 507.74549 529.540686 \nz\n\" clip-path=\"url(#p109d8a0e27)\" style=\"fill: #0000ff; opacity: 0.5\"/>\n   </g>\n   <g id=\"patch_271\">\n    <path d=\"M 511.862041 529.72 \nL 515.978596 529.72 \nL 515.978596 529.361372 \nL 511.862041 529.361372 \nz\n\" clip-path=\"url(#p109d8a0e27)\" style=\"fill: #0000ff; opacity: 0.5\"/>\n   </g>\n   <g id=\"patch_272\">\n    <path d=\"M 515.978596 529.72 \nL 520.095148 529.72 \nL 520.095148 529.72 \nL 515.978596 529.72 \nz\n\" clip-path=\"url(#p109d8a0e27)\" style=\"fill: #0000ff; opacity: 0.5\"/>\n   </g>\n   <g id=\"patch_273\">\n    <path d=\"M 520.095148 529.72 \nL 524.211699 529.72 \nL 524.211699 529.72 \nL 520.095148 529.72 \nz\n\" clip-path=\"url(#p109d8a0e27)\" style=\"fill: #0000ff; opacity: 0.5\"/>\n   </g>\n   <g id=\"patch_274\">\n    <path d=\"M 524.211699 529.72 \nL 528.328258 529.72 \nL 528.328258 529.540686 \nL 524.211699 529.540686 \nz\n\" clip-path=\"url(#p109d8a0e27)\" style=\"fill: #0000ff; opacity: 0.5\"/>\n   </g>\n   <g id=\"patch_275\">\n    <path d=\"M 528.328258 529.72 \nL 532.444809 529.72 \nL 532.444809 529.540686 \nL 528.328258 529.540686 \nz\n\" clip-path=\"url(#p109d8a0e27)\" style=\"fill: #0000ff; opacity: 0.5\"/>\n   </g>\n   <g id=\"patch_276\">\n    <path d=\"M 532.444809 529.72 \nL 536.56136 529.72 \nL 536.56136 529.72 \nL 532.444809 529.72 \nz\n\" clip-path=\"url(#p109d8a0e27)\" style=\"fill: #0000ff; opacity: 0.5\"/>\n   </g>\n   <g id=\"patch_277\">\n    <path d=\"M 536.56136 529.72 \nL 540.677911 529.72 \nL 540.677911 529.72 \nL 536.56136 529.72 \nz\n\" clip-path=\"url(#p109d8a0e27)\" style=\"fill: #0000ff; opacity: 0.5\"/>\n   </g>\n   <g id=\"patch_278\">\n    <path d=\"M 540.677911 529.72 \nL 544.79447 529.72 \nL 544.79447 529.540686 \nL 540.677911 529.540686 \nz\n\" clip-path=\"url(#p109d8a0e27)\" style=\"fill: #0000ff; opacity: 0.5\"/>\n   </g>\n   <g id=\"patch_279\">\n    <path d=\"M 544.79447 529.72 \nL 548.911021 529.72 \nL 548.911021 529.72 \nL 544.79447 529.72 \nz\n\" clip-path=\"url(#p109d8a0e27)\" style=\"fill: #0000ff; opacity: 0.5\"/>\n   </g>\n   <g id=\"patch_280\">\n    <path d=\"M 548.911021 529.72 \nL 553.027572 529.72 \nL 553.027572 529.361372 \nL 548.911021 529.361372 \nz\n\" clip-path=\"url(#p109d8a0e27)\" style=\"fill: #0000ff; opacity: 0.5\"/>\n   </g>\n   <g id=\"matplotlib.axis_9\">\n    <g id=\"xtick_20\">\n     <g id=\"line2d_48\">\n      <g>\n       <use xlink:href=\"#md602424763\" x=\"374.727029\" y=\"529.72\" style=\"stroke: #000000; stroke-width: 0.8\"/>\n      </g>\n     </g>\n     <g id=\"text_60\">\n      <!-- −0.04 -->\n      <g transform=\"translate(359.404373 544.318437) scale(0.1 -0.1)\">\n       <use xlink:href=\"#DejaVuSans-2212\"/>\n       <use xlink:href=\"#DejaVuSans-30\" x=\"83.789062\"/>\n       <use xlink:href=\"#DejaVuSans-2e\" x=\"147.412109\"/>\n       <use xlink:href=\"#DejaVuSans-30\" x=\"179.199219\"/>\n       <use xlink:href=\"#DejaVuSans-34\" x=\"242.822266\"/>\n      </g>\n     </g>\n    </g>\n    <g id=\"xtick_21\">\n     <g id=\"line2d_49\">\n      <g>\n       <use xlink:href=\"#md602424763\" x=\"415.798132\" y=\"529.72\" style=\"stroke: #000000; stroke-width: 0.8\"/>\n      </g>\n     </g>\n     <g id=\"text_61\">\n      <!-- −0.02 -->\n      <g transform=\"translate(400.475476 544.318437) scale(0.1 -0.1)\">\n       <use xlink:href=\"#DejaVuSans-2212\"/>\n       <use xlink:href=\"#DejaVuSans-30\" x=\"83.789062\"/>\n       <use xlink:href=\"#DejaVuSans-2e\" x=\"147.412109\"/>\n       <use xlink:href=\"#DejaVuSans-30\" x=\"179.199219\"/>\n       <use xlink:href=\"#DejaVuSans-32\" x=\"242.822266\"/>\n      </g>\n     </g>\n    </g>\n    <g id=\"xtick_22\">\n     <g id=\"line2d_50\">\n      <g>\n       <use xlink:href=\"#md602424763\" x=\"456.869235\" y=\"529.72\" style=\"stroke: #000000; stroke-width: 0.8\"/>\n      </g>\n     </g>\n     <g id=\"text_62\">\n      <!-- 0.00 -->\n      <g transform=\"translate(445.736422 544.318437) scale(0.1 -0.1)\">\n       <use xlink:href=\"#DejaVuSans-30\"/>\n       <use xlink:href=\"#DejaVuSans-2e\" x=\"63.623047\"/>\n       <use xlink:href=\"#DejaVuSans-30\" x=\"95.410156\"/>\n       <use xlink:href=\"#DejaVuSans-30\" x=\"159.033203\"/>\n      </g>\n     </g>\n    </g>\n    <g id=\"xtick_23\">\n     <g id=\"line2d_51\">\n      <g>\n       <use xlink:href=\"#md602424763\" x=\"497.940338\" y=\"529.72\" style=\"stroke: #000000; stroke-width: 0.8\"/>\n      </g>\n     </g>\n     <g id=\"text_63\">\n      <!-- 0.02 -->\n      <g transform=\"translate(486.807525 544.318437) scale(0.1 -0.1)\">\n       <use xlink:href=\"#DejaVuSans-30\"/>\n       <use xlink:href=\"#DejaVuSans-2e\" x=\"63.623047\"/>\n       <use xlink:href=\"#DejaVuSans-30\" x=\"95.410156\"/>\n       <use xlink:href=\"#DejaVuSans-32\" x=\"159.033203\"/>\n      </g>\n     </g>\n    </g>\n    <g id=\"xtick_24\">\n     <g id=\"line2d_52\">\n      <g>\n       <use xlink:href=\"#md602424763\" x=\"539.01144\" y=\"529.72\" style=\"stroke: #000000; stroke-width: 0.8\"/>\n      </g>\n     </g>\n     <g id=\"text_64\">\n      <!-- 0.04 -->\n      <g transform=\"translate(527.878628 544.318437) scale(0.1 -0.1)\">\n       <use xlink:href=\"#DejaVuSans-30\"/>\n       <use xlink:href=\"#DejaVuSans-2e\" x=\"63.623047\"/>\n       <use xlink:href=\"#DejaVuSans-30\" x=\"95.410156\"/>\n       <use xlink:href=\"#DejaVuSans-34\" x=\"159.033203\"/>\n      </g>\n     </g>\n    </g>\n    <g id=\"text_65\">\n     <!-- Weights Values -->\n     <g transform=\"translate(412.16531 557.996562) scale(0.1 -0.1)\">\n      <use xlink:href=\"#DejaVuSans-57\"/>\n      <use xlink:href=\"#DejaVuSans-65\" x=\"93.001953\"/>\n      <use xlink:href=\"#DejaVuSans-69\" x=\"154.525391\"/>\n      <use xlink:href=\"#DejaVuSans-67\" x=\"182.308594\"/>\n      <use xlink:href=\"#DejaVuSans-68\" x=\"245.785156\"/>\n      <use xlink:href=\"#DejaVuSans-74\" x=\"309.164062\"/>\n      <use xlink:href=\"#DejaVuSans-73\" x=\"348.373047\"/>\n      <use xlink:href=\"#DejaVuSans-20\" x=\"400.472656\"/>\n      <use xlink:href=\"#DejaVuSans-56\" x=\"432.259766\"/>\n      <use xlink:href=\"#DejaVuSans-61\" x=\"492.917969\"/>\n      <use xlink:href=\"#DejaVuSans-6c\" x=\"554.197266\"/>\n      <use xlink:href=\"#DejaVuSans-75\" x=\"581.980469\"/>\n      <use xlink:href=\"#DejaVuSans-65\" x=\"645.359375\"/>\n      <use xlink:href=\"#DejaVuSans-73\" x=\"706.882812\"/>\n     </g>\n    </g>\n   </g>\n   <g id=\"matplotlib.axis_10\">\n    <g id=\"ytick_29\">\n     <g id=\"line2d_53\">\n      <g>\n       <use xlink:href=\"#m2513a9dab9\" x=\"336.90854\" y=\"529.72\" style=\"stroke: #000000; stroke-width: 0.8\"/>\n      </g>\n     </g>\n     <g id=\"text_66\">\n      <!-- 0 -->\n      <g transform=\"translate(323.54604 533.519219) scale(0.1 -0.1)\">\n       <use xlink:href=\"#DejaVuSans-30\"/>\n      </g>\n     </g>\n    </g>\n    <g id=\"ytick_30\">\n     <g id=\"line2d_54\">\n      <g>\n       <use xlink:href=\"#m2513a9dab9\" x=\"336.90854\" y=\"493.857174\" style=\"stroke: #000000; stroke-width: 0.8\"/>\n      </g>\n     </g>\n     <g id=\"text_67\">\n      <!-- 200 -->\n      <g transform=\"translate(310.82104 497.656393) scale(0.1 -0.1)\">\n       <use xlink:href=\"#DejaVuSans-32\"/>\n       <use xlink:href=\"#DejaVuSans-30\" x=\"63.623047\"/>\n       <use xlink:href=\"#DejaVuSans-30\" x=\"127.246094\"/>\n      </g>\n     </g>\n    </g>\n    <g id=\"ytick_31\">\n     <g id=\"line2d_55\">\n      <g>\n       <use xlink:href=\"#m2513a9dab9\" x=\"336.90854\" y=\"457.994348\" style=\"stroke: #000000; stroke-width: 0.8\"/>\n      </g>\n     </g>\n     <g id=\"text_68\">\n      <!-- 400 -->\n      <g transform=\"translate(310.82104 461.793567) scale(0.1 -0.1)\">\n       <use xlink:href=\"#DejaVuSans-34\"/>\n       <use xlink:href=\"#DejaVuSans-30\" x=\"63.623047\"/>\n       <use xlink:href=\"#DejaVuSans-30\" x=\"127.246094\"/>\n      </g>\n     </g>\n    </g>\n    <g id=\"ytick_32\">\n     <g id=\"line2d_56\">\n      <g>\n       <use xlink:href=\"#m2513a9dab9\" x=\"336.90854\" y=\"422.131523\" style=\"stroke: #000000; stroke-width: 0.8\"/>\n      </g>\n     </g>\n     <g id=\"text_69\">\n      <!-- 600 -->\n      <g transform=\"translate(310.82104 425.930741) scale(0.1 -0.1)\">\n       <use xlink:href=\"#DejaVuSans-36\"/>\n       <use xlink:href=\"#DejaVuSans-30\" x=\"63.623047\"/>\n       <use xlink:href=\"#DejaVuSans-30\" x=\"127.246094\"/>\n      </g>\n     </g>\n    </g>\n    <g id=\"ytick_33\">\n     <g id=\"line2d_57\">\n      <g>\n       <use xlink:href=\"#m2513a9dab9\" x=\"336.90854\" y=\"386.268697\" style=\"stroke: #000000; stroke-width: 0.8\"/>\n      </g>\n     </g>\n     <g id=\"text_70\">\n      <!-- 800 -->\n      <g transform=\"translate(310.82104 390.067916) scale(0.1 -0.1)\">\n       <use xlink:href=\"#DejaVuSans-38\"/>\n       <use xlink:href=\"#DejaVuSans-30\" x=\"63.623047\"/>\n       <use xlink:href=\"#DejaVuSans-30\" x=\"127.246094\"/>\n      </g>\n     </g>\n    </g>\n    <g id=\"ytick_34\">\n     <g id=\"line2d_58\">\n      <g>\n       <use xlink:href=\"#m2513a9dab9\" x=\"336.90854\" y=\"350.405871\" style=\"stroke: #000000; stroke-width: 0.8\"/>\n      </g>\n     </g>\n     <g id=\"text_71\">\n      <!-- 1000 -->\n      <g transform=\"translate(304.45854 354.20509) scale(0.1 -0.1)\">\n       <use xlink:href=\"#DejaVuSans-31\"/>\n       <use xlink:href=\"#DejaVuSans-30\" x=\"63.623047\"/>\n       <use xlink:href=\"#DejaVuSans-30\" x=\"127.246094\"/>\n       <use xlink:href=\"#DejaVuSans-30\" x=\"190.869141\"/>\n      </g>\n     </g>\n    </g>\n    <g id=\"ytick_35\">\n     <g id=\"line2d_59\">\n      <g>\n       <use xlink:href=\"#m2513a9dab9\" x=\"336.90854\" y=\"314.543045\" style=\"stroke: #000000; stroke-width: 0.8\"/>\n      </g>\n     </g>\n     <g id=\"text_72\">\n      <!-- 1200 -->\n      <g transform=\"translate(304.45854 318.342264) scale(0.1 -0.1)\">\n       <use xlink:href=\"#DejaVuSans-31\"/>\n       <use xlink:href=\"#DejaVuSans-32\" x=\"63.623047\"/>\n       <use xlink:href=\"#DejaVuSans-30\" x=\"127.246094\"/>\n       <use xlink:href=\"#DejaVuSans-30\" x=\"190.869141\"/>\n      </g>\n     </g>\n    </g>\n    <g id=\"text_73\">\n     <!-- Frequency -->\n     <g transform=\"translate(298.378852 441.169688) rotate(-90) scale(0.1 -0.1)\">\n      <use xlink:href=\"#DejaVuSans-46\"/>\n      <use xlink:href=\"#DejaVuSans-72\" x=\"50.269531\"/>\n      <use xlink:href=\"#DejaVuSans-65\" x=\"89.132812\"/>\n      <use xlink:href=\"#DejaVuSans-71\" x=\"150.65625\"/>\n      <use xlink:href=\"#DejaVuSans-75\" x=\"214.132812\"/>\n      <use xlink:href=\"#DejaVuSans-65\" x=\"277.511719\"/>\n      <use xlink:href=\"#DejaVuSans-6e\" x=\"339.035156\"/>\n      <use xlink:href=\"#DejaVuSans-63\" x=\"402.414062\"/>\n      <use xlink:href=\"#DejaVuSans-79\" x=\"457.394531\"/>\n     </g>\n    </g>\n   </g>\n   <g id=\"patch_281\">\n    <path d=\"M 336.90854 529.72 \nL 336.90854 300.96 \n\" style=\"fill: none; stroke: #000000; stroke-width: 0.8; stroke-linejoin: miter; stroke-linecap: square\"/>\n   </g>\n   <g id=\"patch_282\">\n    <path d=\"M 563.318955 529.72 \nL 563.318955 300.96 \n\" style=\"fill: none; stroke: #000000; stroke-width: 0.8; stroke-linejoin: miter; stroke-linecap: square\"/>\n   </g>\n   <g id=\"patch_283\">\n    <path d=\"M 336.90854 529.72 \nL 563.318955 529.72 \n\" style=\"fill: none; stroke: #000000; stroke-width: 0.8; stroke-linejoin: miter; stroke-linecap: square\"/>\n   </g>\n   <g id=\"patch_284\">\n    <path d=\"M 336.90854 300.96 \nL 563.318955 300.96 \n\" style=\"fill: none; stroke: #000000; stroke-width: 0.8; stroke-linejoin: miter; stroke-linecap: square\"/>\n   </g>\n   <g id=\"legend_5\">\n    <g id=\"patch_285\">\n     <path d=\"M 343.90854 323.638125 \nL 446.819477 323.638125 \nQ 448.819477 323.638125 448.819477 321.638125 \nL 448.819477 307.96 \nQ 448.819477 305.96 446.819477 305.96 \nL 343.90854 305.96 \nQ 341.90854 305.96 341.90854 307.96 \nL 341.90854 321.638125 \nQ 341.90854 323.638125 343.90854 323.638125 \nz\n\" style=\"fill: #ffffff; opacity: 0.8; stroke: #cccccc; stroke-linejoin: miter\"/>\n    </g>\n    <g id=\"patch_286\">\n     <path d=\"M 345.90854 317.558437 \nL 365.90854 317.558437 \nL 365.90854 310.558437 \nL 345.90854 310.558437 \nz\n\" style=\"fill: #0000ff; opacity: 0.5\"/>\n    </g>\n    <g id=\"text_74\">\n     <!-- Lambda=10.0 -->\n     <g transform=\"translate(373.90854 317.558437) scale(0.1 -0.1)\">\n      <use xlink:href=\"#DejaVuSans-4c\"/>\n      <use xlink:href=\"#DejaVuSans-61\" x=\"55.712891\"/>\n      <use xlink:href=\"#DejaVuSans-6d\" x=\"116.992188\"/>\n      <use xlink:href=\"#DejaVuSans-62\" x=\"214.404297\"/>\n      <use xlink:href=\"#DejaVuSans-64\" x=\"277.880859\"/>\n      <use xlink:href=\"#DejaVuSans-61\" x=\"341.357422\"/>\n      <use xlink:href=\"#DejaVuSans-3d\" x=\"402.636719\"/>\n      <use xlink:href=\"#DejaVuSans-31\" x=\"486.425781\"/>\n      <use xlink:href=\"#DejaVuSans-30\" x=\"550.048828\"/>\n      <use xlink:href=\"#DejaVuSans-2e\" x=\"613.671875\"/>\n      <use xlink:href=\"#DejaVuSans-30\" x=\"645.458984\"/>\n     </g>\n    </g>\n   </g>\n  </g>\n  <g id=\"axes_6\">\n   <g id=\"patch_287\">\n    <path d=\"M 620.488955 529.72 \nL 846.89937 529.72 \nL 846.89937 300.96 \nL 620.488955 300.96 \nz\n\" style=\"fill: #ffffff\"/>\n   </g>\n   <g id=\"patch_288\">\n    <path d=\"M 630.780337 529.72 \nL 634.896894 529.72 \nL 634.896894 529.618525 \nL 630.780337 529.618525 \nz\n\" clip-path=\"url(#p568fa15daa)\" style=\"fill: #800080; opacity: 0.5\"/>\n   </g>\n   <g id=\"patch_289\">\n    <path d=\"M 634.896894 529.72 \nL 639.013442 529.72 \nL 639.013442 529.51705 \nL 634.896894 529.51705 \nz\n\" clip-path=\"url(#p568fa15daa)\" style=\"fill: #800080; opacity: 0.5\"/>\n   </g>\n   <g id=\"patch_290\">\n    <path d=\"M 639.013442 529.72 \nL 643.13 529.72 \nL 643.13 529.72 \nL 639.013442 529.72 \nz\n\" clip-path=\"url(#p568fa15daa)\" style=\"fill: #800080; opacity: 0.5\"/>\n   </g>\n   <g id=\"patch_291\">\n    <path d=\"M 643.13 529.72 \nL 647.246548 529.72 \nL 647.246548 529.618525 \nL 643.13 529.618525 \nz\n\" clip-path=\"url(#p568fa15daa)\" style=\"fill: #800080; opacity: 0.5\"/>\n   </g>\n   <g id=\"patch_292\">\n    <path d=\"M 647.246548 529.72 \nL 651.363105 529.72 \nL 651.363105 529.618525 \nL 647.246548 529.618525 \nz\n\" clip-path=\"url(#p568fa15daa)\" style=\"fill: #800080; opacity: 0.5\"/>\n   </g>\n   <g id=\"patch_293\">\n    <path d=\"M 651.363105 529.72 \nL 655.479653 529.72 \nL 655.479653 529.72 \nL 651.363105 529.72 \nz\n\" clip-path=\"url(#p568fa15daa)\" style=\"fill: #800080; opacity: 0.5\"/>\n   </g>\n   <g id=\"patch_294\">\n    <path d=\"M 655.479653 529.72 \nL 659.59621 529.72 \nL 659.59621 529.415575 \nL 655.479653 529.415575 \nz\n\" clip-path=\"url(#p568fa15daa)\" style=\"fill: #800080; opacity: 0.5\"/>\n   </g>\n   <g id=\"patch_295\">\n    <path d=\"M 659.59621 529.72 \nL 663.712763 529.72 \nL 663.712763 529.618525 \nL 659.59621 529.618525 \nz\n\" clip-path=\"url(#p568fa15daa)\" style=\"fill: #800080; opacity: 0.5\"/>\n   </g>\n   <g id=\"patch_296\">\n    <path d=\"M 663.712763 529.72 \nL 667.829315 529.72 \nL 667.829315 529.618525 \nL 663.712763 529.618525 \nz\n\" clip-path=\"url(#p568fa15daa)\" style=\"fill: #800080; opacity: 0.5\"/>\n   </g>\n   <g id=\"patch_297\">\n    <path d=\"M 667.829315 529.72 \nL 671.945868 529.72 \nL 671.945868 529.72 \nL 667.829315 529.72 \nz\n\" clip-path=\"url(#p568fa15daa)\" style=\"fill: #800080; opacity: 0.5\"/>\n   </g>\n   <g id=\"patch_298\">\n    <path d=\"M 671.945868 529.72 \nL 676.062421 529.72 \nL 676.062421 529.212625 \nL 671.945868 529.212625 \nz\n\" clip-path=\"url(#p568fa15daa)\" style=\"fill: #800080; opacity: 0.5\"/>\n   </g>\n   <g id=\"patch_299\">\n    <path d=\"M 676.062421 529.72 \nL 680.178973 529.72 \nL 680.178973 529.009676 \nL 676.062421 529.009676 \nz\n\" clip-path=\"url(#p568fa15daa)\" style=\"fill: #800080; opacity: 0.5\"/>\n   </g>\n   <g id=\"patch_300\">\n    <path d=\"M 680.178973 529.72 \nL 684.295526 529.72 \nL 684.295526 528.806726 \nL 680.178973 528.806726 \nz\n\" clip-path=\"url(#p568fa15daa)\" style=\"fill: #800080; opacity: 0.5\"/>\n   </g>\n   <g id=\"patch_301\">\n    <path d=\"M 684.295526 529.72 \nL 688.412079 529.72 \nL 688.412079 527.994926 \nL 684.295526 527.994926 \nz\n\" clip-path=\"url(#p568fa15daa)\" style=\"fill: #800080; opacity: 0.5\"/>\n   </g>\n   <g id=\"patch_302\">\n    <path d=\"M 688.412079 529.72 \nL 692.528631 529.72 \nL 692.528631 528.400826 \nL 688.412079 528.400826 \nz\n\" clip-path=\"url(#p568fa15daa)\" style=\"fill: #800080; opacity: 0.5\"/>\n   </g>\n   <g id=\"patch_303\">\n    <path d=\"M 692.528631 529.72 \nL 696.645186 529.72 \nL 696.645186 526.980177 \nL 692.528631 526.980177 \nz\n\" clip-path=\"url(#p568fa15daa)\" style=\"fill: #800080; opacity: 0.5\"/>\n   </g>\n   <g id=\"patch_304\">\n    <path d=\"M 696.645186 529.72 \nL 700.761739 529.72 \nL 700.761739 526.269853 \nL 696.645186 526.269853 \nz\n\" clip-path=\"url(#p568fa15daa)\" style=\"fill: #800080; opacity: 0.5\"/>\n   </g>\n   <g id=\"patch_305\">\n    <path d=\"M 700.761739 529.72 \nL 704.878291 529.72 \nL 704.878291 522.413805 \nL 700.761739 522.413805 \nz\n\" clip-path=\"url(#p568fa15daa)\" style=\"fill: #800080; opacity: 0.5\"/>\n   </g>\n   <g id=\"patch_306\">\n    <path d=\"M 704.878291 529.72 \nL 708.994844 529.72 \nL 708.994844 518.456283 \nL 704.878291 518.456283 \nz\n\" clip-path=\"url(#p568fa15daa)\" style=\"fill: #800080; opacity: 0.5\"/>\n   </g>\n   <g id=\"patch_307\">\n    <path d=\"M 708.994844 529.72 \nL 713.111397 529.72 \nL 713.111397 512.672212 \nL 708.994844 512.672212 \nz\n\" clip-path=\"url(#p568fa15daa)\" style=\"fill: #800080; opacity: 0.5\"/>\n   </g>\n   <g id=\"patch_308\">\n    <path d=\"M 713.111397 529.72 \nL 717.22795 529.72 \nL 717.22795 511.758938 \nL 713.111397 511.758938 \nz\n\" clip-path=\"url(#p568fa15daa)\" style=\"fill: #800080; opacity: 0.5\"/>\n   </g>\n   <g id=\"patch_309\">\n    <path d=\"M 717.22795 529.72 \nL 721.344503 529.72 \nL 721.344503 505.467493 \nL 717.22795 505.467493 \nz\n\" clip-path=\"url(#p568fa15daa)\" style=\"fill: #800080; opacity: 0.5\"/>\n   </g>\n   <g id=\"patch_310\">\n    <path d=\"M 721.344503 529.72 \nL 725.461056 529.72 \nL 725.461056 500.799646 \nL 721.344503 500.799646 \nz\n\" clip-path=\"url(#p568fa15daa)\" style=\"fill: #800080; opacity: 0.5\"/>\n   </g>\n   <g id=\"patch_311\">\n    <path d=\"M 725.461056 529.72 \nL 729.577609 529.72 \nL 729.577609 488.11528 \nL 725.461056 488.11528 \nz\n\" clip-path=\"url(#p568fa15daa)\" style=\"fill: #800080; opacity: 0.5\"/>\n   </g>\n   <g id=\"patch_312\">\n    <path d=\"M 729.577609 529.72 \nL 733.694162 529.72 \nL 733.694162 311.853333 \nL 729.577609 311.853333 \nz\n\" clip-path=\"url(#p568fa15daa)\" style=\"fill: #800080; opacity: 0.5\"/>\n   </g>\n   <g id=\"patch_313\">\n    <path d=\"M 733.694162 529.72 \nL 737.810715 529.72 \nL 737.810715 499.987847 \nL 733.694162 499.987847 \nz\n\" clip-path=\"url(#p568fa15daa)\" style=\"fill: #800080; opacity: 0.5\"/>\n   </g>\n   <g id=\"patch_314\">\n    <path d=\"M 737.810715 529.72 \nL 741.927269 529.72 \nL 741.927269 505.163068 \nL 737.810715 505.163068 \nz\n\" clip-path=\"url(#p568fa15daa)\" style=\"fill: #800080; opacity: 0.5\"/>\n   </g>\n   <g id=\"patch_315\">\n    <path d=\"M 741.927269 529.72 \nL 746.043821 529.72 \nL 746.043821 510.135339 \nL 741.927269 510.135339 \nz\n\" clip-path=\"url(#p568fa15daa)\" style=\"fill: #800080; opacity: 0.5\"/>\n   </g>\n   <g id=\"patch_316\">\n    <path d=\"M 746.043821 529.72 \nL 750.160374 529.72 \nL 750.160374 514.803186 \nL 746.043821 514.803186 \nz\n\" clip-path=\"url(#p568fa15daa)\" style=\"fill: #800080; opacity: 0.5\"/>\n   </g>\n   <g id=\"patch_317\">\n    <path d=\"M 750.160374 529.72 \nL 754.276928 529.72 \nL 754.276928 517.441534 \nL 750.160374 517.441534 \nz\n\" clip-path=\"url(#p568fa15daa)\" style=\"fill: #800080; opacity: 0.5\"/>\n   </g>\n   <g id=\"patch_318\">\n    <path d=\"M 754.276928 529.72 \nL 758.39348 529.72 \nL 758.39348 518.050383 \nL 754.276928 518.050383 \nz\n\" clip-path=\"url(#p568fa15daa)\" style=\"fill: #800080; opacity: 0.5\"/>\n   </g>\n   <g id=\"patch_319\">\n    <path d=\"M 758.39348 529.72 \nL 762.510033 529.72 \nL 762.510033 524.747729 \nL 758.39348 524.747729 \nz\n\" clip-path=\"url(#p568fa15daa)\" style=\"fill: #800080; opacity: 0.5\"/>\n   </g>\n   <g id=\"patch_320\">\n    <path d=\"M 762.510033 529.72 \nL 766.626585 529.72 \nL 766.626585 527.589027 \nL 762.510033 527.589027 \nz\n\" clip-path=\"url(#p568fa15daa)\" style=\"fill: #800080; opacity: 0.5\"/>\n   </g>\n   <g id=\"patch_321\">\n    <path d=\"M 766.626585 529.72 \nL 770.74314 529.72 \nL 770.74314 527.589027 \nL 766.626585 527.589027 \nz\n\" clip-path=\"url(#p568fa15daa)\" style=\"fill: #800080; opacity: 0.5\"/>\n   </g>\n   <g id=\"patch_322\">\n    <path d=\"M 770.74314 529.72 \nL 774.859693 529.72 \nL 774.859693 526.980177 \nL 770.74314 526.980177 \nz\n\" clip-path=\"url(#p568fa15daa)\" style=\"fill: #800080; opacity: 0.5\"/>\n   </g>\n   <g id=\"patch_323\">\n    <path d=\"M 774.859693 529.72 \nL 778.976246 529.72 \nL 778.976246 527.791976 \nL 774.859693 527.791976 \nz\n\" clip-path=\"url(#p568fa15daa)\" style=\"fill: #800080; opacity: 0.5\"/>\n   </g>\n   <g id=\"patch_324\">\n    <path d=\"M 778.976246 529.72 \nL 783.092798 529.72 \nL 783.092798 529.3141 \nL 778.976246 529.3141 \nz\n\" clip-path=\"url(#p568fa15daa)\" style=\"fill: #800080; opacity: 0.5\"/>\n   </g>\n   <g id=\"patch_325\">\n    <path d=\"M 783.092798 529.72 \nL 787.209351 529.72 \nL 787.209351 529.212625 \nL 783.092798 529.212625 \nz\n\" clip-path=\"url(#p568fa15daa)\" style=\"fill: #800080; opacity: 0.5\"/>\n   </g>\n   <g id=\"patch_326\">\n    <path d=\"M 787.209351 529.72 \nL 791.325904 529.72 \nL 791.325904 529.11115 \nL 787.209351 529.11115 \nz\n\" clip-path=\"url(#p568fa15daa)\" style=\"fill: #800080; opacity: 0.5\"/>\n   </g>\n   <g id=\"patch_327\">\n    <path d=\"M 791.325904 529.72 \nL 795.442456 529.72 \nL 795.442456 529.51705 \nL 791.325904 529.51705 \nz\n\" clip-path=\"url(#p568fa15daa)\" style=\"fill: #800080; opacity: 0.5\"/>\n   </g>\n   <g id=\"patch_328\">\n    <path d=\"M 795.442456 529.72 \nL 799.559009 529.72 \nL 799.559009 529.618525 \nL 795.442456 529.618525 \nz\n\" clip-path=\"url(#p568fa15daa)\" style=\"fill: #800080; opacity: 0.5\"/>\n   </g>\n   <g id=\"patch_329\">\n    <path d=\"M 799.559009 529.72 \nL 803.675561 529.72 \nL 803.675561 529.618525 \nL 799.559009 529.618525 \nz\n\" clip-path=\"url(#p568fa15daa)\" style=\"fill: #800080; opacity: 0.5\"/>\n   </g>\n   <g id=\"patch_330\">\n    <path d=\"M 803.675561 529.72 \nL 807.792114 529.72 \nL 807.792114 529.72 \nL 803.675561 529.72 \nz\n\" clip-path=\"url(#p568fa15daa)\" style=\"fill: #800080; opacity: 0.5\"/>\n   </g>\n   <g id=\"patch_331\">\n    <path d=\"M 807.792114 529.72 \nL 811.908671 529.72 \nL 811.908671 529.72 \nL 807.792114 529.72 \nz\n\" clip-path=\"url(#p568fa15daa)\" style=\"fill: #800080; opacity: 0.5\"/>\n   </g>\n   <g id=\"patch_332\">\n    <path d=\"M 811.908671 529.72 \nL 816.025219 529.72 \nL 816.025219 529.618525 \nL 811.908671 529.618525 \nz\n\" clip-path=\"url(#p568fa15daa)\" style=\"fill: #800080; opacity: 0.5\"/>\n   </g>\n   <g id=\"patch_333\">\n    <path d=\"M 816.025219 529.72 \nL 820.141777 529.72 \nL 820.141777 529.72 \nL 816.025219 529.72 \nz\n\" clip-path=\"url(#p568fa15daa)\" style=\"fill: #800080; opacity: 0.5\"/>\n   </g>\n   <g id=\"patch_334\">\n    <path d=\"M 820.141777 529.72 \nL 824.258325 529.72 \nL 824.258325 529.72 \nL 820.141777 529.72 \nz\n\" clip-path=\"url(#p568fa15daa)\" style=\"fill: #800080; opacity: 0.5\"/>\n   </g>\n   <g id=\"patch_335\">\n    <path d=\"M 824.258325 529.72 \nL 828.374882 529.72 \nL 828.374882 529.72 \nL 824.258325 529.72 \nz\n\" clip-path=\"url(#p568fa15daa)\" style=\"fill: #800080; opacity: 0.5\"/>\n   </g>\n   <g id=\"patch_336\">\n    <path d=\"M 828.374882 529.72 \nL 832.49143 529.72 \nL 832.49143 529.72 \nL 828.374882 529.72 \nz\n\" clip-path=\"url(#p568fa15daa)\" style=\"fill: #800080; opacity: 0.5\"/>\n   </g>\n   <g id=\"patch_337\">\n    <path d=\"M 832.49143 529.72 \nL 836.607987 529.72 \nL 836.607987 529.618525 \nL 832.49143 529.618525 \nz\n\" clip-path=\"url(#p568fa15daa)\" style=\"fill: #800080; opacity: 0.5\"/>\n   </g>\n   <g id=\"matplotlib.axis_11\">\n    <g id=\"xtick_25\">\n     <g id=\"line2d_60\">\n      <g>\n       <use xlink:href=\"#md602424763\" x=\"632.305134\" y=\"529.72\" style=\"stroke: #000000; stroke-width: 0.8\"/>\n      </g>\n     </g>\n     <g id=\"text_75\">\n      <!-- −0.04 -->\n      <g transform=\"translate(616.982477 544.318437) scale(0.1 -0.1)\">\n       <use xlink:href=\"#DejaVuSans-2212\"/>\n       <use xlink:href=\"#DejaVuSans-30\" x=\"83.789062\"/>\n       <use xlink:href=\"#DejaVuSans-2e\" x=\"147.412109\"/>\n       <use xlink:href=\"#DejaVuSans-30\" x=\"179.199219\"/>\n       <use xlink:href=\"#DejaVuSans-34\" x=\"242.822266\"/>\n      </g>\n     </g>\n    </g>\n    <g id=\"xtick_26\">\n     <g id=\"line2d_61\">\n      <g>\n       <use xlink:href=\"#md602424763\" x=\"681.678485\" y=\"529.72\" style=\"stroke: #000000; stroke-width: 0.8\"/>\n      </g>\n     </g>\n     <g id=\"text_76\">\n      <!-- −0.02 -->\n      <g transform=\"translate(666.355829 544.318437) scale(0.1 -0.1)\">\n       <use xlink:href=\"#DejaVuSans-2212\"/>\n       <use xlink:href=\"#DejaVuSans-30\" x=\"83.789062\"/>\n       <use xlink:href=\"#DejaVuSans-2e\" x=\"147.412109\"/>\n       <use xlink:href=\"#DejaVuSans-30\" x=\"179.199219\"/>\n       <use xlink:href=\"#DejaVuSans-32\" x=\"242.822266\"/>\n      </g>\n     </g>\n    </g>\n    <g id=\"xtick_27\">\n     <g id=\"line2d_62\">\n      <g>\n       <use xlink:href=\"#md602424763\" x=\"731.051837\" y=\"529.72\" style=\"stroke: #000000; stroke-width: 0.8\"/>\n      </g>\n     </g>\n     <g id=\"text_77\">\n      <!-- 0.00 -->\n      <g transform=\"translate(719.919024 544.318437) scale(0.1 -0.1)\">\n       <use xlink:href=\"#DejaVuSans-30\"/>\n       <use xlink:href=\"#DejaVuSans-2e\" x=\"63.623047\"/>\n       <use xlink:href=\"#DejaVuSans-30\" x=\"95.410156\"/>\n       <use xlink:href=\"#DejaVuSans-30\" x=\"159.033203\"/>\n      </g>\n     </g>\n    </g>\n    <g id=\"xtick_28\">\n     <g id=\"line2d_63\">\n      <g>\n       <use xlink:href=\"#md602424763\" x=\"780.425188\" y=\"529.72\" style=\"stroke: #000000; stroke-width: 0.8\"/>\n      </g>\n     </g>\n     <g id=\"text_78\">\n      <!-- 0.02 -->\n      <g transform=\"translate(769.292376 544.318437) scale(0.1 -0.1)\">\n       <use xlink:href=\"#DejaVuSans-30\"/>\n       <use xlink:href=\"#DejaVuSans-2e\" x=\"63.623047\"/>\n       <use xlink:href=\"#DejaVuSans-30\" x=\"95.410156\"/>\n       <use xlink:href=\"#DejaVuSans-32\" x=\"159.033203\"/>\n      </g>\n     </g>\n    </g>\n    <g id=\"xtick_29\">\n     <g id=\"line2d_64\">\n      <g>\n       <use xlink:href=\"#md602424763\" x=\"829.798539\" y=\"529.72\" style=\"stroke: #000000; stroke-width: 0.8\"/>\n      </g>\n     </g>\n     <g id=\"text_79\">\n      <!-- 0.04 -->\n      <g transform=\"translate(818.665727 544.318437) scale(0.1 -0.1)\">\n       <use xlink:href=\"#DejaVuSans-30\"/>\n       <use xlink:href=\"#DejaVuSans-2e\" x=\"63.623047\"/>\n       <use xlink:href=\"#DejaVuSans-30\" x=\"95.410156\"/>\n       <use xlink:href=\"#DejaVuSans-34\" x=\"159.033203\"/>\n      </g>\n     </g>\n    </g>\n    <g id=\"text_80\">\n     <!-- Weights Values -->\n     <g transform=\"translate(695.745725 557.996562) scale(0.1 -0.1)\">\n      <use xlink:href=\"#DejaVuSans-57\"/>\n      <use xlink:href=\"#DejaVuSans-65\" x=\"93.001953\"/>\n      <use xlink:href=\"#DejaVuSans-69\" x=\"154.525391\"/>\n      <use xlink:href=\"#DejaVuSans-67\" x=\"182.308594\"/>\n      <use xlink:href=\"#DejaVuSans-68\" x=\"245.785156\"/>\n      <use xlink:href=\"#DejaVuSans-74\" x=\"309.164062\"/>\n      <use xlink:href=\"#DejaVuSans-73\" x=\"348.373047\"/>\n      <use xlink:href=\"#DejaVuSans-20\" x=\"400.472656\"/>\n      <use xlink:href=\"#DejaVuSans-56\" x=\"432.259766\"/>\n      <use xlink:href=\"#DejaVuSans-61\" x=\"492.917969\"/>\n      <use xlink:href=\"#DejaVuSans-6c\" x=\"554.197266\"/>\n      <use xlink:href=\"#DejaVuSans-75\" x=\"581.980469\"/>\n      <use xlink:href=\"#DejaVuSans-65\" x=\"645.359375\"/>\n      <use xlink:href=\"#DejaVuSans-73\" x=\"706.882812\"/>\n     </g>\n    </g>\n   </g>\n   <g id=\"matplotlib.axis_12\">\n    <g id=\"ytick_36\">\n     <g id=\"line2d_65\">\n      <g>\n       <use xlink:href=\"#m2513a9dab9\" x=\"620.488955\" y=\"529.72\" style=\"stroke: #000000; stroke-width: 0.8\"/>\n      </g>\n     </g>\n     <g id=\"text_81\">\n      <!-- 0 -->\n      <g transform=\"translate(607.126455 533.519219) scale(0.1 -0.1)\">\n       <use xlink:href=\"#DejaVuSans-30\"/>\n      </g>\n     </g>\n    </g>\n    <g id=\"ytick_37\">\n     <g id=\"line2d_66\">\n      <g>\n       <use xlink:href=\"#m2513a9dab9\" x=\"620.488955\" y=\"478.982537\" style=\"stroke: #000000; stroke-width: 0.8\"/>\n      </g>\n     </g>\n     <g id=\"text_82\">\n      <!-- 500 -->\n      <g transform=\"translate(594.401455 482.781756) scale(0.1 -0.1)\">\n       <use xlink:href=\"#DejaVuSans-35\"/>\n       <use xlink:href=\"#DejaVuSans-30\" x=\"63.623047\"/>\n       <use xlink:href=\"#DejaVuSans-30\" x=\"127.246094\"/>\n      </g>\n     </g>\n    </g>\n    <g id=\"ytick_38\">\n     <g id=\"line2d_67\">\n      <g>\n       <use xlink:href=\"#m2513a9dab9\" x=\"620.488955\" y=\"428.245074\" style=\"stroke: #000000; stroke-width: 0.8\"/>\n      </g>\n     </g>\n     <g id=\"text_83\">\n      <!-- 1000 -->\n      <g transform=\"translate(588.038955 432.044292) scale(0.1 -0.1)\">\n       <use xlink:href=\"#DejaVuSans-31\"/>\n       <use xlink:href=\"#DejaVuSans-30\" x=\"63.623047\"/>\n       <use xlink:href=\"#DejaVuSans-30\" x=\"127.246094\"/>\n       <use xlink:href=\"#DejaVuSans-30\" x=\"190.869141\"/>\n      </g>\n     </g>\n    </g>\n    <g id=\"ytick_39\">\n     <g id=\"line2d_68\">\n      <g>\n       <use xlink:href=\"#m2513a9dab9\" x=\"620.488955\" y=\"377.507611\" style=\"stroke: #000000; stroke-width: 0.8\"/>\n      </g>\n     </g>\n     <g id=\"text_84\">\n      <!-- 1500 -->\n      <g transform=\"translate(588.038955 381.306829) scale(0.1 -0.1)\">\n       <use xlink:href=\"#DejaVuSans-31\"/>\n       <use xlink:href=\"#DejaVuSans-35\" x=\"63.623047\"/>\n       <use xlink:href=\"#DejaVuSans-30\" x=\"127.246094\"/>\n       <use xlink:href=\"#DejaVuSans-30\" x=\"190.869141\"/>\n      </g>\n     </g>\n    </g>\n    <g id=\"ytick_40\">\n     <g id=\"line2d_69\">\n      <g>\n       <use xlink:href=\"#m2513a9dab9\" x=\"620.488955\" y=\"326.770147\" style=\"stroke: #000000; stroke-width: 0.8\"/>\n      </g>\n     </g>\n     <g id=\"text_85\">\n      <!-- 2000 -->\n      <g transform=\"translate(588.038955 330.569366) scale(0.1 -0.1)\">\n       <use xlink:href=\"#DejaVuSans-32\"/>\n       <use xlink:href=\"#DejaVuSans-30\" x=\"63.623047\"/>\n       <use xlink:href=\"#DejaVuSans-30\" x=\"127.246094\"/>\n       <use xlink:href=\"#DejaVuSans-30\" x=\"190.869141\"/>\n      </g>\n     </g>\n    </g>\n    <g id=\"text_86\">\n     <!-- Frequency -->\n     <g transform=\"translate(581.959267 441.169688) rotate(-90) scale(0.1 -0.1)\">\n      <use xlink:href=\"#DejaVuSans-46\"/>\n      <use xlink:href=\"#DejaVuSans-72\" x=\"50.269531\"/>\n      <use xlink:href=\"#DejaVuSans-65\" x=\"89.132812\"/>\n      <use xlink:href=\"#DejaVuSans-71\" x=\"150.65625\"/>\n      <use xlink:href=\"#DejaVuSans-75\" x=\"214.132812\"/>\n      <use xlink:href=\"#DejaVuSans-65\" x=\"277.511719\"/>\n      <use xlink:href=\"#DejaVuSans-6e\" x=\"339.035156\"/>\n      <use xlink:href=\"#DejaVuSans-63\" x=\"402.414062\"/>\n      <use xlink:href=\"#DejaVuSans-79\" x=\"457.394531\"/>\n     </g>\n    </g>\n   </g>\n   <g id=\"patch_338\">\n    <path d=\"M 620.488955 529.72 \nL 620.488955 300.96 \n\" style=\"fill: none; stroke: #000000; stroke-width: 0.8; stroke-linejoin: miter; stroke-linecap: square\"/>\n   </g>\n   <g id=\"patch_339\">\n    <path d=\"M 846.89937 529.72 \nL 846.89937 300.96 \n\" style=\"fill: none; stroke: #000000; stroke-width: 0.8; stroke-linejoin: miter; stroke-linecap: square\"/>\n   </g>\n   <g id=\"patch_340\">\n    <path d=\"M 620.488955 529.72 \nL 846.89937 529.72 \n\" style=\"fill: none; stroke: #000000; stroke-width: 0.8; stroke-linejoin: miter; stroke-linecap: square\"/>\n   </g>\n   <g id=\"patch_341\">\n    <path d=\"M 620.488955 300.96 \nL 846.89937 300.96 \n\" style=\"fill: none; stroke: #000000; stroke-width: 0.8; stroke-linejoin: miter; stroke-linecap: square\"/>\n   </g>\n   <g id=\"legend_6\">\n    <g id=\"patch_342\">\n     <path d=\"M 730.625932 323.638125 \nL 839.89937 323.638125 \nQ 841.89937 323.638125 841.89937 321.638125 \nL 841.89937 307.96 \nQ 841.89937 305.96 839.89937 305.96 \nL 730.625932 305.96 \nQ 728.625932 305.96 728.625932 307.96 \nL 728.625932 321.638125 \nQ 728.625932 323.638125 730.625932 323.638125 \nz\n\" style=\"fill: #ffffff; opacity: 0.8; stroke: #cccccc; stroke-linejoin: miter\"/>\n    </g>\n    <g id=\"patch_343\">\n     <path d=\"M 732.625932 317.558437 \nL 752.625932 317.558437 \nL 752.625932 310.558437 \nL 732.625932 310.558437 \nz\n\" style=\"fill: #800080; opacity: 0.5\"/>\n    </g>\n    <g id=\"text_87\">\n     <!-- Lambda=100.0 -->\n     <g transform=\"translate(760.625932 317.558437) scale(0.1 -0.1)\">\n      <use xlink:href=\"#DejaVuSans-4c\"/>\n      <use xlink:href=\"#DejaVuSans-61\" x=\"55.712891\"/>\n      <use xlink:href=\"#DejaVuSans-6d\" x=\"116.992188\"/>\n      <use xlink:href=\"#DejaVuSans-62\" x=\"214.404297\"/>\n      <use xlink:href=\"#DejaVuSans-64\" x=\"277.880859\"/>\n      <use xlink:href=\"#DejaVuSans-61\" x=\"341.357422\"/>\n      <use xlink:href=\"#DejaVuSans-3d\" x=\"402.636719\"/>\n      <use xlink:href=\"#DejaVuSans-31\" x=\"486.425781\"/>\n      <use xlink:href=\"#DejaVuSans-30\" x=\"550.048828\"/>\n      <use xlink:href=\"#DejaVuSans-30\" x=\"613.671875\"/>\n      <use xlink:href=\"#DejaVuSans-2e\" x=\"677.294922\"/>\n      <use xlink:href=\"#DejaVuSans-30\" x=\"709.082031\"/>\n     </g>\n    </g>\n   </g>\n  </g>\n  <g id=\"text_88\">\n   <!-- Weights Distribution of Networks with Varied L1Lambda values -->\n   <g transform=\"translate(239.304375 16.318125) scale(0.12 -0.12)\">\n    <defs>\n     <path id=\"DejaVuSans-44\" d=\"M 1259 4147 \nL 1259 519 \nL 2022 519 \nQ 2988 519 3436 956 \nQ 3884 1394 3884 2338 \nQ 3884 3275 3436 3711 \nQ 2988 4147 2022 4147 \nL 1259 4147 \nz\nM 628 4666 \nL 1925 4666 \nQ 3281 4666 3915 4102 \nQ 4550 3538 4550 2338 \nQ 4550 1131 3912 565 \nQ 3275 0 1925 0 \nL 628 0 \nL 628 4666 \nz\n\" transform=\"scale(0.015625)\"/>\n     <path id=\"DejaVuSans-6f\" d=\"M 1959 3097 \nQ 1497 3097 1228 2736 \nQ 959 2375 959 1747 \nQ 959 1119 1226 758 \nQ 1494 397 1959 397 \nQ 2419 397 2687 759 \nQ 2956 1122 2956 1747 \nQ 2956 2369 2687 2733 \nQ 2419 3097 1959 3097 \nz\nM 1959 3584 \nQ 2709 3584 3137 3096 \nQ 3566 2609 3566 1747 \nQ 3566 888 3137 398 \nQ 2709 -91 1959 -91 \nQ 1206 -91 779 398 \nQ 353 888 353 1747 \nQ 353 2609 779 3096 \nQ 1206 3584 1959 3584 \nz\n\" transform=\"scale(0.015625)\"/>\n     <path id=\"DejaVuSans-66\" d=\"M 2375 4863 \nL 2375 4384 \nL 1825 4384 \nQ 1516 4384 1395 4259 \nQ 1275 4134 1275 3809 \nL 1275 3500 \nL 2222 3500 \nL 2222 3053 \nL 1275 3053 \nL 1275 0 \nL 697 0 \nL 697 3053 \nL 147 3053 \nL 147 3500 \nL 697 3500 \nL 697 3744 \nQ 697 4328 969 4595 \nQ 1241 4863 1831 4863 \nL 2375 4863 \nz\n\" transform=\"scale(0.015625)\"/>\n     <path id=\"DejaVuSans-4e\" d=\"M 628 4666 \nL 1478 4666 \nL 3547 763 \nL 3547 4666 \nL 4159 4666 \nL 4159 0 \nL 3309 0 \nL 1241 3903 \nL 1241 0 \nL 628 0 \nL 628 4666 \nz\n\" transform=\"scale(0.015625)\"/>\n     <path id=\"DejaVuSans-77\" d=\"M 269 3500 \nL 844 3500 \nL 1563 769 \nL 2278 3500 \nL 2956 3500 \nL 3675 769 \nL 4391 3500 \nL 4966 3500 \nL 4050 0 \nL 3372 0 \nL 2619 2869 \nL 1863 0 \nL 1184 0 \nL 269 3500 \nz\n\" transform=\"scale(0.015625)\"/>\n     <path id=\"DejaVuSans-6b\" d=\"M 581 4863 \nL 1159 4863 \nL 1159 1991 \nL 2875 3500 \nL 3609 3500 \nL 1753 1863 \nL 3688 0 \nL 2938 0 \nL 1159 1709 \nL 1159 0 \nL 581 0 \nL 581 4863 \nz\n\" transform=\"scale(0.015625)\"/>\n     <path id=\"DejaVuSans-76\" d=\"M 191 3500 \nL 800 3500 \nL 1894 563 \nL 2988 3500 \nL 3597 3500 \nL 2284 0 \nL 1503 0 \nL 191 3500 \nz\n\" transform=\"scale(0.015625)\"/>\n    </defs>\n    <use xlink:href=\"#DejaVuSans-57\"/>\n    <use xlink:href=\"#DejaVuSans-65\" x=\"93.001953\"/>\n    <use xlink:href=\"#DejaVuSans-69\" x=\"154.525391\"/>\n    <use xlink:href=\"#DejaVuSans-67\" x=\"182.308594\"/>\n    <use xlink:href=\"#DejaVuSans-68\" x=\"245.785156\"/>\n    <use xlink:href=\"#DejaVuSans-74\" x=\"309.164062\"/>\n    <use xlink:href=\"#DejaVuSans-73\" x=\"348.373047\"/>\n    <use xlink:href=\"#DejaVuSans-20\" x=\"400.472656\"/>\n    <use xlink:href=\"#DejaVuSans-44\" x=\"432.259766\"/>\n    <use xlink:href=\"#DejaVuSans-69\" x=\"509.261719\"/>\n    <use xlink:href=\"#DejaVuSans-73\" x=\"537.044922\"/>\n    <use xlink:href=\"#DejaVuSans-74\" x=\"589.144531\"/>\n    <use xlink:href=\"#DejaVuSans-72\" x=\"628.353516\"/>\n    <use xlink:href=\"#DejaVuSans-69\" x=\"669.466797\"/>\n    <use xlink:href=\"#DejaVuSans-62\" x=\"697.25\"/>\n    <use xlink:href=\"#DejaVuSans-75\" x=\"760.726562\"/>\n    <use xlink:href=\"#DejaVuSans-74\" x=\"824.105469\"/>\n    <use xlink:href=\"#DejaVuSans-69\" x=\"863.314453\"/>\n    <use xlink:href=\"#DejaVuSans-6f\" x=\"891.097656\"/>\n    <use xlink:href=\"#DejaVuSans-6e\" x=\"952.279297\"/>\n    <use xlink:href=\"#DejaVuSans-20\" x=\"1015.658203\"/>\n    <use xlink:href=\"#DejaVuSans-6f\" x=\"1047.445312\"/>\n    <use xlink:href=\"#DejaVuSans-66\" x=\"1108.626953\"/>\n    <use xlink:href=\"#DejaVuSans-20\" x=\"1143.832031\"/>\n    <use xlink:href=\"#DejaVuSans-4e\" x=\"1175.619141\"/>\n    <use xlink:href=\"#DejaVuSans-65\" x=\"1250.423828\"/>\n    <use xlink:href=\"#DejaVuSans-74\" x=\"1311.947266\"/>\n    <use xlink:href=\"#DejaVuSans-77\" x=\"1351.15625\"/>\n    <use xlink:href=\"#DejaVuSans-6f\" x=\"1432.943359\"/>\n    <use xlink:href=\"#DejaVuSans-72\" x=\"1494.125\"/>\n    <use xlink:href=\"#DejaVuSans-6b\" x=\"1535.238281\"/>\n    <use xlink:href=\"#DejaVuSans-73\" x=\"1593.148438\"/>\n    <use xlink:href=\"#DejaVuSans-20\" x=\"1645.248047\"/>\n    <use xlink:href=\"#DejaVuSans-77\" x=\"1677.035156\"/>\n    <use xlink:href=\"#DejaVuSans-69\" x=\"1758.822266\"/>\n    <use xlink:href=\"#DejaVuSans-74\" x=\"1786.605469\"/>\n    <use xlink:href=\"#DejaVuSans-68\" x=\"1825.814453\"/>\n    <use xlink:href=\"#DejaVuSans-20\" x=\"1889.193359\"/>\n    <use xlink:href=\"#DejaVuSans-56\" x=\"1920.980469\"/>\n    <use xlink:href=\"#DejaVuSans-61\" x=\"1981.638672\"/>\n    <use xlink:href=\"#DejaVuSans-72\" x=\"2042.917969\"/>\n    <use xlink:href=\"#DejaVuSans-69\" x=\"2084.03125\"/>\n    <use xlink:href=\"#DejaVuSans-65\" x=\"2111.814453\"/>\n    <use xlink:href=\"#DejaVuSans-64\" x=\"2173.337891\"/>\n    <use xlink:href=\"#DejaVuSans-20\" x=\"2236.814453\"/>\n    <use xlink:href=\"#DejaVuSans-4c\" x=\"2268.601562\"/>\n    <use xlink:href=\"#DejaVuSans-31\" x=\"2324.314453\"/>\n    <use xlink:href=\"#DejaVuSans-4c\" x=\"2387.9375\"/>\n    <use xlink:href=\"#DejaVuSans-61\" x=\"2443.650391\"/>\n    <use xlink:href=\"#DejaVuSans-6d\" x=\"2504.929688\"/>\n    <use xlink:href=\"#DejaVuSans-62\" x=\"2602.341797\"/>\n    <use xlink:href=\"#DejaVuSans-64\" x=\"2665.818359\"/>\n    <use xlink:href=\"#DejaVuSans-61\" x=\"2729.294922\"/>\n    <use xlink:href=\"#DejaVuSans-20\" x=\"2790.574219\"/>\n    <use xlink:href=\"#DejaVuSans-76\" x=\"2822.361328\"/>\n    <use xlink:href=\"#DejaVuSans-61\" x=\"2881.541016\"/>\n    <use xlink:href=\"#DejaVuSans-6c\" x=\"2942.820312\"/>\n    <use xlink:href=\"#DejaVuSans-75\" x=\"2970.603516\"/>\n    <use xlink:href=\"#DejaVuSans-65\" x=\"3033.982422\"/>\n    <use xlink:href=\"#DejaVuSans-73\" x=\"3095.505859\"/>\n   </g>\n  </g>\n </g>\n <defs>\n  <clipPath id=\"pf2d91af4c4\">\n   <rect x=\"53.328125\" y=\"30.24\" width=\"226.410415\" height=\"228.76\"/>\n  </clipPath>\n  <clipPath id=\"p3d3887c857\">\n   <rect x=\"336.90854\" y=\"30.24\" width=\"226.410415\" height=\"228.76\"/>\n  </clipPath>\n  <clipPath id=\"p0d4a67afbf\">\n   <rect x=\"620.488955\" y=\"30.24\" width=\"226.410415\" height=\"228.76\"/>\n  </clipPath>\n  <clipPath id=\"p52d9b90177\">\n   <rect x=\"53.328125\" y=\"300.96\" width=\"226.410415\" height=\"228.76\"/>\n  </clipPath>\n  <clipPath id=\"p109d8a0e27\">\n   <rect x=\"336.90854\" y=\"300.96\" width=\"226.410415\" height=\"228.76\"/>\n  </clipPath>\n  <clipPath id=\"p568fa15daa\">\n   <rect x=\"620.488955\" y=\"300.96\" width=\"226.410415\" height=\"228.76\"/>\n  </clipPath>\n </defs>\n</svg>\n"
          },
          "metadata": {}
        }
      ]
    },
    {
      "cell_type": "markdown",
      "source": [
        "- L1 regularization has a very small  effect on the distribution of our weights below a lambda value of 1.0.\n",
        "- As lambda increases, weights cluster increasingly around 0.\n",
        "- Train and dev accuracy largely isn't affected by lambda values investigated"
      ],
      "metadata": {
        "id": "KljrC5y-aG7B"
      }
    },
    {
      "cell_type": "markdown",
      "source": [
        "# Estimate Feature Importance"
      ],
      "metadata": {
        "id": "rMom3YSKedco"
      }
    },
    {
      "cell_type": "markdown",
      "source": [
        "I will investigate a couple of different ways to determine feature importance. I'd like to determine which genes have the greatest effect on classification in the network.\n",
        "- Sum weights from input layer to first hidden layer per input neuron. The neurons with the highest sums of connection weights are not necessarily the most important, given that they are further transformed in the hidden layers. However, this is an interesting way to get at feature importance without any complex analysis. This may point to genes that should be further investigated.\n",
        "- Methodically shuffle columns, and see which shuffled column has the biggest effect on network accuracy. This is computationally expensive."
      ],
      "metadata": {
        "id": "VhGSKSQibDL7"
      }
    },
    {
      "cell_type": "code",
      "source": [
        "# retrain our model with our choice of L1 Lambda\n",
        "trainAcc,devAcc,losses,net = function2trainTheModel(.01) #specify L1Lambda"
      ],
      "metadata": {
        "colab": {
          "base_uri": "https://localhost:8080/"
        },
        "id": "v-DwUW23lISk",
        "outputId": "0965fe89-389c-4c33-cc6d-e1ed84d919d5"
      },
      "execution_count": null,
      "outputs": [
        {
          "output_type": "stream",
          "name": "stdout",
          "text": [
            "Finished epoch 25/25"
          ]
        }
      ]
    },
    {
      "cell_type": "code",
      "source": [
        "fig,ax = plt.subplots(1,2,figsize=(16,5))\n",
        "\n",
        "ax[0].plot(losses)\n",
        "ax[0].set_xlabel('Epochs')\n",
        "ax[0].set_ylabel('Loss')\n",
        "ax[0].set_ylim([0,3])\n",
        "ax[0].set_title('Model loss')\n",
        "\n",
        "ax[1].plot(trainAcc,label='Train')\n",
        "ax[1].plot(devAcc,label='Dev Set')\n",
        "ax[1].set_xlabel('Epochs')\n",
        "ax[1].set_ylabel('Accuracy (%)')\n",
        "ax[1].set_ylim([10,100])\n",
        "ax[1].set_title(f'Final model dev set accuracy: {devAcc[-1]:.2f}%')\n",
        "ax[1].legend()\n",
        "\n",
        "plt.show()"
      ],
      "metadata": {
        "colab": {
          "base_uri": "https://localhost:8080/",
          "height": 470
        },
        "id": "t31wKgwihtvw",
        "outputId": "de3743bd-d927-4cfa-9869-243f9b21f687"
      },
      "execution_count": null,
      "outputs": [
        {
          "output_type": "display_data",
          "data": {
            "text/plain": [
              "<Figure size 1600x500 with 2 Axes>"
            ],
            "image/svg+xml": "<?xml version=\"1.0\" encoding=\"utf-8\" standalone=\"no\"?>\n<!DOCTYPE svg PUBLIC \"-//W3C//DTD SVG 1.1//EN\"\n  \"http://www.w3.org/Graphics/SVG/1.1/DTD/svg11.dtd\">\n<svg xmlns:xlink=\"http://www.w3.org/1999/xlink\" width=\"947.06937pt\" height=\"337.074375pt\" viewBox=\"0 0 947.06937 337.074375\" xmlns=\"http://www.w3.org/2000/svg\" version=\"1.1\">\n <metadata>\n  <rdf:RDF xmlns:dc=\"http://purl.org/dc/elements/1.1/\" xmlns:cc=\"http://creativecommons.org/ns#\" xmlns:rdf=\"http://www.w3.org/1999/02/22-rdf-syntax-ns#\">\n   <cc:Work>\n    <dc:type rdf:resource=\"http://purl.org/dc/dcmitype/StillImage\"/>\n    <dc:date>2023-12-12T12:55:12.515699</dc:date>\n    <dc:format>image/svg+xml</dc:format>\n    <dc:creator>\n     <cc:Agent>\n      <dc:title>Matplotlib v3.7.1, https://matplotlib.org/</dc:title>\n     </cc:Agent>\n    </dc:creator>\n   </cc:Work>\n  </rdf:RDF>\n </metadata>\n <defs>\n  <style type=\"text/css\">*{stroke-linejoin: round; stroke-linecap: butt}</style>\n </defs>\n <g id=\"figure_1\">\n  <g id=\"patch_1\">\n   <path d=\"M 0 337.074375 \nL 947.06937 337.074375 \nL 947.06937 0 \nL 0 0 \nz\n\" style=\"fill: #ffffff\"/>\n  </g>\n  <g id=\"axes_1\">\n   <g id=\"patch_2\">\n    <path d=\"M 43.78125 299.518125 \nL 449.599432 299.518125 \nL 449.599432 22.318125 \nL 43.78125 22.318125 \nz\n\" style=\"fill: #ffffff\"/>\n   </g>\n   <g id=\"matplotlib.axis_1\">\n    <g id=\"xtick_1\">\n     <g id=\"line2d_1\">\n      <defs>\n       <path id=\"mf36b87b8e8\" d=\"M 0 0 \nL 0 3.5 \n\" style=\"stroke: #000000; stroke-width: 0.8\"/>\n      </defs>\n      <g>\n       <use xlink:href=\"#mf36b87b8e8\" x=\"62.227531\" y=\"299.518125\" style=\"stroke: #000000; stroke-width: 0.8\"/>\n      </g>\n     </g>\n     <g id=\"text_1\">\n      <!-- 0 -->\n      <g transform=\"translate(59.046281 314.116563) scale(0.1 -0.1)\">\n       <defs>\n        <path id=\"DejaVuSans-30\" d=\"M 2034 4250 \nQ 1547 4250 1301 3770 \nQ 1056 3291 1056 2328 \nQ 1056 1369 1301 889 \nQ 1547 409 2034 409 \nQ 2525 409 2770 889 \nQ 3016 1369 3016 2328 \nQ 3016 3291 2770 3770 \nQ 2525 4250 2034 4250 \nz\nM 2034 4750 \nQ 2819 4750 3233 4129 \nQ 3647 3509 3647 2328 \nQ 3647 1150 3233 529 \nQ 2819 -91 2034 -91 \nQ 1250 -91 836 529 \nQ 422 1150 422 2328 \nQ 422 3509 836 4129 \nQ 1250 4750 2034 4750 \nz\n\" transform=\"scale(0.015625)\"/>\n       </defs>\n       <use xlink:href=\"#DejaVuSans-30\"/>\n      </g>\n     </g>\n    </g>\n    <g id=\"xtick_2\">\n     <g id=\"line2d_2\">\n      <g>\n       <use xlink:href=\"#mf36b87b8e8\" x=\"139.087035\" y=\"299.518125\" style=\"stroke: #000000; stroke-width: 0.8\"/>\n      </g>\n     </g>\n     <g id=\"text_2\">\n      <!-- 5 -->\n      <g transform=\"translate(135.905785 314.116563) scale(0.1 -0.1)\">\n       <defs>\n        <path id=\"DejaVuSans-35\" d=\"M 691 4666 \nL 3169 4666 \nL 3169 4134 \nL 1269 4134 \nL 1269 2991 \nQ 1406 3038 1543 3061 \nQ 1681 3084 1819 3084 \nQ 2600 3084 3056 2656 \nQ 3513 2228 3513 1497 \nQ 3513 744 3044 326 \nQ 2575 -91 1722 -91 \nQ 1428 -91 1123 -41 \nQ 819 9 494 109 \nL 494 744 \nQ 775 591 1075 516 \nQ 1375 441 1709 441 \nQ 2250 441 2565 725 \nQ 2881 1009 2881 1497 \nQ 2881 1984 2565 2268 \nQ 2250 2553 1709 2553 \nQ 1456 2553 1204 2497 \nQ 953 2441 691 2322 \nL 691 4666 \nz\n\" transform=\"scale(0.015625)\"/>\n       </defs>\n       <use xlink:href=\"#DejaVuSans-35\"/>\n      </g>\n     </g>\n    </g>\n    <g id=\"xtick_3\">\n     <g id=\"line2d_3\">\n      <g>\n       <use xlink:href=\"#mf36b87b8e8\" x=\"215.946539\" y=\"299.518125\" style=\"stroke: #000000; stroke-width: 0.8\"/>\n      </g>\n     </g>\n     <g id=\"text_3\">\n      <!-- 10 -->\n      <g transform=\"translate(209.584039 314.116563) scale(0.1 -0.1)\">\n       <defs>\n        <path id=\"DejaVuSans-31\" d=\"M 794 531 \nL 1825 531 \nL 1825 4091 \nL 703 3866 \nL 703 4441 \nL 1819 4666 \nL 2450 4666 \nL 2450 531 \nL 3481 531 \nL 3481 0 \nL 794 0 \nL 794 531 \nz\n\" transform=\"scale(0.015625)\"/>\n       </defs>\n       <use xlink:href=\"#DejaVuSans-31\"/>\n       <use xlink:href=\"#DejaVuSans-30\" x=\"63.623047\"/>\n      </g>\n     </g>\n    </g>\n    <g id=\"xtick_4\">\n     <g id=\"line2d_4\">\n      <g>\n       <use xlink:href=\"#mf36b87b8e8\" x=\"292.806043\" y=\"299.518125\" style=\"stroke: #000000; stroke-width: 0.8\"/>\n      </g>\n     </g>\n     <g id=\"text_4\">\n      <!-- 15 -->\n      <g transform=\"translate(286.443543 314.116563) scale(0.1 -0.1)\">\n       <use xlink:href=\"#DejaVuSans-31\"/>\n       <use xlink:href=\"#DejaVuSans-35\" x=\"63.623047\"/>\n      </g>\n     </g>\n    </g>\n    <g id=\"xtick_5\">\n     <g id=\"line2d_5\">\n      <g>\n       <use xlink:href=\"#mf36b87b8e8\" x=\"369.665548\" y=\"299.518125\" style=\"stroke: #000000; stroke-width: 0.8\"/>\n      </g>\n     </g>\n     <g id=\"text_5\">\n      <!-- 20 -->\n      <g transform=\"translate(363.303048 314.116563) scale(0.1 -0.1)\">\n       <defs>\n        <path id=\"DejaVuSans-32\" d=\"M 1228 531 \nL 3431 531 \nL 3431 0 \nL 469 0 \nL 469 531 \nQ 828 903 1448 1529 \nQ 2069 2156 2228 2338 \nQ 2531 2678 2651 2914 \nQ 2772 3150 2772 3378 \nQ 2772 3750 2511 3984 \nQ 2250 4219 1831 4219 \nQ 1534 4219 1204 4116 \nQ 875 4013 500 3803 \nL 500 4441 \nQ 881 4594 1212 4672 \nQ 1544 4750 1819 4750 \nQ 2544 4750 2975 4387 \nQ 3406 4025 3406 3419 \nQ 3406 3131 3298 2873 \nQ 3191 2616 2906 2266 \nQ 2828 2175 2409 1742 \nQ 1991 1309 1228 531 \nz\n\" transform=\"scale(0.015625)\"/>\n       </defs>\n       <use xlink:href=\"#DejaVuSans-32\"/>\n       <use xlink:href=\"#DejaVuSans-30\" x=\"63.623047\"/>\n      </g>\n     </g>\n    </g>\n    <g id=\"xtick_6\">\n     <g id=\"line2d_6\">\n      <g>\n       <use xlink:href=\"#mf36b87b8e8\" x=\"446.525052\" y=\"299.518125\" style=\"stroke: #000000; stroke-width: 0.8\"/>\n      </g>\n     </g>\n     <g id=\"text_6\">\n      <!-- 25 -->\n      <g transform=\"translate(440.162552 314.116563) scale(0.1 -0.1)\">\n       <use xlink:href=\"#DejaVuSans-32\"/>\n       <use xlink:href=\"#DejaVuSans-35\" x=\"63.623047\"/>\n      </g>\n     </g>\n    </g>\n    <g id=\"text_7\">\n     <!-- Epochs -->\n     <g transform=\"translate(228.774716 327.794688) scale(0.1 -0.1)\">\n      <defs>\n       <path id=\"DejaVuSans-45\" d=\"M 628 4666 \nL 3578 4666 \nL 3578 4134 \nL 1259 4134 \nL 1259 2753 \nL 3481 2753 \nL 3481 2222 \nL 1259 2222 \nL 1259 531 \nL 3634 531 \nL 3634 0 \nL 628 0 \nL 628 4666 \nz\n\" transform=\"scale(0.015625)\"/>\n       <path id=\"DejaVuSans-70\" d=\"M 1159 525 \nL 1159 -1331 \nL 581 -1331 \nL 581 3500 \nL 1159 3500 \nL 1159 2969 \nQ 1341 3281 1617 3432 \nQ 1894 3584 2278 3584 \nQ 2916 3584 3314 3078 \nQ 3713 2572 3713 1747 \nQ 3713 922 3314 415 \nQ 2916 -91 2278 -91 \nQ 1894 -91 1617 61 \nQ 1341 213 1159 525 \nz\nM 3116 1747 \nQ 3116 2381 2855 2742 \nQ 2594 3103 2138 3103 \nQ 1681 3103 1420 2742 \nQ 1159 2381 1159 1747 \nQ 1159 1113 1420 752 \nQ 1681 391 2138 391 \nQ 2594 391 2855 752 \nQ 3116 1113 3116 1747 \nz\n\" transform=\"scale(0.015625)\"/>\n       <path id=\"DejaVuSans-6f\" d=\"M 1959 3097 \nQ 1497 3097 1228 2736 \nQ 959 2375 959 1747 \nQ 959 1119 1226 758 \nQ 1494 397 1959 397 \nQ 2419 397 2687 759 \nQ 2956 1122 2956 1747 \nQ 2956 2369 2687 2733 \nQ 2419 3097 1959 3097 \nz\nM 1959 3584 \nQ 2709 3584 3137 3096 \nQ 3566 2609 3566 1747 \nQ 3566 888 3137 398 \nQ 2709 -91 1959 -91 \nQ 1206 -91 779 398 \nQ 353 888 353 1747 \nQ 353 2609 779 3096 \nQ 1206 3584 1959 3584 \nz\n\" transform=\"scale(0.015625)\"/>\n       <path id=\"DejaVuSans-63\" d=\"M 3122 3366 \nL 3122 2828 \nQ 2878 2963 2633 3030 \nQ 2388 3097 2138 3097 \nQ 1578 3097 1268 2742 \nQ 959 2388 959 1747 \nQ 959 1106 1268 751 \nQ 1578 397 2138 397 \nQ 2388 397 2633 464 \nQ 2878 531 3122 666 \nL 3122 134 \nQ 2881 22 2623 -34 \nQ 2366 -91 2075 -91 \nQ 1284 -91 818 406 \nQ 353 903 353 1747 \nQ 353 2603 823 3093 \nQ 1294 3584 2113 3584 \nQ 2378 3584 2631 3529 \nQ 2884 3475 3122 3366 \nz\n\" transform=\"scale(0.015625)\"/>\n       <path id=\"DejaVuSans-68\" d=\"M 3513 2113 \nL 3513 0 \nL 2938 0 \nL 2938 2094 \nQ 2938 2591 2744 2837 \nQ 2550 3084 2163 3084 \nQ 1697 3084 1428 2787 \nQ 1159 2491 1159 1978 \nL 1159 0 \nL 581 0 \nL 581 4863 \nL 1159 4863 \nL 1159 2956 \nQ 1366 3272 1645 3428 \nQ 1925 3584 2291 3584 \nQ 2894 3584 3203 3211 \nQ 3513 2838 3513 2113 \nz\n\" transform=\"scale(0.015625)\"/>\n       <path id=\"DejaVuSans-73\" d=\"M 2834 3397 \nL 2834 2853 \nQ 2591 2978 2328 3040 \nQ 2066 3103 1784 3103 \nQ 1356 3103 1142 2972 \nQ 928 2841 928 2578 \nQ 928 2378 1081 2264 \nQ 1234 2150 1697 2047 \nL 1894 2003 \nQ 2506 1872 2764 1633 \nQ 3022 1394 3022 966 \nQ 3022 478 2636 193 \nQ 2250 -91 1575 -91 \nQ 1294 -91 989 -36 \nQ 684 19 347 128 \nL 347 722 \nQ 666 556 975 473 \nQ 1284 391 1588 391 \nQ 1994 391 2212 530 \nQ 2431 669 2431 922 \nQ 2431 1156 2273 1281 \nQ 2116 1406 1581 1522 \nL 1381 1569 \nQ 847 1681 609 1914 \nQ 372 2147 372 2553 \nQ 372 3047 722 3315 \nQ 1072 3584 1716 3584 \nQ 2034 3584 2315 3537 \nQ 2597 3491 2834 3397 \nz\n\" transform=\"scale(0.015625)\"/>\n      </defs>\n      <use xlink:href=\"#DejaVuSans-45\"/>\n      <use xlink:href=\"#DejaVuSans-70\" x=\"63.183594\"/>\n      <use xlink:href=\"#DejaVuSans-6f\" x=\"126.660156\"/>\n      <use xlink:href=\"#DejaVuSans-63\" x=\"187.841797\"/>\n      <use xlink:href=\"#DejaVuSans-68\" x=\"242.822266\"/>\n      <use xlink:href=\"#DejaVuSans-73\" x=\"306.201172\"/>\n     </g>\n    </g>\n   </g>\n   <g id=\"matplotlib.axis_2\">\n    <g id=\"ytick_1\">\n     <g id=\"line2d_7\">\n      <defs>\n       <path id=\"m397de6a319\" d=\"M 0 0 \nL -3.5 0 \n\" style=\"stroke: #000000; stroke-width: 0.8\"/>\n      </defs>\n      <g>\n       <use xlink:href=\"#m397de6a319\" x=\"43.78125\" y=\"299.518125\" style=\"stroke: #000000; stroke-width: 0.8\"/>\n      </g>\n     </g>\n     <g id=\"text_8\">\n      <!-- 0.0 -->\n      <g transform=\"translate(20.878125 303.317344) scale(0.1 -0.1)\">\n       <defs>\n        <path id=\"DejaVuSans-2e\" d=\"M 684 794 \nL 1344 794 \nL 1344 0 \nL 684 0 \nL 684 794 \nz\n\" transform=\"scale(0.015625)\"/>\n       </defs>\n       <use xlink:href=\"#DejaVuSans-30\"/>\n       <use xlink:href=\"#DejaVuSans-2e\" x=\"63.623047\"/>\n       <use xlink:href=\"#DejaVuSans-30\" x=\"95.410156\"/>\n      </g>\n     </g>\n    </g>\n    <g id=\"ytick_2\">\n     <g id=\"line2d_8\">\n      <g>\n       <use xlink:href=\"#m397de6a319\" x=\"43.78125\" y=\"253.318125\" style=\"stroke: #000000; stroke-width: 0.8\"/>\n      </g>\n     </g>\n     <g id=\"text_9\">\n      <!-- 0.5 -->\n      <g transform=\"translate(20.878125 257.117344) scale(0.1 -0.1)\">\n       <use xlink:href=\"#DejaVuSans-30\"/>\n       <use xlink:href=\"#DejaVuSans-2e\" x=\"63.623047\"/>\n       <use xlink:href=\"#DejaVuSans-35\" x=\"95.410156\"/>\n      </g>\n     </g>\n    </g>\n    <g id=\"ytick_3\">\n     <g id=\"line2d_9\">\n      <g>\n       <use xlink:href=\"#m397de6a319\" x=\"43.78125\" y=\"207.118125\" style=\"stroke: #000000; stroke-width: 0.8\"/>\n      </g>\n     </g>\n     <g id=\"text_10\">\n      <!-- 1.0 -->\n      <g transform=\"translate(20.878125 210.917344) scale(0.1 -0.1)\">\n       <use xlink:href=\"#DejaVuSans-31\"/>\n       <use xlink:href=\"#DejaVuSans-2e\" x=\"63.623047\"/>\n       <use xlink:href=\"#DejaVuSans-30\" x=\"95.410156\"/>\n      </g>\n     </g>\n    </g>\n    <g id=\"ytick_4\">\n     <g id=\"line2d_10\">\n      <g>\n       <use xlink:href=\"#m397de6a319\" x=\"43.78125\" y=\"160.918125\" style=\"stroke: #000000; stroke-width: 0.8\"/>\n      </g>\n     </g>\n     <g id=\"text_11\">\n      <!-- 1.5 -->\n      <g transform=\"translate(20.878125 164.717344) scale(0.1 -0.1)\">\n       <use xlink:href=\"#DejaVuSans-31\"/>\n       <use xlink:href=\"#DejaVuSans-2e\" x=\"63.623047\"/>\n       <use xlink:href=\"#DejaVuSans-35\" x=\"95.410156\"/>\n      </g>\n     </g>\n    </g>\n    <g id=\"ytick_5\">\n     <g id=\"line2d_11\">\n      <g>\n       <use xlink:href=\"#m397de6a319\" x=\"43.78125\" y=\"114.718125\" style=\"stroke: #000000; stroke-width: 0.8\"/>\n      </g>\n     </g>\n     <g id=\"text_12\">\n      <!-- 2.0 -->\n      <g transform=\"translate(20.878125 118.517344) scale(0.1 -0.1)\">\n       <use xlink:href=\"#DejaVuSans-32\"/>\n       <use xlink:href=\"#DejaVuSans-2e\" x=\"63.623047\"/>\n       <use xlink:href=\"#DejaVuSans-30\" x=\"95.410156\"/>\n      </g>\n     </g>\n    </g>\n    <g id=\"ytick_6\">\n     <g id=\"line2d_12\">\n      <g>\n       <use xlink:href=\"#m397de6a319\" x=\"43.78125\" y=\"68.518125\" style=\"stroke: #000000; stroke-width: 0.8\"/>\n      </g>\n     </g>\n     <g id=\"text_13\">\n      <!-- 2.5 -->\n      <g transform=\"translate(20.878125 72.317344) scale(0.1 -0.1)\">\n       <use xlink:href=\"#DejaVuSans-32\"/>\n       <use xlink:href=\"#DejaVuSans-2e\" x=\"63.623047\"/>\n       <use xlink:href=\"#DejaVuSans-35\" x=\"95.410156\"/>\n      </g>\n     </g>\n    </g>\n    <g id=\"ytick_7\">\n     <g id=\"line2d_13\">\n      <g>\n       <use xlink:href=\"#m397de6a319\" x=\"43.78125\" y=\"22.318125\" style=\"stroke: #000000; stroke-width: 0.8\"/>\n      </g>\n     </g>\n     <g id=\"text_14\">\n      <!-- 3.0 -->\n      <g transform=\"translate(20.878125 26.117344) scale(0.1 -0.1)\">\n       <defs>\n        <path id=\"DejaVuSans-33\" d=\"M 2597 2516 \nQ 3050 2419 3304 2112 \nQ 3559 1806 3559 1356 \nQ 3559 666 3084 287 \nQ 2609 -91 1734 -91 \nQ 1441 -91 1130 -33 \nQ 819 25 488 141 \nL 488 750 \nQ 750 597 1062 519 \nQ 1375 441 1716 441 \nQ 2309 441 2620 675 \nQ 2931 909 2931 1356 \nQ 2931 1769 2642 2001 \nQ 2353 2234 1838 2234 \nL 1294 2234 \nL 1294 2753 \nL 1863 2753 \nQ 2328 2753 2575 2939 \nQ 2822 3125 2822 3475 \nQ 2822 3834 2567 4026 \nQ 2313 4219 1838 4219 \nQ 1578 4219 1281 4162 \nQ 984 4106 628 3988 \nL 628 4550 \nQ 988 4650 1302 4700 \nQ 1616 4750 1894 4750 \nQ 2613 4750 3031 4423 \nQ 3450 4097 3450 3541 \nQ 3450 3153 3228 2886 \nQ 3006 2619 2597 2516 \nz\n\" transform=\"scale(0.015625)\"/>\n       </defs>\n       <use xlink:href=\"#DejaVuSans-33\"/>\n       <use xlink:href=\"#DejaVuSans-2e\" x=\"63.623047\"/>\n       <use xlink:href=\"#DejaVuSans-30\" x=\"95.410156\"/>\n      </g>\n     </g>\n    </g>\n    <g id=\"text_15\">\n     <!-- Loss -->\n     <g transform=\"translate(14.798438 171.885313) rotate(-90) scale(0.1 -0.1)\">\n      <defs>\n       <path id=\"DejaVuSans-4c\" d=\"M 628 4666 \nL 1259 4666 \nL 1259 531 \nL 3531 531 \nL 3531 0 \nL 628 0 \nL 628 4666 \nz\n\" transform=\"scale(0.015625)\"/>\n      </defs>\n      <use xlink:href=\"#DejaVuSans-4c\"/>\n      <use xlink:href=\"#DejaVuSans-6f\" x=\"53.962891\"/>\n      <use xlink:href=\"#DejaVuSans-73\" x=\"115.144531\"/>\n      <use xlink:href=\"#DejaVuSans-73\" x=\"167.244141\"/>\n     </g>\n    </g>\n   </g>\n   <g id=\"line2d_14\">\n    <path d=\"M 62.227531 226.489756 \nL 77.599432 263.52756 \nL 92.971333 281.878185 \nL 108.343233 291.084743 \nL 123.715134 294.713617 \nL 139.087035 296.637262 \nL 154.458936 297.487237 \nL 169.830837 297.997 \nL 185.202738 298.216612 \nL 200.574638 298.622864 \nL 215.946539 298.698203 \nL 231.31844 298.846399 \nL 246.690341 298.948887 \nL 262.062242 299.049606 \nL 277.434143 299.108073 \nL 292.806043 299.16741 \nL 308.177944 299.182996 \nL 323.549845 299.225614 \nL 338.921746 299.286537 \nL 354.293647 299.222657 \nL 369.665548 299.296532 \nL 385.037448 299.29427 \nL 400.409349 299.339739 \nL 415.78125 299.349379 \nL 431.153151 299.35439 \n\" clip-path=\"url(#pe442de650c)\" style=\"fill: none; stroke: #1f77b4; stroke-width: 1.5; stroke-linecap: square\"/>\n   </g>\n   <g id=\"patch_3\">\n    <path d=\"M 43.78125 299.518125 \nL 43.78125 22.318125 \n\" style=\"fill: none; stroke: #000000; stroke-width: 0.8; stroke-linejoin: miter; stroke-linecap: square\"/>\n   </g>\n   <g id=\"patch_4\">\n    <path d=\"M 449.599432 299.518125 \nL 449.599432 22.318125 \n\" style=\"fill: none; stroke: #000000; stroke-width: 0.8; stroke-linejoin: miter; stroke-linecap: square\"/>\n   </g>\n   <g id=\"patch_5\">\n    <path d=\"M 43.78125 299.518125 \nL 449.599432 299.518125 \n\" style=\"fill: none; stroke: #000000; stroke-width: 0.8; stroke-linejoin: miter; stroke-linecap: square\"/>\n   </g>\n   <g id=\"patch_6\">\n    <path d=\"M 43.78125 22.318125 \nL 449.599432 22.318125 \n\" style=\"fill: none; stroke: #000000; stroke-width: 0.8; stroke-linejoin: miter; stroke-linecap: square\"/>\n   </g>\n   <g id=\"text_16\">\n    <!-- Model loss -->\n    <g transform=\"translate(215.178153 16.318125) scale(0.12 -0.12)\">\n     <defs>\n      <path id=\"DejaVuSans-4d\" d=\"M 628 4666 \nL 1569 4666 \nL 2759 1491 \nL 3956 4666 \nL 4897 4666 \nL 4897 0 \nL 4281 0 \nL 4281 4097 \nL 3078 897 \nL 2444 897 \nL 1241 4097 \nL 1241 0 \nL 628 0 \nL 628 4666 \nz\n\" transform=\"scale(0.015625)\"/>\n      <path id=\"DejaVuSans-64\" d=\"M 2906 2969 \nL 2906 4863 \nL 3481 4863 \nL 3481 0 \nL 2906 0 \nL 2906 525 \nQ 2725 213 2448 61 \nQ 2172 -91 1784 -91 \nQ 1150 -91 751 415 \nQ 353 922 353 1747 \nQ 353 2572 751 3078 \nQ 1150 3584 1784 3584 \nQ 2172 3584 2448 3432 \nQ 2725 3281 2906 2969 \nz\nM 947 1747 \nQ 947 1113 1208 752 \nQ 1469 391 1925 391 \nQ 2381 391 2643 752 \nQ 2906 1113 2906 1747 \nQ 2906 2381 2643 2742 \nQ 2381 3103 1925 3103 \nQ 1469 3103 1208 2742 \nQ 947 2381 947 1747 \nz\n\" transform=\"scale(0.015625)\"/>\n      <path id=\"DejaVuSans-65\" d=\"M 3597 1894 \nL 3597 1613 \nL 953 1613 \nQ 991 1019 1311 708 \nQ 1631 397 2203 397 \nQ 2534 397 2845 478 \nQ 3156 559 3463 722 \nL 3463 178 \nQ 3153 47 2828 -22 \nQ 2503 -91 2169 -91 \nQ 1331 -91 842 396 \nQ 353 884 353 1716 \nQ 353 2575 817 3079 \nQ 1281 3584 2069 3584 \nQ 2775 3584 3186 3129 \nQ 3597 2675 3597 1894 \nz\nM 3022 2063 \nQ 3016 2534 2758 2815 \nQ 2500 3097 2075 3097 \nQ 1594 3097 1305 2825 \nQ 1016 2553 972 2059 \nL 3022 2063 \nz\n\" transform=\"scale(0.015625)\"/>\n      <path id=\"DejaVuSans-6c\" d=\"M 603 4863 \nL 1178 4863 \nL 1178 0 \nL 603 0 \nL 603 4863 \nz\n\" transform=\"scale(0.015625)\"/>\n      <path id=\"DejaVuSans-20\" transform=\"scale(0.015625)\"/>\n     </defs>\n     <use xlink:href=\"#DejaVuSans-4d\"/>\n     <use xlink:href=\"#DejaVuSans-6f\" x=\"86.279297\"/>\n     <use xlink:href=\"#DejaVuSans-64\" x=\"147.460938\"/>\n     <use xlink:href=\"#DejaVuSans-65\" x=\"210.9375\"/>\n     <use xlink:href=\"#DejaVuSans-6c\" x=\"272.460938\"/>\n     <use xlink:href=\"#DejaVuSans-20\" x=\"300.244141\"/>\n     <use xlink:href=\"#DejaVuSans-6c\" x=\"332.03125\"/>\n     <use xlink:href=\"#DejaVuSans-6f\" x=\"359.814453\"/>\n     <use xlink:href=\"#DejaVuSans-73\" x=\"420.996094\"/>\n     <use xlink:href=\"#DejaVuSans-73\" x=\"473.095703\"/>\n    </g>\n   </g>\n  </g>\n  <g id=\"axes_2\">\n   <g id=\"patch_7\">\n    <path d=\"M 530.763068 299.518125 \nL 936.58125 299.518125 \nL 936.58125 22.318125 \nL 530.763068 22.318125 \nz\n\" style=\"fill: #ffffff\"/>\n   </g>\n   <g id=\"matplotlib.axis_3\">\n    <g id=\"xtick_7\">\n     <g id=\"line2d_15\">\n      <g>\n       <use xlink:href=\"#mf36b87b8e8\" x=\"549.209349\" y=\"299.518125\" style=\"stroke: #000000; stroke-width: 0.8\"/>\n      </g>\n     </g>\n     <g id=\"text_17\">\n      <!-- 0 -->\n      <g transform=\"translate(546.028099 314.116563) scale(0.1 -0.1)\">\n       <use xlink:href=\"#DejaVuSans-30\"/>\n      </g>\n     </g>\n    </g>\n    <g id=\"xtick_8\">\n     <g id=\"line2d_16\">\n      <g>\n       <use xlink:href=\"#mf36b87b8e8\" x=\"626.068853\" y=\"299.518125\" style=\"stroke: #000000; stroke-width: 0.8\"/>\n      </g>\n     </g>\n     <g id=\"text_18\">\n      <!-- 5 -->\n      <g transform=\"translate(622.887603 314.116563) scale(0.1 -0.1)\">\n       <use xlink:href=\"#DejaVuSans-35\"/>\n      </g>\n     </g>\n    </g>\n    <g id=\"xtick_9\">\n     <g id=\"line2d_17\">\n      <g>\n       <use xlink:href=\"#mf36b87b8e8\" x=\"702.928357\" y=\"299.518125\" style=\"stroke: #000000; stroke-width: 0.8\"/>\n      </g>\n     </g>\n     <g id=\"text_19\">\n      <!-- 10 -->\n      <g transform=\"translate(696.565857 314.116563) scale(0.1 -0.1)\">\n       <use xlink:href=\"#DejaVuSans-31\"/>\n       <use xlink:href=\"#DejaVuSans-30\" x=\"63.623047\"/>\n      </g>\n     </g>\n    </g>\n    <g id=\"xtick_10\">\n     <g id=\"line2d_18\">\n      <g>\n       <use xlink:href=\"#mf36b87b8e8\" x=\"779.787862\" y=\"299.518125\" style=\"stroke: #000000; stroke-width: 0.8\"/>\n      </g>\n     </g>\n     <g id=\"text_20\">\n      <!-- 15 -->\n      <g transform=\"translate(773.425362 314.116563) scale(0.1 -0.1)\">\n       <use xlink:href=\"#DejaVuSans-31\"/>\n       <use xlink:href=\"#DejaVuSans-35\" x=\"63.623047\"/>\n      </g>\n     </g>\n    </g>\n    <g id=\"xtick_11\">\n     <g id=\"line2d_19\">\n      <g>\n       <use xlink:href=\"#mf36b87b8e8\" x=\"856.647366\" y=\"299.518125\" style=\"stroke: #000000; stroke-width: 0.8\"/>\n      </g>\n     </g>\n     <g id=\"text_21\">\n      <!-- 20 -->\n      <g transform=\"translate(850.284866 314.116563) scale(0.1 -0.1)\">\n       <use xlink:href=\"#DejaVuSans-32\"/>\n       <use xlink:href=\"#DejaVuSans-30\" x=\"63.623047\"/>\n      </g>\n     </g>\n    </g>\n    <g id=\"xtick_12\">\n     <g id=\"line2d_20\">\n      <g>\n       <use xlink:href=\"#mf36b87b8e8\" x=\"933.50687\" y=\"299.518125\" style=\"stroke: #000000; stroke-width: 0.8\"/>\n      </g>\n     </g>\n     <g id=\"text_22\">\n      <!-- 25 -->\n      <g transform=\"translate(927.14437 314.116563) scale(0.1 -0.1)\">\n       <use xlink:href=\"#DejaVuSans-32\"/>\n       <use xlink:href=\"#DejaVuSans-35\" x=\"63.623047\"/>\n      </g>\n     </g>\n    </g>\n    <g id=\"text_23\">\n     <!-- Epochs -->\n     <g transform=\"translate(715.756534 327.794688) scale(0.1 -0.1)\">\n      <use xlink:href=\"#DejaVuSans-45\"/>\n      <use xlink:href=\"#DejaVuSans-70\" x=\"63.183594\"/>\n      <use xlink:href=\"#DejaVuSans-6f\" x=\"126.660156\"/>\n      <use xlink:href=\"#DejaVuSans-63\" x=\"187.841797\"/>\n      <use xlink:href=\"#DejaVuSans-68\" x=\"242.822266\"/>\n      <use xlink:href=\"#DejaVuSans-73\" x=\"306.201172\"/>\n     </g>\n    </g>\n   </g>\n   <g id=\"matplotlib.axis_4\">\n    <g id=\"ytick_8\">\n     <g id=\"line2d_21\">\n      <g>\n       <use xlink:href=\"#m397de6a319\" x=\"530.763068\" y=\"299.518125\" style=\"stroke: #000000; stroke-width: 0.8\"/>\n      </g>\n     </g>\n     <g id=\"text_24\">\n      <!-- 10 -->\n      <g transform=\"translate(511.038068 303.317344) scale(0.1 -0.1)\">\n       <use xlink:href=\"#DejaVuSans-31\"/>\n       <use xlink:href=\"#DejaVuSans-30\" x=\"63.623047\"/>\n      </g>\n     </g>\n    </g>\n    <g id=\"ytick_9\">\n     <g id=\"line2d_22\">\n      <g>\n       <use xlink:href=\"#m397de6a319\" x=\"530.763068\" y=\"268.718125\" style=\"stroke: #000000; stroke-width: 0.8\"/>\n      </g>\n     </g>\n     <g id=\"text_25\">\n      <!-- 20 -->\n      <g transform=\"translate(511.038068 272.517344) scale(0.1 -0.1)\">\n       <use xlink:href=\"#DejaVuSans-32\"/>\n       <use xlink:href=\"#DejaVuSans-30\" x=\"63.623047\"/>\n      </g>\n     </g>\n    </g>\n    <g id=\"ytick_10\">\n     <g id=\"line2d_23\">\n      <g>\n       <use xlink:href=\"#m397de6a319\" x=\"530.763068\" y=\"237.918125\" style=\"stroke: #000000; stroke-width: 0.8\"/>\n      </g>\n     </g>\n     <g id=\"text_26\">\n      <!-- 30 -->\n      <g transform=\"translate(511.038068 241.717344) scale(0.1 -0.1)\">\n       <use xlink:href=\"#DejaVuSans-33\"/>\n       <use xlink:href=\"#DejaVuSans-30\" x=\"63.623047\"/>\n      </g>\n     </g>\n    </g>\n    <g id=\"ytick_11\">\n     <g id=\"line2d_24\">\n      <g>\n       <use xlink:href=\"#m397de6a319\" x=\"530.763068\" y=\"207.118125\" style=\"stroke: #000000; stroke-width: 0.8\"/>\n      </g>\n     </g>\n     <g id=\"text_27\">\n      <!-- 40 -->\n      <g transform=\"translate(511.038068 210.917344) scale(0.1 -0.1)\">\n       <defs>\n        <path id=\"DejaVuSans-34\" d=\"M 2419 4116 \nL 825 1625 \nL 2419 1625 \nL 2419 4116 \nz\nM 2253 4666 \nL 3047 4666 \nL 3047 1625 \nL 3713 1625 \nL 3713 1100 \nL 3047 1100 \nL 3047 0 \nL 2419 0 \nL 2419 1100 \nL 313 1100 \nL 313 1709 \nL 2253 4666 \nz\n\" transform=\"scale(0.015625)\"/>\n       </defs>\n       <use xlink:href=\"#DejaVuSans-34\"/>\n       <use xlink:href=\"#DejaVuSans-30\" x=\"63.623047\"/>\n      </g>\n     </g>\n    </g>\n    <g id=\"ytick_12\">\n     <g id=\"line2d_25\">\n      <g>\n       <use xlink:href=\"#m397de6a319\" x=\"530.763068\" y=\"176.318125\" style=\"stroke: #000000; stroke-width: 0.8\"/>\n      </g>\n     </g>\n     <g id=\"text_28\">\n      <!-- 50 -->\n      <g transform=\"translate(511.038068 180.117344) scale(0.1 -0.1)\">\n       <use xlink:href=\"#DejaVuSans-35\"/>\n       <use xlink:href=\"#DejaVuSans-30\" x=\"63.623047\"/>\n      </g>\n     </g>\n    </g>\n    <g id=\"ytick_13\">\n     <g id=\"line2d_26\">\n      <g>\n       <use xlink:href=\"#m397de6a319\" x=\"530.763068\" y=\"145.518125\" style=\"stroke: #000000; stroke-width: 0.8\"/>\n      </g>\n     </g>\n     <g id=\"text_29\">\n      <!-- 60 -->\n      <g transform=\"translate(511.038068 149.317344) scale(0.1 -0.1)\">\n       <defs>\n        <path id=\"DejaVuSans-36\" d=\"M 2113 2584 \nQ 1688 2584 1439 2293 \nQ 1191 2003 1191 1497 \nQ 1191 994 1439 701 \nQ 1688 409 2113 409 \nQ 2538 409 2786 701 \nQ 3034 994 3034 1497 \nQ 3034 2003 2786 2293 \nQ 2538 2584 2113 2584 \nz\nM 3366 4563 \nL 3366 3988 \nQ 3128 4100 2886 4159 \nQ 2644 4219 2406 4219 \nQ 1781 4219 1451 3797 \nQ 1122 3375 1075 2522 \nQ 1259 2794 1537 2939 \nQ 1816 3084 2150 3084 \nQ 2853 3084 3261 2657 \nQ 3669 2231 3669 1497 \nQ 3669 778 3244 343 \nQ 2819 -91 2113 -91 \nQ 1303 -91 875 529 \nQ 447 1150 447 2328 \nQ 447 3434 972 4092 \nQ 1497 4750 2381 4750 \nQ 2619 4750 2861 4703 \nQ 3103 4656 3366 4563 \nz\n\" transform=\"scale(0.015625)\"/>\n       </defs>\n       <use xlink:href=\"#DejaVuSans-36\"/>\n       <use xlink:href=\"#DejaVuSans-30\" x=\"63.623047\"/>\n      </g>\n     </g>\n    </g>\n    <g id=\"ytick_14\">\n     <g id=\"line2d_27\">\n      <g>\n       <use xlink:href=\"#m397de6a319\" x=\"530.763068\" y=\"114.718125\" style=\"stroke: #000000; stroke-width: 0.8\"/>\n      </g>\n     </g>\n     <g id=\"text_30\">\n      <!-- 70 -->\n      <g transform=\"translate(511.038068 118.517344) scale(0.1 -0.1)\">\n       <defs>\n        <path id=\"DejaVuSans-37\" d=\"M 525 4666 \nL 3525 4666 \nL 3525 4397 \nL 1831 0 \nL 1172 0 \nL 2766 4134 \nL 525 4134 \nL 525 4666 \nz\n\" transform=\"scale(0.015625)\"/>\n       </defs>\n       <use xlink:href=\"#DejaVuSans-37\"/>\n       <use xlink:href=\"#DejaVuSans-30\" x=\"63.623047\"/>\n      </g>\n     </g>\n    </g>\n    <g id=\"ytick_15\">\n     <g id=\"line2d_28\">\n      <g>\n       <use xlink:href=\"#m397de6a319\" x=\"530.763068\" y=\"83.918125\" style=\"stroke: #000000; stroke-width: 0.8\"/>\n      </g>\n     </g>\n     <g id=\"text_31\">\n      <!-- 80 -->\n      <g transform=\"translate(511.038068 87.717344) scale(0.1 -0.1)\">\n       <defs>\n        <path id=\"DejaVuSans-38\" d=\"M 2034 2216 \nQ 1584 2216 1326 1975 \nQ 1069 1734 1069 1313 \nQ 1069 891 1326 650 \nQ 1584 409 2034 409 \nQ 2484 409 2743 651 \nQ 3003 894 3003 1313 \nQ 3003 1734 2745 1975 \nQ 2488 2216 2034 2216 \nz\nM 1403 2484 \nQ 997 2584 770 2862 \nQ 544 3141 544 3541 \nQ 544 4100 942 4425 \nQ 1341 4750 2034 4750 \nQ 2731 4750 3128 4425 \nQ 3525 4100 3525 3541 \nQ 3525 3141 3298 2862 \nQ 3072 2584 2669 2484 \nQ 3125 2378 3379 2068 \nQ 3634 1759 3634 1313 \nQ 3634 634 3220 271 \nQ 2806 -91 2034 -91 \nQ 1263 -91 848 271 \nQ 434 634 434 1313 \nQ 434 1759 690 2068 \nQ 947 2378 1403 2484 \nz\nM 1172 3481 \nQ 1172 3119 1398 2916 \nQ 1625 2713 2034 2713 \nQ 2441 2713 2670 2916 \nQ 2900 3119 2900 3481 \nQ 2900 3844 2670 4047 \nQ 2441 4250 2034 4250 \nQ 1625 4250 1398 4047 \nQ 1172 3844 1172 3481 \nz\n\" transform=\"scale(0.015625)\"/>\n       </defs>\n       <use xlink:href=\"#DejaVuSans-38\"/>\n       <use xlink:href=\"#DejaVuSans-30\" x=\"63.623047\"/>\n      </g>\n     </g>\n    </g>\n    <g id=\"ytick_16\">\n     <g id=\"line2d_29\">\n      <g>\n       <use xlink:href=\"#m397de6a319\" x=\"530.763068\" y=\"53.118125\" style=\"stroke: #000000; stroke-width: 0.8\"/>\n      </g>\n     </g>\n     <g id=\"text_32\">\n      <!-- 90 -->\n      <g transform=\"translate(511.038068 56.917344) scale(0.1 -0.1)\">\n       <defs>\n        <path id=\"DejaVuSans-39\" d=\"M 703 97 \nL 703 672 \nQ 941 559 1184 500 \nQ 1428 441 1663 441 \nQ 2288 441 2617 861 \nQ 2947 1281 2994 2138 \nQ 2813 1869 2534 1725 \nQ 2256 1581 1919 1581 \nQ 1219 1581 811 2004 \nQ 403 2428 403 3163 \nQ 403 3881 828 4315 \nQ 1253 4750 1959 4750 \nQ 2769 4750 3195 4129 \nQ 3622 3509 3622 2328 \nQ 3622 1225 3098 567 \nQ 2575 -91 1691 -91 \nQ 1453 -91 1209 -44 \nQ 966 3 703 97 \nz\nM 1959 2075 \nQ 2384 2075 2632 2365 \nQ 2881 2656 2881 3163 \nQ 2881 3666 2632 3958 \nQ 2384 4250 1959 4250 \nQ 1534 4250 1286 3958 \nQ 1038 3666 1038 3163 \nQ 1038 2656 1286 2365 \nQ 1534 2075 1959 2075 \nz\n\" transform=\"scale(0.015625)\"/>\n       </defs>\n       <use xlink:href=\"#DejaVuSans-39\"/>\n       <use xlink:href=\"#DejaVuSans-30\" x=\"63.623047\"/>\n      </g>\n     </g>\n    </g>\n    <g id=\"ytick_17\">\n     <g id=\"line2d_30\">\n      <g>\n       <use xlink:href=\"#m397de6a319\" x=\"530.763068\" y=\"22.318125\" style=\"stroke: #000000; stroke-width: 0.8\"/>\n      </g>\n     </g>\n     <g id=\"text_33\">\n      <!-- 100 -->\n      <g transform=\"translate(504.675568 26.117344) scale(0.1 -0.1)\">\n       <use xlink:href=\"#DejaVuSans-31\"/>\n       <use xlink:href=\"#DejaVuSans-30\" x=\"63.623047\"/>\n       <use xlink:href=\"#DejaVuSans-30\" x=\"127.246094\"/>\n      </g>\n     </g>\n    </g>\n    <g id=\"text_34\">\n     <!-- Accuracy (%) -->\n     <g transform=\"translate(498.595881 193.987656) rotate(-90) scale(0.1 -0.1)\">\n      <defs>\n       <path id=\"DejaVuSans-41\" d=\"M 2188 4044 \nL 1331 1722 \nL 3047 1722 \nL 2188 4044 \nz\nM 1831 4666 \nL 2547 4666 \nL 4325 0 \nL 3669 0 \nL 3244 1197 \nL 1141 1197 \nL 716 0 \nL 50 0 \nL 1831 4666 \nz\n\" transform=\"scale(0.015625)\"/>\n       <path id=\"DejaVuSans-75\" d=\"M 544 1381 \nL 544 3500 \nL 1119 3500 \nL 1119 1403 \nQ 1119 906 1312 657 \nQ 1506 409 1894 409 \nQ 2359 409 2629 706 \nQ 2900 1003 2900 1516 \nL 2900 3500 \nL 3475 3500 \nL 3475 0 \nL 2900 0 \nL 2900 538 \nQ 2691 219 2414 64 \nQ 2138 -91 1772 -91 \nQ 1169 -91 856 284 \nQ 544 659 544 1381 \nz\nM 1991 3584 \nL 1991 3584 \nz\n\" transform=\"scale(0.015625)\"/>\n       <path id=\"DejaVuSans-72\" d=\"M 2631 2963 \nQ 2534 3019 2420 3045 \nQ 2306 3072 2169 3072 \nQ 1681 3072 1420 2755 \nQ 1159 2438 1159 1844 \nL 1159 0 \nL 581 0 \nL 581 3500 \nL 1159 3500 \nL 1159 2956 \nQ 1341 3275 1631 3429 \nQ 1922 3584 2338 3584 \nQ 2397 3584 2469 3576 \nQ 2541 3569 2628 3553 \nL 2631 2963 \nz\n\" transform=\"scale(0.015625)\"/>\n       <path id=\"DejaVuSans-61\" d=\"M 2194 1759 \nQ 1497 1759 1228 1600 \nQ 959 1441 959 1056 \nQ 959 750 1161 570 \nQ 1363 391 1709 391 \nQ 2188 391 2477 730 \nQ 2766 1069 2766 1631 \nL 2766 1759 \nL 2194 1759 \nz\nM 3341 1997 \nL 3341 0 \nL 2766 0 \nL 2766 531 \nQ 2569 213 2275 61 \nQ 1981 -91 1556 -91 \nQ 1019 -91 701 211 \nQ 384 513 384 1019 \nQ 384 1609 779 1909 \nQ 1175 2209 1959 2209 \nL 2766 2209 \nL 2766 2266 \nQ 2766 2663 2505 2880 \nQ 2244 3097 1772 3097 \nQ 1472 3097 1187 3025 \nQ 903 2953 641 2809 \nL 641 3341 \nQ 956 3463 1253 3523 \nQ 1550 3584 1831 3584 \nQ 2591 3584 2966 3190 \nQ 3341 2797 3341 1997 \nz\n\" transform=\"scale(0.015625)\"/>\n       <path id=\"DejaVuSans-79\" d=\"M 2059 -325 \nQ 1816 -950 1584 -1140 \nQ 1353 -1331 966 -1331 \nL 506 -1331 \nL 506 -850 \nL 844 -850 \nQ 1081 -850 1212 -737 \nQ 1344 -625 1503 -206 \nL 1606 56 \nL 191 3500 \nL 800 3500 \nL 1894 763 \nL 2988 3500 \nL 3597 3500 \nL 2059 -325 \nz\n\" transform=\"scale(0.015625)\"/>\n       <path id=\"DejaVuSans-28\" d=\"M 1984 4856 \nQ 1566 4138 1362 3434 \nQ 1159 2731 1159 2009 \nQ 1159 1288 1364 580 \nQ 1569 -128 1984 -844 \nL 1484 -844 \nQ 1016 -109 783 600 \nQ 550 1309 550 2009 \nQ 550 2706 781 3412 \nQ 1013 4119 1484 4856 \nL 1984 4856 \nz\n\" transform=\"scale(0.015625)\"/>\n       <path id=\"DejaVuSans-25\" d=\"M 4653 2053 \nQ 4381 2053 4226 1822 \nQ 4072 1591 4072 1178 \nQ 4072 772 4226 539 \nQ 4381 306 4653 306 \nQ 4919 306 5073 539 \nQ 5228 772 5228 1178 \nQ 5228 1588 5073 1820 \nQ 4919 2053 4653 2053 \nz\nM 4653 2450 \nQ 5147 2450 5437 2106 \nQ 5728 1763 5728 1178 \nQ 5728 594 5436 251 \nQ 5144 -91 4653 -91 \nQ 4153 -91 3862 251 \nQ 3572 594 3572 1178 \nQ 3572 1766 3864 2108 \nQ 4156 2450 4653 2450 \nz\nM 1428 4353 \nQ 1159 4353 1004 4120 \nQ 850 3888 850 3481 \nQ 850 3069 1003 2837 \nQ 1156 2606 1428 2606 \nQ 1700 2606 1854 2837 \nQ 2009 3069 2009 3481 \nQ 2009 3884 1853 4118 \nQ 1697 4353 1428 4353 \nz\nM 4250 4750 \nL 4750 4750 \nL 1831 -91 \nL 1331 -91 \nL 4250 4750 \nz\nM 1428 4750 \nQ 1922 4750 2215 4408 \nQ 2509 4066 2509 3481 \nQ 2509 2891 2217 2550 \nQ 1925 2209 1428 2209 \nQ 931 2209 642 2551 \nQ 353 2894 353 3481 \nQ 353 4063 643 4406 \nQ 934 4750 1428 4750 \nz\n\" transform=\"scale(0.015625)\"/>\n       <path id=\"DejaVuSans-29\" d=\"M 513 4856 \nL 1013 4856 \nQ 1481 4119 1714 3412 \nQ 1947 2706 1947 2009 \nQ 1947 1309 1714 600 \nQ 1481 -109 1013 -844 \nL 513 -844 \nQ 928 -128 1133 580 \nQ 1338 1288 1338 2009 \nQ 1338 2731 1133 3434 \nQ 928 4138 513 4856 \nz\n\" transform=\"scale(0.015625)\"/>\n      </defs>\n      <use xlink:href=\"#DejaVuSans-41\"/>\n      <use xlink:href=\"#DejaVuSans-63\" x=\"66.658203\"/>\n      <use xlink:href=\"#DejaVuSans-63\" x=\"121.638672\"/>\n      <use xlink:href=\"#DejaVuSans-75\" x=\"176.619141\"/>\n      <use xlink:href=\"#DejaVuSans-72\" x=\"239.998047\"/>\n      <use xlink:href=\"#DejaVuSans-61\" x=\"281.111328\"/>\n      <use xlink:href=\"#DejaVuSans-63\" x=\"342.390625\"/>\n      <use xlink:href=\"#DejaVuSans-79\" x=\"397.371094\"/>\n      <use xlink:href=\"#DejaVuSans-20\" x=\"456.550781\"/>\n      <use xlink:href=\"#DejaVuSans-28\" x=\"488.337891\"/>\n      <use xlink:href=\"#DejaVuSans-25\" x=\"527.351562\"/>\n      <use xlink:href=\"#DejaVuSans-29\" x=\"622.371094\"/>\n     </g>\n    </g>\n   </g>\n   <g id=\"line2d_31\">\n    <path d=\"M 549.209349 43.974375 \nL 564.58125 24.243125 \nL 579.953151 24.243125 \nL 595.325052 22.318125 \nL 610.696952 22.318125 \nL 626.068853 22.318125 \nL 641.440754 22.318125 \nL 656.812655 22.318125 \nL 672.184556 22.318125 \nL 687.556457 22.318125 \nL 702.928357 22.318125 \nL 718.300258 22.318125 \nL 733.672159 22.318125 \nL 749.04406 22.318125 \nL 764.415961 22.318125 \nL 779.787862 22.318125 \nL 795.159762 22.318125 \nL 810.531663 22.318125 \nL 825.903564 22.318125 \nL 841.275465 22.318125 \nL 856.647366 22.318125 \nL 872.019267 22.318125 \nL 887.391167 22.318125 \nL 902.763068 22.318125 \nL 918.134969 22.318125 \n\" clip-path=\"url(#p6829fd9749)\" style=\"fill: none; stroke: #1f77b4; stroke-width: 1.5; stroke-linecap: square\"/>\n   </g>\n   <g id=\"line2d_32\">\n    <path d=\"M 549.209349 95.468125 \nL 564.58125 22.318125 \nL 579.953151 22.318125 \nL 595.325052 22.318125 \nL 610.696952 22.318125 \nL 626.068853 22.318125 \nL 641.440754 22.318125 \nL 656.812655 22.318125 \nL 672.184556 22.318125 \nL 687.556457 22.318125 \nL 702.928357 22.318125 \nL 718.300258 22.318125 \nL 733.672159 22.318125 \nL 749.04406 22.318125 \nL 764.415961 22.318125 \nL 779.787862 22.318125 \nL 795.159762 22.318125 \nL 810.531663 22.318125 \nL 825.903564 22.318125 \nL 841.275465 22.318125 \nL 856.647366 22.318125 \nL 872.019267 22.318125 \nL 887.391167 22.318125 \nL 902.763068 22.318125 \nL 918.134969 22.318125 \n\" clip-path=\"url(#p6829fd9749)\" style=\"fill: none; stroke: #ff7f0e; stroke-width: 1.5; stroke-linecap: square\"/>\n   </g>\n   <g id=\"patch_8\">\n    <path d=\"M 530.763068 299.518125 \nL 530.763068 22.318125 \n\" style=\"fill: none; stroke: #000000; stroke-width: 0.8; stroke-linejoin: miter; stroke-linecap: square\"/>\n   </g>\n   <g id=\"patch_9\">\n    <path d=\"M 936.58125 299.518125 \nL 936.58125 22.318125 \n\" style=\"fill: none; stroke: #000000; stroke-width: 0.8; stroke-linejoin: miter; stroke-linecap: square\"/>\n   </g>\n   <g id=\"patch_10\">\n    <path d=\"M 530.763068 299.518125 \nL 936.58125 299.518125 \n\" style=\"fill: none; stroke: #000000; stroke-width: 0.8; stroke-linejoin: miter; stroke-linecap: square\"/>\n   </g>\n   <g id=\"patch_11\">\n    <path d=\"M 530.763068 22.318125 \nL 936.58125 22.318125 \n\" style=\"fill: none; stroke: #000000; stroke-width: 0.8; stroke-linejoin: miter; stroke-linecap: square\"/>\n   </g>\n   <g id=\"text_35\">\n    <!-- Final model dev set accuracy: 100.00% -->\n    <g transform=\"translate(616.050597 16.318125) scale(0.12 -0.12)\">\n     <defs>\n      <path id=\"DejaVuSans-46\" d=\"M 628 4666 \nL 3309 4666 \nL 3309 4134 \nL 1259 4134 \nL 1259 2759 \nL 3109 2759 \nL 3109 2228 \nL 1259 2228 \nL 1259 0 \nL 628 0 \nL 628 4666 \nz\n\" transform=\"scale(0.015625)\"/>\n      <path id=\"DejaVuSans-69\" d=\"M 603 3500 \nL 1178 3500 \nL 1178 0 \nL 603 0 \nL 603 3500 \nz\nM 603 4863 \nL 1178 4863 \nL 1178 4134 \nL 603 4134 \nL 603 4863 \nz\n\" transform=\"scale(0.015625)\"/>\n      <path id=\"DejaVuSans-6e\" d=\"M 3513 2113 \nL 3513 0 \nL 2938 0 \nL 2938 2094 \nQ 2938 2591 2744 2837 \nQ 2550 3084 2163 3084 \nQ 1697 3084 1428 2787 \nQ 1159 2491 1159 1978 \nL 1159 0 \nL 581 0 \nL 581 3500 \nL 1159 3500 \nL 1159 2956 \nQ 1366 3272 1645 3428 \nQ 1925 3584 2291 3584 \nQ 2894 3584 3203 3211 \nQ 3513 2838 3513 2113 \nz\n\" transform=\"scale(0.015625)\"/>\n      <path id=\"DejaVuSans-6d\" d=\"M 3328 2828 \nQ 3544 3216 3844 3400 \nQ 4144 3584 4550 3584 \nQ 5097 3584 5394 3201 \nQ 5691 2819 5691 2113 \nL 5691 0 \nL 5113 0 \nL 5113 2094 \nQ 5113 2597 4934 2840 \nQ 4756 3084 4391 3084 \nQ 3944 3084 3684 2787 \nQ 3425 2491 3425 1978 \nL 3425 0 \nL 2847 0 \nL 2847 2094 \nQ 2847 2600 2669 2842 \nQ 2491 3084 2119 3084 \nQ 1678 3084 1418 2786 \nQ 1159 2488 1159 1978 \nL 1159 0 \nL 581 0 \nL 581 3500 \nL 1159 3500 \nL 1159 2956 \nQ 1356 3278 1631 3431 \nQ 1906 3584 2284 3584 \nQ 2666 3584 2933 3390 \nQ 3200 3197 3328 2828 \nz\n\" transform=\"scale(0.015625)\"/>\n      <path id=\"DejaVuSans-76\" d=\"M 191 3500 \nL 800 3500 \nL 1894 563 \nL 2988 3500 \nL 3597 3500 \nL 2284 0 \nL 1503 0 \nL 191 3500 \nz\n\" transform=\"scale(0.015625)\"/>\n      <path id=\"DejaVuSans-74\" d=\"M 1172 4494 \nL 1172 3500 \nL 2356 3500 \nL 2356 3053 \nL 1172 3053 \nL 1172 1153 \nQ 1172 725 1289 603 \nQ 1406 481 1766 481 \nL 2356 481 \nL 2356 0 \nL 1766 0 \nQ 1100 0 847 248 \nQ 594 497 594 1153 \nL 594 3053 \nL 172 3053 \nL 172 3500 \nL 594 3500 \nL 594 4494 \nL 1172 4494 \nz\n\" transform=\"scale(0.015625)\"/>\n      <path id=\"DejaVuSans-3a\" d=\"M 750 794 \nL 1409 794 \nL 1409 0 \nL 750 0 \nL 750 794 \nz\nM 750 3309 \nL 1409 3309 \nL 1409 2516 \nL 750 2516 \nL 750 3309 \nz\n\" transform=\"scale(0.015625)\"/>\n     </defs>\n     <use xlink:href=\"#DejaVuSans-46\"/>\n     <use xlink:href=\"#DejaVuSans-69\" x=\"50.269531\"/>\n     <use xlink:href=\"#DejaVuSans-6e\" x=\"78.052734\"/>\n     <use xlink:href=\"#DejaVuSans-61\" x=\"141.431641\"/>\n     <use xlink:href=\"#DejaVuSans-6c\" x=\"202.710938\"/>\n     <use xlink:href=\"#DejaVuSans-20\" x=\"230.494141\"/>\n     <use xlink:href=\"#DejaVuSans-6d\" x=\"262.28125\"/>\n     <use xlink:href=\"#DejaVuSans-6f\" x=\"359.693359\"/>\n     <use xlink:href=\"#DejaVuSans-64\" x=\"420.875\"/>\n     <use xlink:href=\"#DejaVuSans-65\" x=\"484.351562\"/>\n     <use xlink:href=\"#DejaVuSans-6c\" x=\"545.875\"/>\n     <use xlink:href=\"#DejaVuSans-20\" x=\"573.658203\"/>\n     <use xlink:href=\"#DejaVuSans-64\" x=\"605.445312\"/>\n     <use xlink:href=\"#DejaVuSans-65\" x=\"668.921875\"/>\n     <use xlink:href=\"#DejaVuSans-76\" x=\"730.445312\"/>\n     <use xlink:href=\"#DejaVuSans-20\" x=\"789.625\"/>\n     <use xlink:href=\"#DejaVuSans-73\" x=\"821.412109\"/>\n     <use xlink:href=\"#DejaVuSans-65\" x=\"873.511719\"/>\n     <use xlink:href=\"#DejaVuSans-74\" x=\"935.035156\"/>\n     <use xlink:href=\"#DejaVuSans-20\" x=\"974.244141\"/>\n     <use xlink:href=\"#DejaVuSans-61\" x=\"1006.03125\"/>\n     <use xlink:href=\"#DejaVuSans-63\" x=\"1067.310547\"/>\n     <use xlink:href=\"#DejaVuSans-63\" x=\"1122.291016\"/>\n     <use xlink:href=\"#DejaVuSans-75\" x=\"1177.271484\"/>\n     <use xlink:href=\"#DejaVuSans-72\" x=\"1240.650391\"/>\n     <use xlink:href=\"#DejaVuSans-61\" x=\"1281.763672\"/>\n     <use xlink:href=\"#DejaVuSans-63\" x=\"1343.042969\"/>\n     <use xlink:href=\"#DejaVuSans-79\" x=\"1398.023438\"/>\n     <use xlink:href=\"#DejaVuSans-3a\" x=\"1449.953125\"/>\n     <use xlink:href=\"#DejaVuSans-20\" x=\"1483.644531\"/>\n     <use xlink:href=\"#DejaVuSans-31\" x=\"1515.431641\"/>\n     <use xlink:href=\"#DejaVuSans-30\" x=\"1579.054688\"/>\n     <use xlink:href=\"#DejaVuSans-30\" x=\"1642.677734\"/>\n     <use xlink:href=\"#DejaVuSans-2e\" x=\"1706.300781\"/>\n     <use xlink:href=\"#DejaVuSans-30\" x=\"1738.087891\"/>\n     <use xlink:href=\"#DejaVuSans-30\" x=\"1801.710938\"/>\n     <use xlink:href=\"#DejaVuSans-25\" x=\"1865.333984\"/>\n    </g>\n   </g>\n   <g id=\"legend_1\">\n    <g id=\"patch_12\">\n     <path d=\"M 858.209375 59.674375 \nL 929.58125 59.674375 \nQ 931.58125 59.674375 931.58125 57.674375 \nL 931.58125 29.318125 \nQ 931.58125 27.318125 929.58125 27.318125 \nL 858.209375 27.318125 \nQ 856.209375 27.318125 856.209375 29.318125 \nL 856.209375 57.674375 \nQ 856.209375 59.674375 858.209375 59.674375 \nz\n\" style=\"fill: #ffffff; opacity: 0.8; stroke: #cccccc; stroke-linejoin: miter\"/>\n    </g>\n    <g id=\"line2d_33\">\n     <path d=\"M 860.209375 35.416562 \nL 870.209375 35.416562 \nL 880.209375 35.416562 \n\" style=\"fill: none; stroke: #1f77b4; stroke-width: 1.5; stroke-linecap: square\"/>\n    </g>\n    <g id=\"text_36\">\n     <!-- Train -->\n     <g transform=\"translate(888.209375 38.916562) scale(0.1 -0.1)\">\n      <defs>\n       <path id=\"DejaVuSans-54\" d=\"M -19 4666 \nL 3928 4666 \nL 3928 4134 \nL 2272 4134 \nL 2272 0 \nL 1638 0 \nL 1638 4134 \nL -19 4134 \nL -19 4666 \nz\n\" transform=\"scale(0.015625)\"/>\n      </defs>\n      <use xlink:href=\"#DejaVuSans-54\"/>\n      <use xlink:href=\"#DejaVuSans-72\" x=\"46.333984\"/>\n      <use xlink:href=\"#DejaVuSans-61\" x=\"87.447266\"/>\n      <use xlink:href=\"#DejaVuSans-69\" x=\"148.726562\"/>\n      <use xlink:href=\"#DejaVuSans-6e\" x=\"176.509766\"/>\n     </g>\n    </g>\n    <g id=\"line2d_34\">\n     <path d=\"M 860.209375 50.094688 \nL 870.209375 50.094688 \nL 880.209375 50.094688 \n\" style=\"fill: none; stroke: #ff7f0e; stroke-width: 1.5; stroke-linecap: square\"/>\n    </g>\n    <g id=\"text_37\">\n     <!-- Dev Set -->\n     <g transform=\"translate(888.209375 53.594688) scale(0.1 -0.1)\">\n      <defs>\n       <path id=\"DejaVuSans-44\" d=\"M 1259 4147 \nL 1259 519 \nL 2022 519 \nQ 2988 519 3436 956 \nQ 3884 1394 3884 2338 \nQ 3884 3275 3436 3711 \nQ 2988 4147 2022 4147 \nL 1259 4147 \nz\nM 628 4666 \nL 1925 4666 \nQ 3281 4666 3915 4102 \nQ 4550 3538 4550 2338 \nQ 4550 1131 3912 565 \nQ 3275 0 1925 0 \nL 628 0 \nL 628 4666 \nz\n\" transform=\"scale(0.015625)\"/>\n       <path id=\"DejaVuSans-53\" d=\"M 3425 4513 \nL 3425 3897 \nQ 3066 4069 2747 4153 \nQ 2428 4238 2131 4238 \nQ 1616 4238 1336 4038 \nQ 1056 3838 1056 3469 \nQ 1056 3159 1242 3001 \nQ 1428 2844 1947 2747 \nL 2328 2669 \nQ 3034 2534 3370 2195 \nQ 3706 1856 3706 1288 \nQ 3706 609 3251 259 \nQ 2797 -91 1919 -91 \nQ 1588 -91 1214 -16 \nQ 841 59 441 206 \nL 441 856 \nQ 825 641 1194 531 \nQ 1563 422 1919 422 \nQ 2459 422 2753 634 \nQ 3047 847 3047 1241 \nQ 3047 1584 2836 1778 \nQ 2625 1972 2144 2069 \nL 1759 2144 \nQ 1053 2284 737 2584 \nQ 422 2884 422 3419 \nQ 422 4038 858 4394 \nQ 1294 4750 2059 4750 \nQ 2388 4750 2728 4690 \nQ 3069 4631 3425 4513 \nz\n\" transform=\"scale(0.015625)\"/>\n      </defs>\n      <use xlink:href=\"#DejaVuSans-44\"/>\n      <use xlink:href=\"#DejaVuSans-65\" x=\"77.001953\"/>\n      <use xlink:href=\"#DejaVuSans-76\" x=\"138.525391\"/>\n      <use xlink:href=\"#DejaVuSans-20\" x=\"197.705078\"/>\n      <use xlink:href=\"#DejaVuSans-53\" x=\"229.492188\"/>\n      <use xlink:href=\"#DejaVuSans-65\" x=\"292.96875\"/>\n      <use xlink:href=\"#DejaVuSans-74\" x=\"354.492188\"/>\n     </g>\n    </g>\n   </g>\n  </g>\n </g>\n <defs>\n  <clipPath id=\"pe442de650c\">\n   <rect x=\"43.78125\" y=\"22.318125\" width=\"405.818182\" height=\"277.2\"/>\n  </clipPath>\n  <clipPath id=\"p6829fd9749\">\n   <rect x=\"530.763068\" y=\"22.318125\" width=\"405.818182\" height=\"277.2\"/>\n  </clipPath>\n </defs>\n</svg>\n"
          },
          "metadata": {}
        }
      ]
    },
    {
      "cell_type": "code",
      "source": [
        "# Check accuracy on test set\n",
        "net.eval()\n",
        "net.cpu()\n",
        "X,y = next(iter(test_loader)) # extract X,y from test dataloader\n",
        "with torch.no_grad(): # deactivates autograd\n",
        "  yHat = net(X)\n",
        "\n",
        "print(\"Test Set Accuracy:\",100*torch.mean((torch.argmax(yHat,axis=1)==torch.argmax(y,axis=1)).float()) )"
      ],
      "metadata": {
        "colab": {
          "base_uri": "https://localhost:8080/"
        },
        "id": "yTE1bjtCi9D6",
        "outputId": "5a8cdb12-083e-407c-d384-7f74749de9a2"
      },
      "execution_count": null,
      "outputs": [
        {
          "output_type": "stream",
          "name": "stdout",
          "text": [
            "Test Set Accuracy: tensor(100.)\n"
          ]
        }
      ]
    },
    {
      "cell_type": "markdown",
      "source": [
        "### Determine which features have the greatest weights in the first layer"
      ],
      "metadata": {
        "id": "NcU1AgPrBgNm"
      }
    },
    {
      "cell_type": "code",
      "source": [
        "# Determine the sum of weights per input feature between input layer and hidden layer.\n",
        "\n",
        "# Access the weights in the input layer of the model\n",
        "weights = net.input.weight.data\n",
        "\n",
        "# Sum along the dimension corresponding to the neuron\n",
        "weights_sum = torch.sum(torch.abs(weights),dim=0)\n",
        "max_weights, max_indices = torch.topk(weights_sum, k=1000, largest=True) # getting the 1000 features with the greatest weights\n",
        "print(max_weights[:10])\n",
        "# Print the genes that have the highest weights associated with them in the input layer\n",
        "print(clean_data_df.columns[max_indices][:10])\n",
        "\n",
        "\n",
        "\n",
        "\n"
      ],
      "metadata": {
        "colab": {
          "base_uri": "https://localhost:8080/"
        },
        "id": "EhyDFQtggtQp",
        "outputId": "c357daa4-504d-4df7-93a9-0259d64674d4"
      },
      "execution_count": null,
      "outputs": [
        {
          "output_type": "stream",
          "name": "stdout",
          "text": [
            "tensor([28.1198, 28.0934, 27.8497, 27.8427, 27.7265, 27.6814, 27.6232, 27.5776,\n",
            "        27.5553, 27.4533])\n",
            "Index(['gene_17801', 'gene_8005', 'gene_7623', 'gene_8013', 'gene_19661',\n",
            "       'gene_7964', 'gene_8004', 'gene_1317', 'gene_15613', 'gene_8031'],\n",
            "      dtype='object')\n"
          ]
        }
      ]
    },
    {
      "cell_type": "markdown",
      "source": [
        "### Does shuffling those features one by one affect the performance of the model?\n",
        "- By randomizing the each feature one-by-one and testing the model accuracy, I hope to see a decrease in performance of the model associated with the most important features"
      ],
      "metadata": {
        "id": "-6E40T60BqQA"
      }
    },
    {
      "cell_type": "code",
      "source": [
        "# A function to shuffle a column in our dataset\n",
        "\n",
        "def colshuff(df,col_to_shuff):\n",
        "  shuffled_values = np.random.permutation(df.iloc[:,col_to_shuff])\n",
        "  new_df = df.copy()\n",
        "  new_df.iloc[:,col_to_shuff] = shuffled_values\n",
        "  return new_df\n"
      ],
      "metadata": {
        "id": "XghetiBnebtW"
      },
      "execution_count": null,
      "outputs": []
    },
    {
      "cell_type": "code",
      "source": [
        "col_counter = 1\n",
        "accList=[]\n",
        "\n",
        "for col in max_indices:\n",
        "  col=int(col)\n",
        "\n",
        "  # Shuffle a column in our normalized data df\n",
        "  shuf_df = colshuff(data_normalized,col)\n",
        "\n",
        "  # Package into data loader\n",
        "  dataT_shuf  = torch.tensor(shuf_df.values).float()\n",
        "  shuf_set = TensorDataset(dataT_shuf,labelsT)\n",
        "  shuf_loader = DataLoader(shuf_set,  batch_size=len(shuf_set))\n",
        "\n",
        "  # Apply trained network to our DL with shuffled column\n",
        "  X,y=next(iter(shuf_loader))\n",
        "\n",
        "  # Send data and net to GPU\n",
        "  X = X.to(device)\n",
        "  y = y.to(device)\n",
        "  net.to(device)\n",
        "\n",
        "  #Make sure net is in eval mode\n",
        "  net.eval()\n",
        "\n",
        "  with torch.no_grad(): # deactivates autograd\n",
        "    yHat = net(X)\n",
        "  acc = 100*torch.mean((torch.argmax(yHat,axis=1)==torch.argmax(y,axis=1)).float())\n",
        "  acc = acc.cpu()\n",
        "  accList.append(acc)\n",
        "\n",
        "  msg = f'Finished Column {col_counter}/{len(max_indices)}'\n",
        "  sys.stdout.write('\\r' + msg)\n",
        "\n",
        "  col_counter+=1\n"
      ],
      "metadata": {
        "id": "dacWz-Ponx7F"
      },
      "execution_count": null,
      "outputs": []
    },
    {
      "cell_type": "code",
      "source": [
        "print(min(accList))"
      ],
      "metadata": {
        "colab": {
          "base_uri": "https://localhost:8080/"
        },
        "id": "ZmThqjQ8IgVy",
        "outputId": "d6cd29fc-7c3a-4df7-9948-4eee7688e722"
      },
      "execution_count": null,
      "outputs": [
        {
          "output_type": "stream",
          "name": "stdout",
          "text": [
            "tensor(100.)\n"
          ]
        }
      ]
    },
    {
      "cell_type": "markdown",
      "source": [
        "### Analysis\n",
        "- Even after individually shuffling the 1000 columns with the greatest weights and checking the accuracy of our network, our network was still accurate 100 percent of the time.\n",
        "- I was hoping that shuffling some of the columns would reduce the accuracy of the network, thereby telling us which columns are the most important in classification"
      ],
      "metadata": {
        "id": "kgMGs-3KIi2T"
      }
    },
    {
      "cell_type": "markdown",
      "source": [
        "### Train the model multiple times and determine which feature, on average, has the greatest weights in the first layer\n"
      ],
      "metadata": {
        "id": "tFavADg_6Z8-"
      }
    },
    {
      "cell_type": "code",
      "source": [
        "times_to_train=30\n",
        "all_weights_sum = torch.zeros(20531)\n",
        "\n",
        "for i in range(times_to_train):\n",
        "\n",
        "  # Train the model\n",
        "  trainAcc,devAcc,losses,net = function2trainTheModel(.01)\n",
        "\n",
        "  #get the weights between the input data and the first hidden layer\n",
        "  net.cpu()\n",
        "  weights = net.input.weight.data\n",
        "  weights_sum = torch.sum(torch.abs(weights),dim=0)\n",
        "\n",
        "  #add weights to all weights\n",
        "  all_weights_sum+=weights_sum\n",
        "\n",
        "avg_weights=all_weights_sum/times_to_train\n",
        "\n",
        "# Find the largest avg weights and their indicies\n",
        "max_avg_weights, max_avg_indices = torch.topk(avg_weights, k=10, largest=True)\n",
        "\n",
        "# Print the largest average weights\n",
        "print(max_avg_weights)\n",
        "\n",
        "# Print the genes that have the highest weights associated with them in the input layer\n",
        "print(clean_data_df.columns[max_avg_indices])\n"
      ],
      "metadata": {
        "id": "isEp4gic6YxC",
        "colab": {
          "base_uri": "https://localhost:8080/"
        },
        "outputId": "db54c33d-3ad3-436c-bf93-05f0a4e6ed37"
      },
      "execution_count": null,
      "outputs": [
        {
          "output_type": "stream",
          "name": "stdout",
          "text": [
            "Finished epoch 25/25tensor([40.1580, 39.9164, 39.3119, 38.6956, 38.3971, 37.8675, 37.7375, 37.5454,\n",
            "        37.3253, 37.2152])\n",
            "Index(['gene_15895', 'gene_11903', 'gene_5578', 'gene_15898', 'gene_15896',\n",
            "       'gene_7623', 'gene_17801', 'gene_7964', 'gene_2318', 'gene_11576'],\n",
            "      dtype='object')\n"
          ]
        }
      ]
    },
    {
      "cell_type": "markdown",
      "source": [
        "### Analysis:\n",
        "- Now that we've determined which genes tended to be the most important in the first layer of this model, the next step would be to match the gene ID to the gene itself.\n",
        "- Unfortunately, the information about which genes are associated with which gene IDs is not readily available.\n",
        "- Consider this network to be more proof of concept: given gene expressions of patients, we are able to determine which type of tumor they have.\n",
        "- Further work should investigate the biological importance of genes that are the most important in this classification network.\n",
        "- Further work could also expand this network to include more tumor varieties, as well as include gene expression data from healthy patients."
      ],
      "metadata": {
        "id": "38WtvpSHE8OS"
      }
    },
    {
      "cell_type": "markdown",
      "source": [
        "## Brute Force Determination of Feature Importance\n",
        "- The following code tests the network's accuracy by independently shuffling every feature and running the modified the data through the network.\n",
        "- The feature, when shuffled, that yields the lowest network accuracy, should be the most important feature.\n",
        "- When the features with the greatest weights were shuffled, there was no observed effect on accuracy, so this likely wouldn't yield any notable results.\n",
        "- This is also computationally expensive and for that reason was not executed here."
      ],
      "metadata": {
        "id": "VH5Qze8G4HHN"
      }
    },
    {
      "cell_type": "code",
      "source": [
        "accList =[]\n",
        "for col in range(data_normalized.shape[1]):\n",
        "\n",
        "  # Shuffle a column in our normalized data df\n",
        "  shuf_df = colshuff(data_normalized,col)\n",
        "\n",
        "  # Package into data loader\n",
        "  dataT_shuf  = torch.tensor(shuf_df.values).float()\n",
        "  shuf_set = TensorDataset(dataT_shuf,labelsT)\n",
        "  shuf_loader = DataLoader(shuf_set,  batch_size=len(shuf_set))\n",
        "\n",
        "  # Apply trained network to our DL with shuffled column\n",
        "  X,y=next(iter(shuf_loader))\n",
        "\n",
        "  # Send data and net to GPU\n",
        "  X = X.to(device)\n",
        "  y = y.to(device)\n",
        "  net.to(device)\n",
        "\n",
        "  #Make sure net is in eval mode\n",
        "  net.eval()\n",
        "\n",
        "  with torch.no_grad(): # deactivates autograd\n",
        "    yHat = net(X)\n",
        "  acc = 100*torch.mean((torch.argmax(yHat,axis=1)==torch.argmax(y,axis=1)).float())\n",
        "  acc = acc.cpu()\n",
        "  accList.append(acc)\n",
        "  msg = f'Finished Column {col+1}/{data_normalized.shape[1]}'\n",
        "  sys.stdout.write('\\r' + msg)\n",
        "\n",
        "\n",
        "\n",
        "# Define the file path in Colab\n",
        "file_path_colab = '/content/accList.txt'\n",
        "\n",
        "# Open the file in write mode and write the list elements to the file\n",
        "with open(file_path_colab, 'w') as file:\n",
        "    for item in accList:\n",
        "        file.write(f\"{item}\\n\")\n",
        "\n",
        "# Define the file path in Google Drive\n",
        "file_path_drive = '/content/drive/MyDrive/coding_project/accList.txt'\n",
        "\n",
        "# Copy the file from Colab to Google Drive\n",
        "!cp $file_path_colab $file_path_drive\n",
        "\n",
        "# Display the saved file path in Google Drive\n",
        "print(f\"List saved to Google Drive: {file_path_drive}\")"
      ],
      "metadata": {
        "id": "kvqDaiX4GgXw"
      },
      "execution_count": null,
      "outputs": []
    }
  ]
}